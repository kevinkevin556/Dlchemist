{
  "nbformat": 4,
  "nbformat_minor": 0,
  "metadata": {
    "colab": {
      "provenance": [],
      "include_colab_link": true
    },
    "kernelspec": {
      "name": "python3",
      "display_name": "Python 3"
    },
    "language_info": {
      "name": "python"
    },
    "accelerator": "GPU",
    "gpuClass": "standard",
    "widgets": {
      "application/vnd.jupyter.widget-state+json": {
        "6427795f8d9f433781b8e82e5ff7196c": {
          "model_module": "@jupyter-widgets/controls",
          "model_name": "HBoxModel",
          "model_module_version": "1.5.0",
          "state": {
            "_dom_classes": [],
            "_model_module": "@jupyter-widgets/controls",
            "_model_module_version": "1.5.0",
            "_model_name": "HBoxModel",
            "_view_count": null,
            "_view_module": "@jupyter-widgets/controls",
            "_view_module_version": "1.5.0",
            "_view_name": "HBoxView",
            "box_style": "",
            "children": [
              "IPY_MODEL_74cdab209f0442fba226a2bf8124f27a",
              "IPY_MODEL_f3a637dbd71744dfaeb88e0937900326",
              "IPY_MODEL_7efd2ba54471464088431d77ec9dd21a"
            ],
            "layout": "IPY_MODEL_c94b23aa06cb4d52bf487000906fe56a"
          }
        },
        "74cdab209f0442fba226a2bf8124f27a": {
          "model_module": "@jupyter-widgets/controls",
          "model_name": "HTMLModel",
          "model_module_version": "1.5.0",
          "state": {
            "_dom_classes": [],
            "_model_module": "@jupyter-widgets/controls",
            "_model_module_version": "1.5.0",
            "_model_name": "HTMLModel",
            "_view_count": null,
            "_view_module": "@jupyter-widgets/controls",
            "_view_module_version": "1.5.0",
            "_view_name": "HTMLView",
            "description": "",
            "description_tooltip": null,
            "layout": "IPY_MODEL_86ff7519db424be18bee542a56333d2f",
            "placeholder": "​",
            "style": "IPY_MODEL_021de88738d04d8491754373aea731b4",
            "value": "100%"
          }
        },
        "f3a637dbd71744dfaeb88e0937900326": {
          "model_module": "@jupyter-widgets/controls",
          "model_name": "FloatProgressModel",
          "model_module_version": "1.5.0",
          "state": {
            "_dom_classes": [],
            "_model_module": "@jupyter-widgets/controls",
            "_model_module_version": "1.5.0",
            "_model_name": "FloatProgressModel",
            "_view_count": null,
            "_view_module": "@jupyter-widgets/controls",
            "_view_module_version": "1.5.0",
            "_view_name": "ProgressView",
            "bar_style": "success",
            "description": "",
            "description_tooltip": null,
            "layout": "IPY_MODEL_b4d87dc9fd1b4971988aac915d379fb3",
            "max": 170498071,
            "min": 0,
            "orientation": "horizontal",
            "style": "IPY_MODEL_ac6459a04dd14ba2b38e9596f4a12a40",
            "value": 170498071
          }
        },
        "7efd2ba54471464088431d77ec9dd21a": {
          "model_module": "@jupyter-widgets/controls",
          "model_name": "HTMLModel",
          "model_module_version": "1.5.0",
          "state": {
            "_dom_classes": [],
            "_model_module": "@jupyter-widgets/controls",
            "_model_module_version": "1.5.0",
            "_model_name": "HTMLModel",
            "_view_count": null,
            "_view_module": "@jupyter-widgets/controls",
            "_view_module_version": "1.5.0",
            "_view_name": "HTMLView",
            "description": "",
            "description_tooltip": null,
            "layout": "IPY_MODEL_a9c9e352acd94fceb72a009deb287124",
            "placeholder": "​",
            "style": "IPY_MODEL_5158bdedb8ce4bcc8085e6495c3685e1",
            "value": " 170498071/170498071 [00:03&lt;00:00, 53627635.02it/s]"
          }
        },
        "c94b23aa06cb4d52bf487000906fe56a": {
          "model_module": "@jupyter-widgets/base",
          "model_name": "LayoutModel",
          "model_module_version": "1.2.0",
          "state": {
            "_model_module": "@jupyter-widgets/base",
            "_model_module_version": "1.2.0",
            "_model_name": "LayoutModel",
            "_view_count": null,
            "_view_module": "@jupyter-widgets/base",
            "_view_module_version": "1.2.0",
            "_view_name": "LayoutView",
            "align_content": null,
            "align_items": null,
            "align_self": null,
            "border": null,
            "bottom": null,
            "display": null,
            "flex": null,
            "flex_flow": null,
            "grid_area": null,
            "grid_auto_columns": null,
            "grid_auto_flow": null,
            "grid_auto_rows": null,
            "grid_column": null,
            "grid_gap": null,
            "grid_row": null,
            "grid_template_areas": null,
            "grid_template_columns": null,
            "grid_template_rows": null,
            "height": null,
            "justify_content": null,
            "justify_items": null,
            "left": null,
            "margin": null,
            "max_height": null,
            "max_width": null,
            "min_height": null,
            "min_width": null,
            "object_fit": null,
            "object_position": null,
            "order": null,
            "overflow": null,
            "overflow_x": null,
            "overflow_y": null,
            "padding": null,
            "right": null,
            "top": null,
            "visibility": null,
            "width": null
          }
        },
        "86ff7519db424be18bee542a56333d2f": {
          "model_module": "@jupyter-widgets/base",
          "model_name": "LayoutModel",
          "model_module_version": "1.2.0",
          "state": {
            "_model_module": "@jupyter-widgets/base",
            "_model_module_version": "1.2.0",
            "_model_name": "LayoutModel",
            "_view_count": null,
            "_view_module": "@jupyter-widgets/base",
            "_view_module_version": "1.2.0",
            "_view_name": "LayoutView",
            "align_content": null,
            "align_items": null,
            "align_self": null,
            "border": null,
            "bottom": null,
            "display": null,
            "flex": null,
            "flex_flow": null,
            "grid_area": null,
            "grid_auto_columns": null,
            "grid_auto_flow": null,
            "grid_auto_rows": null,
            "grid_column": null,
            "grid_gap": null,
            "grid_row": null,
            "grid_template_areas": null,
            "grid_template_columns": null,
            "grid_template_rows": null,
            "height": null,
            "justify_content": null,
            "justify_items": null,
            "left": null,
            "margin": null,
            "max_height": null,
            "max_width": null,
            "min_height": null,
            "min_width": null,
            "object_fit": null,
            "object_position": null,
            "order": null,
            "overflow": null,
            "overflow_x": null,
            "overflow_y": null,
            "padding": null,
            "right": null,
            "top": null,
            "visibility": null,
            "width": null
          }
        },
        "021de88738d04d8491754373aea731b4": {
          "model_module": "@jupyter-widgets/controls",
          "model_name": "DescriptionStyleModel",
          "model_module_version": "1.5.0",
          "state": {
            "_model_module": "@jupyter-widgets/controls",
            "_model_module_version": "1.5.0",
            "_model_name": "DescriptionStyleModel",
            "_view_count": null,
            "_view_module": "@jupyter-widgets/base",
            "_view_module_version": "1.2.0",
            "_view_name": "StyleView",
            "description_width": ""
          }
        },
        "b4d87dc9fd1b4971988aac915d379fb3": {
          "model_module": "@jupyter-widgets/base",
          "model_name": "LayoutModel",
          "model_module_version": "1.2.0",
          "state": {
            "_model_module": "@jupyter-widgets/base",
            "_model_module_version": "1.2.0",
            "_model_name": "LayoutModel",
            "_view_count": null,
            "_view_module": "@jupyter-widgets/base",
            "_view_module_version": "1.2.0",
            "_view_name": "LayoutView",
            "align_content": null,
            "align_items": null,
            "align_self": null,
            "border": null,
            "bottom": null,
            "display": null,
            "flex": null,
            "flex_flow": null,
            "grid_area": null,
            "grid_auto_columns": null,
            "grid_auto_flow": null,
            "grid_auto_rows": null,
            "grid_column": null,
            "grid_gap": null,
            "grid_row": null,
            "grid_template_areas": null,
            "grid_template_columns": null,
            "grid_template_rows": null,
            "height": null,
            "justify_content": null,
            "justify_items": null,
            "left": null,
            "margin": null,
            "max_height": null,
            "max_width": null,
            "min_height": null,
            "min_width": null,
            "object_fit": null,
            "object_position": null,
            "order": null,
            "overflow": null,
            "overflow_x": null,
            "overflow_y": null,
            "padding": null,
            "right": null,
            "top": null,
            "visibility": null,
            "width": null
          }
        },
        "ac6459a04dd14ba2b38e9596f4a12a40": {
          "model_module": "@jupyter-widgets/controls",
          "model_name": "ProgressStyleModel",
          "model_module_version": "1.5.0",
          "state": {
            "_model_module": "@jupyter-widgets/controls",
            "_model_module_version": "1.5.0",
            "_model_name": "ProgressStyleModel",
            "_view_count": null,
            "_view_module": "@jupyter-widgets/base",
            "_view_module_version": "1.2.0",
            "_view_name": "StyleView",
            "bar_color": null,
            "description_width": ""
          }
        },
        "a9c9e352acd94fceb72a009deb287124": {
          "model_module": "@jupyter-widgets/base",
          "model_name": "LayoutModel",
          "model_module_version": "1.2.0",
          "state": {
            "_model_module": "@jupyter-widgets/base",
            "_model_module_version": "1.2.0",
            "_model_name": "LayoutModel",
            "_view_count": null,
            "_view_module": "@jupyter-widgets/base",
            "_view_module_version": "1.2.0",
            "_view_name": "LayoutView",
            "align_content": null,
            "align_items": null,
            "align_self": null,
            "border": null,
            "bottom": null,
            "display": null,
            "flex": null,
            "flex_flow": null,
            "grid_area": null,
            "grid_auto_columns": null,
            "grid_auto_flow": null,
            "grid_auto_rows": null,
            "grid_column": null,
            "grid_gap": null,
            "grid_row": null,
            "grid_template_areas": null,
            "grid_template_columns": null,
            "grid_template_rows": null,
            "height": null,
            "justify_content": null,
            "justify_items": null,
            "left": null,
            "margin": null,
            "max_height": null,
            "max_width": null,
            "min_height": null,
            "min_width": null,
            "object_fit": null,
            "object_position": null,
            "order": null,
            "overflow": null,
            "overflow_x": null,
            "overflow_y": null,
            "padding": null,
            "right": null,
            "top": null,
            "visibility": null,
            "width": null
          }
        },
        "5158bdedb8ce4bcc8085e6495c3685e1": {
          "model_module": "@jupyter-widgets/controls",
          "model_name": "DescriptionStyleModel",
          "model_module_version": "1.5.0",
          "state": {
            "_model_module": "@jupyter-widgets/controls",
            "_model_module_version": "1.5.0",
            "_model_name": "DescriptionStyleModel",
            "_view_count": null,
            "_view_module": "@jupyter-widgets/base",
            "_view_module_version": "1.2.0",
            "_view_name": "StyleView",
            "description_width": ""
          }
        }
      }
    }
  },
  "cells": [
    {
      "cell_type": "markdown",
      "metadata": {
        "id": "view-in-github",
        "colab_type": "text"
      },
      "source": [
        "<a href=\"https://colab.research.google.com/github/kevinkevin556/Dlchemist/blob/main/alexnet.ipynb\" target=\"_parent\"><img src=\"https://colab.research.google.com/assets/colab-badge.svg\" alt=\"Open In Colab\"/></a>"
      ]
    },
    {
      "cell_type": "markdown",
      "source": [
        "![alexnet.png](https://github.com/kevinkevin556/Dlchemist/blob/main/images/alexnet_banner.png?raw=true)"
      ],
      "metadata": {
        "id": "ZojT7MBKtG61"
      }
    },
    {
      "cell_type": "markdown",
      "source": [
        "This is an implementaiton of AlexNet, as introduced in the paper \"ImageNet Classification with Deep Convolutional Neural Networks\" by Alex Krizhevsky et al. ([original paper](https://papers.nips.cc/paper/4824-imagenet-classification-with-deep-convolutional-neural-networks.pdf))"
      ],
      "metadata": {
        "id": "PUVR-q64r0d6"
      }
    },
    {
      "cell_type": "markdown",
      "source": [
        "# **Section 1. Set up**"
      ],
      "metadata": {
        "id": "rhNHsfHLyXRH"
      }
    },
    {
      "cell_type": "code",
      "source": [
        "import numpy as np\n",
        "import torch\n",
        "import torch.nn as nn\n",
        "from torch import Tensor\n",
        "from tqdm import tqdm\n",
        "\n",
        "device = torch.device('cuda' if torch.cuda.is_available() else 'cpu')"
      ],
      "metadata": {
        "id": "-H3ltX8syaCo"
      },
      "execution_count": null,
      "outputs": []
    },
    {
      "cell_type": "markdown",
      "source": [
        "### *Dataset and DataLoader*"
      ],
      "metadata": {
        "id": "vNy9DkTTzDnB"
      }
    },
    {
      "cell_type": "code",
      "source": [
        "from torch.utils.data import random_split\n",
        "from torchvision.datasets import CIFAR10\n",
        "from torchvision.transforms import Compose, ToTensor, ToPILImage, Resize\n",
        "\n",
        "transform = Compose([Resize(224), ToTensor()])\n",
        "\n",
        "train_dataset = CIFAR10('./data', train=True, download=True, transform=transform)\n",
        "test_dataset = CIFAR10('./data', train=False, download=True, transform=transform) \n",
        "\n",
        "train_dataset, valid_dataset = random_split(\n",
        "    train_dataset, (0.8, 0.2), \n",
        "    generator = torch.Generator().manual_seed(42)\n",
        ")\n",
        "\n",
        "print(\"\\nData Size:\")\n",
        "print(\"* Training set   => \", len(train_dataset), \"images\")\n",
        "print(\"* Validation set => \", len(valid_dataset), \"images\")\n",
        "print(\"* Testing set    => \", len(test_dataset), \"images\")\n",
        "\n",
        "print(\"\\nImage Shape (C, H, W):\")\n",
        "print(\"* Training image:\", train_dataset[0][0].shape)\n",
        "print(\"* Testing image: \", test_dataset[0][0].shape)"
      ],
      "metadata": {
        "colab": {
          "base_uri": "https://localhost:8080/",
          "height": 257,
          "referenced_widgets": [
            "6427795f8d9f433781b8e82e5ff7196c",
            "74cdab209f0442fba226a2bf8124f27a",
            "f3a637dbd71744dfaeb88e0937900326",
            "7efd2ba54471464088431d77ec9dd21a",
            "c94b23aa06cb4d52bf487000906fe56a",
            "86ff7519db424be18bee542a56333d2f",
            "021de88738d04d8491754373aea731b4",
            "b4d87dc9fd1b4971988aac915d379fb3",
            "ac6459a04dd14ba2b38e9596f4a12a40",
            "a9c9e352acd94fceb72a009deb287124",
            "5158bdedb8ce4bcc8085e6495c3685e1"
          ]
        },
        "id": "-E6EWHNJzHtU",
        "outputId": "763fe270-2194-4b92-c286-e5d72bfccfe3"
      },
      "execution_count": null,
      "outputs": [
        {
          "output_type": "stream",
          "name": "stdout",
          "text": [
            "Downloading https://www.cs.toronto.edu/~kriz/cifar-10-python.tar.gz to ./data/cifar-10-python.tar.gz\n"
          ]
        },
        {
          "output_type": "display_data",
          "data": {
            "text/plain": [
              "  0%|          | 0/170498071 [00:00<?, ?it/s]"
            ],
            "application/vnd.jupyter.widget-view+json": {
              "version_major": 2,
              "version_minor": 0,
              "model_id": "6427795f8d9f433781b8e82e5ff7196c"
            }
          },
          "metadata": {}
        },
        {
          "output_type": "stream",
          "name": "stdout",
          "text": [
            "Extracting ./data/cifar-10-python.tar.gz to ./data\n",
            "Files already downloaded and verified\n",
            "\n",
            "Data Size:\n",
            "* Training set   =>  40000 images\n",
            "* Validation set =>  10000 images\n",
            "* Testing set    =>  10000 images\n",
            "\n",
            "Image Shape (C, H, W):\n",
            "* Training image: torch.Size([3, 224, 224])\n",
            "* Testing image:  torch.Size([3, 224, 224])\n"
          ]
        }
      ]
    },
    {
      "cell_type": "code",
      "source": [
        "n_view = 3\n",
        "sample_images = [train_dataset[i][0] for i in range(n_view)]\n",
        "sample_targets = [train_dataset[i][1] for i in range(n_view)]\n",
        "display(ToPILImage()(torch.dstack(sample_images)))\n",
        "print(sample_targets)"
      ],
      "metadata": {
        "colab": {
          "base_uri": "https://localhost:8080/",
          "height": 258
        },
        "id": "Qm7BTTlj7Nc6",
        "outputId": "c07bb40d-a56e-4aef-aa7d-959a407a2e5c"
      },
      "execution_count": null,
      "outputs": [
        {
          "output_type": "display_data",
          "data": {
            "text/plain": [
              "<PIL.Image.Image image mode=RGB size=672x224 at 0x7FEC387EB250>"
            ],
            "image/png": "[encoded data removed]"
          },
          "metadata": {}
        },
        {
          "output_type": "stream",
          "name": "stdout",
          "text": [
            "[6, 2, 8]\n"
          ]
        }
      ]
    },
    {
      "cell_type": "code",
      "source": [
        "from torch.utils.data import DataLoader\n",
        "train_dataloader = DataLoader(train_dataset, batch_size=128, shuffle=True, pin_memory=True)\n",
        "valid_dataloader = DataLoader(valid_dataset, batch_size=128, shuffle=False, pin_memory=True)\n",
        "test_dataloader = DataLoader(test_dataset, batch_size=128, shuffle=False, pin_memory=True)"
      ],
      "metadata": {
        "id": "CjGck5MS7xYc"
      },
      "execution_count": null,
      "outputs": []
    },
    {
      "cell_type": "markdown",
      "source": [
        "### *Network Structure*"
      ],
      "metadata": {
        "id": "q--LllAyF4jx"
      }
    },
    {
      "cell_type": "markdown",
      "source": [
        "![image.png](data:image/png;base64,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)"
      ],
      "metadata": {
        "id": "gYppUbKxIpkz"
      }
    },
    {
      "cell_type": "code",
      "source": [
        "from torch.nn import Conv2d, ReLU, MaxPool2d, Flatten, Linear, Sequential, Softmax\n",
        "\n",
        "class AlexNet(nn.Module):\n",
        "  def __init__(self, num_classes=10):\n",
        "    super().__init__()\n",
        "    self.net = Sequential()\n",
        "    self.net.add_module(\"Conv1\", Sequential(\n",
        "          Conv2d(in_channels=3, out_channels=48*2, kernel_size=11, stride=4),\n",
        "          ReLU(),\n",
        "          MaxPool2d(kernel_size=3, stride=2)\n",
        "    ))\n",
        "    self.net.add_module(\"Conv2\", Sequential(\n",
        "          Conv2d(in_channels=48*2, out_channels=128*2, kernel_size=5, padding=2),\n",
        "          ReLU(),\n",
        "          MaxPool2d(kernel_size=3, stride=2)\n",
        "    ))\n",
        "    self.net.add_module(\"Conv3\", Sequential(  \n",
        "        Conv2d(in_channels=128*2, out_channels=192*2, kernel_size=3, padding=1),\n",
        "        ReLU()\n",
        "    ))\n",
        "    self.net.add_module(\"Conv4\", Sequential(\n",
        "        Conv2d(in_channels=192*2, out_channels=192*2, kernel_size=3, padding=1),\n",
        "        ReLU()\n",
        "    ))\n",
        "    self.net.add_module(\"Conv5\", Sequential(\n",
        "        Conv2d(in_channels=192*2, out_channels=128*2, kernel_size=3, padding=1),\n",
        "        ReLU(),\n",
        "        MaxPool2d(kernel_size=3, stride=2)\n",
        "    ))\n",
        "\n",
        "    self.net.add_module(\"_\", Flatten())\n",
        "\n",
        "    self.net.add_module(\"FullyConnected6-8\", Sequential(\n",
        "        Linear(in_features=256*5*5, out_features=2048*2),\n",
        "        Linear(in_features=2048*2, out_features=4096*2),\n",
        "        Linear(in_features=4096*2, out_features=num_classes)\n",
        "    ))\n",
        "\n",
        "  def forward(self, x):\n",
        "    return self.net(x)\n",
        "\n",
        "print(AlexNet())"
      ],
      "metadata": {
        "colab": {
          "base_uri": "https://localhost:8080/"
        },
        "id": "vTo-Ht4RF4M3",
        "outputId": "ec6f2e67-cf1e-4020-aa8f-88d69770570b"
      },
      "execution_count": null,
      "outputs": [
        {
          "output_type": "stream",
          "name": "stdout",
          "text": [
            "AlexNet(\n",
            "  (net): Sequential(\n",
            "    (Conv1): Sequential(\n",
            "      (0): Conv2d(3, 96, kernel_size=(11, 11), stride=(4, 4))\n",
            "      (1): ReLU()\n",
            "      (2): MaxPool2d(kernel_size=3, stride=2, padding=0, dilation=1, ceil_mode=False)\n",
            "    )\n",
            "    (Conv2): Sequential(\n",
            "      (0): Conv2d(96, 256, kernel_size=(5, 5), stride=(1, 1), padding=(2, 2))\n",
            "      (1): ReLU()\n",
            "      (2): MaxPool2d(kernel_size=3, stride=2, padding=0, dilation=1, ceil_mode=False)\n",
            "    )\n",
            "    (Conv3): Sequential(\n",
            "      (0): Conv2d(256, 384, kernel_size=(3, 3), stride=(1, 1), padding=(1, 1))\n",
            "      (1): ReLU()\n",
            "    )\n",
            "    (Conv4): Sequential(\n",
            "      (0): Conv2d(384, 384, kernel_size=(3, 3), stride=(1, 1), padding=(1, 1))\n",
            "      (1): ReLU()\n",
            "    )\n",
            "    (Conv5): Sequential(\n",
            "      (0): Conv2d(384, 256, kernel_size=(3, 3), stride=(1, 1), padding=(1, 1))\n",
            "      (1): ReLU()\n",
            "      (2): MaxPool2d(kernel_size=3, stride=2, padding=0, dilation=1, ceil_mode=False)\n",
            "    )\n",
            "    (_): Flatten(start_dim=1, end_dim=-1)\n",
            "    (FullyConnected6-8): Sequential(\n",
            "      (0): Linear(in_features=6400, out_features=4096, bias=True)\n",
            "      (1): Linear(in_features=4096, out_features=8192, bias=True)\n",
            "      (2): Linear(in_features=8192, out_features=10, bias=True)\n",
            "    )\n",
            "  )\n",
            ")\n"
          ]
        }
      ]
    },
    {
      "cell_type": "code",
      "source": [
        "# Check forward path\n",
        "X = torch.randn(1, 3, 224, 224)\n",
        "for layer in AlexNet().net:\n",
        "    X=layer(X)\n",
        "    print(layer.__class__.__name__,'output shape:\\t',X.shape)"
      ],
      "metadata": {
        "colab": {
          "base_uri": "https://localhost:8080/"
        },
        "id": "Bbdt9Ki-XR1l",
        "outputId": "e1d4828b-23c7-4067-947b-f41349f0dccc"
      },
      "execution_count": null,
      "outputs": [
        {
          "output_type": "stream",
          "name": "stdout",
          "text": [
            "Sequential output shape:\t torch.Size([1, 96, 26, 26])\n",
            "Sequential output shape:\t torch.Size([1, 256, 12, 12])\n",
            "Sequential output shape:\t torch.Size([1, 384, 12, 12])\n",
            "Sequential output shape:\t torch.Size([1, 384, 12, 12])\n",
            "Sequential output shape:\t torch.Size([1, 256, 5, 5])\n",
            "Flatten output shape:\t torch.Size([1, 6400])\n",
            "Sequential output shape:\t torch.Size([1, 10])\n"
          ]
        }
      ]
    },
    {
      "cell_type": "markdown",
      "source": [
        "### *Test / Validation Step*"
      ],
      "metadata": {
        "id": "cxChrLkPEnFH"
      }
    },
    {
      "cell_type": "code",
      "source": [
        "def validate(model, dataloader, device=torch.device('cuda')):\n",
        "  model.eval()\n",
        "  acc = []\n",
        "\n",
        "  with torch.no_grad():\n",
        "    for images, targets in dataloader:\n",
        "      images, targets = images.to(device), targets.to(device)\n",
        "      preds = model(images)\n",
        "      pred_labels = torch.argmax(preds, dim=1)\n",
        "      acc.append((pred_labels == targets).type(torch.float32) .mean().item())\n",
        "  \n",
        "  return acc"
      ],
      "metadata": {
        "id": "tZ9GcuOcD32I"
      },
      "execution_count": null,
      "outputs": []
    },
    {
      "cell_type": "markdown",
      "source": [
        "### *Training Step*"
      ],
      "metadata": {
        "id": "6FOS76KSblIk"
      }
    },
    {
      "cell_type": "code",
      "source": [
        "def train(\n",
        "    model,\n",
        "    criterion,\n",
        "    optimizer,\n",
        "    train_dataloader,\n",
        "    valid_dataloader,\n",
        "    num_epochs = 1,\n",
        "    device = torch.device('cuda'),\n",
        "    state_dict = None\n",
        "):\n",
        "  \n",
        "  best_valid_acc = 0\n",
        "  \n",
        "  if state_dict is not None:\n",
        "    model.load_state_dict(state_dict)\n",
        "\n",
        "  for epoch in range(num_epochs):\n",
        "    model.train()\n",
        "    batch_losses = []\n",
        "    train_progress = tqdm(train_dataloader, position=0, leave=True)\n",
        "\n",
        "    ## Train\n",
        "    for images, targets in train_progress:\n",
        "      images, targets = images.to(device), targets.to(device)\n",
        "      preds = model(images)\n",
        "      loss = criterion(preds, targets)\n",
        "      optimizer.zero_grad()\n",
        "      loss.backward()\n",
        "      optimizer.step()\n",
        "\n",
        "      loss_value = loss.detach().item()\n",
        "      batch_losses.append(loss_value)\n",
        "      train_progress.set_description(f'Epoch [{epoch+1}/{num_epochs}]')\n",
        "      train_progress.set_postfix({'loss': loss_value})\n",
        "    \n",
        "    ## Validate and save the best model (if any)\n",
        "    valid_acc = validate(model,  valid_dataloader)\n",
        "    print(f\"Train Loss: {np.mean(batch_losses):.3f}, Valid Acc:{np.mean(valid_acc):.3f}\")\n",
        "    if np.mean(valid_acc) > best_valid_acc:\n",
        "      best_valid_acc = np.mean(valid_acc)\n",
        "      torch.save(model.state_dict(), \"model_state_dict.ckpt\")"
      ],
      "metadata": {
        "id": "qXRC53f0boB3"
      },
      "execution_count": null,
      "outputs": []
    },
    {
      "cell_type": "markdown",
      "source": [
        "# **Section 2. Start Training**"
      ],
      "metadata": {
        "id": "Q0UG_Lp5fSwf"
      }
    },
    {
      "cell_type": "markdown",
      "source": [
        "### *Optimization Configuration and Training Stage*"
      ],
      "metadata": {
        "id": "uIfUjRxEfZyd"
      }
    },
    {
      "cell_type": "code",
      "source": [
        "alexnet = AlexNet(num_classes=10)\n",
        "alexnet.to(device)\n",
        "\n",
        "optimizer = torch.optim.SGD(alexnet.parameters(), lr=0.01)\n",
        "criterion = nn.CrossEntropyLoss()\n",
        "\n",
        "train(alexnet, criterion, optimizer, train_dataloader, valid_dataloader, num_epochs=50)"
      ],
      "metadata": {
        "colab": {
          "base_uri": "https://localhost:8080/"
        },
        "id": "sg1xnZsHfXgM",
        "outputId": "279a5b1b-a560-4238-daa8-1df6678b7833"
      },
      "execution_count": null,
      "outputs": [
        {
          "output_type": "stream",
          "name": "stderr",
          "text": [
            "Epoch [1/50]: 100%|██████████| 313/313 [01:34<00:00,  3.31it/s, loss=2.3]\n"
          ]
        },
        {
          "output_type": "stream",
          "name": "stdout",
          "text": [
            "Train Loss: 2.302, Valid Acc:0.134\n"
          ]
        },
        {
          "output_type": "stream",
          "name": "stderr",
          "text": [
            "Epoch [2/50]: 100%|██████████| 313/313 [01:28<00:00,  3.54it/s, loss=2.3]\n"
          ]
        },
        {
          "output_type": "stream",
          "name": "stdout",
          "text": [
            "Train Loss: 2.302, Valid Acc:0.101\n"
          ]
        },
        {
          "output_type": "stream",
          "name": "stderr",
          "text": [
            "Epoch [3/50]: 100%|██████████| 313/313 [01:26<00:00,  3.61it/s, loss=2.31]\n"
          ]
        },
        {
          "output_type": "stream",
          "name": "stdout",
          "text": [
            "Train Loss: 2.299, Valid Acc:0.099\n"
          ]
        },
        {
          "output_type": "stream",
          "name": "stderr",
          "text": [
            "Epoch [4/50]: 100%|██████████| 313/313 [01:26<00:00,  3.62it/s, loss=2.21]\n"
          ]
        },
        {
          "output_type": "stream",
          "name": "stdout",
          "text": [
            "Train Loss: 2.263, Valid Acc:0.211\n"
          ]
        },
        {
          "output_type": "stream",
          "name": "stderr",
          "text": [
            "Epoch [5/50]: 100%|██████████| 313/313 [01:27<00:00,  3.58it/s, loss=2.07]\n"
          ]
        },
        {
          "output_type": "stream",
          "name": "stdout",
          "text": [
            "Train Loss: 2.105, Valid Acc:0.252\n"
          ]
        },
        {
          "output_type": "stream",
          "name": "stderr",
          "text": [
            "Epoch [6/50]: 100%|██████████| 313/313 [01:26<00:00,  3.63it/s, loss=2.03]\n"
          ]
        },
        {
          "output_type": "stream",
          "name": "stdout",
          "text": [
            "Train Loss: 2.023, Valid Acc:0.291\n"
          ]
        },
        {
          "output_type": "stream",
          "name": "stderr",
          "text": [
            "Epoch [7/50]: 100%|██████████| 313/313 [01:25<00:00,  3.64it/s, loss=2.05]\n"
          ]
        },
        {
          "output_type": "stream",
          "name": "stdout",
          "text": [
            "Train Loss: 1.968, Valid Acc:0.248\n"
          ]
        },
        {
          "output_type": "stream",
          "name": "stderr",
          "text": [
            "Epoch [8/50]: 100%|██████████| 313/313 [01:27<00:00,  3.60it/s, loss=1.9]\n"
          ]
        },
        {
          "output_type": "stream",
          "name": "stdout",
          "text": [
            "Train Loss: 1.890, Valid Acc:0.334\n"
          ]
        },
        {
          "output_type": "stream",
          "name": "stderr",
          "text": [
            "Epoch [9/50]: 100%|██████████| 313/313 [01:26<00:00,  3.64it/s, loss=1.81]\n"
          ]
        },
        {
          "output_type": "stream",
          "name": "stdout",
          "text": [
            "Train Loss: 1.809, Valid Acc:0.380\n"
          ]
        },
        {
          "output_type": "stream",
          "name": "stderr",
          "text": [
            "Epoch [10/50]: 100%|██████████| 313/313 [01:25<00:00,  3.64it/s, loss=1.69]\n"
          ]
        },
        {
          "output_type": "stream",
          "name": "stdout",
          "text": [
            "Train Loss: 1.721, Valid Acc:0.364\n"
          ]
        },
        {
          "output_type": "stream",
          "name": "stderr",
          "text": [
            "Epoch [11/50]: 100%|██████████| 313/313 [01:27<00:00,  3.60it/s, loss=1.56]\n"
          ]
        },
        {
          "output_type": "stream",
          "name": "stdout",
          "text": [
            "Train Loss: 1.649, Valid Acc:0.417\n"
          ]
        },
        {
          "output_type": "stream",
          "name": "stderr",
          "text": [
            "Epoch [12/50]: 100%|██████████| 313/313 [01:25<00:00,  3.64it/s, loss=1.62]\n"
          ]
        },
        {
          "output_type": "stream",
          "name": "stdout",
          "text": [
            "Train Loss: 1.581, Valid Acc:0.442\n"
          ]
        },
        {
          "output_type": "stream",
          "name": "stderr",
          "text": [
            "Epoch [13/50]: 100%|██████████| 313/313 [01:25<00:00,  3.64it/s, loss=1.43]\n"
          ]
        },
        {
          "output_type": "stream",
          "name": "stdout",
          "text": [
            "Train Loss: 1.528, Valid Acc:0.458\n"
          ]
        },
        {
          "output_type": "stream",
          "name": "stderr",
          "text": [
            "Epoch [14/50]: 100%|██████████| 313/313 [01:26<00:00,  3.60it/s, loss=1.48]\n"
          ]
        },
        {
          "output_type": "stream",
          "name": "stdout",
          "text": [
            "Train Loss: 1.475, Valid Acc:0.474\n"
          ]
        },
        {
          "output_type": "stream",
          "name": "stderr",
          "text": [
            "Epoch [15/50]: 100%|██████████| 313/313 [01:26<00:00,  3.64it/s, loss=1.41]\n"
          ]
        },
        {
          "output_type": "stream",
          "name": "stdout",
          "text": [
            "Train Loss: 1.431, Valid Acc:0.461\n"
          ]
        },
        {
          "output_type": "stream",
          "name": "stderr",
          "text": [
            "Epoch [16/50]: 100%|██████████| 313/313 [01:25<00:00,  3.64it/s, loss=1.28]\n"
          ]
        },
        {
          "output_type": "stream",
          "name": "stdout",
          "text": [
            "Train Loss: 1.388, Valid Acc:0.491\n"
          ]
        },
        {
          "output_type": "stream",
          "name": "stderr",
          "text": [
            "Epoch [17/50]: 100%|██████████| 313/313 [01:27<00:00,  3.59it/s, loss=1.11]\n"
          ]
        },
        {
          "output_type": "stream",
          "name": "stdout",
          "text": [
            "Train Loss: 1.340, Valid Acc:0.520\n"
          ]
        },
        {
          "output_type": "stream",
          "name": "stderr",
          "text": [
            "Epoch [18/50]: 100%|██████████| 313/313 [01:25<00:00,  3.64it/s, loss=1.11]\n"
          ]
        },
        {
          "output_type": "stream",
          "name": "stdout",
          "text": [
            "Train Loss: 1.297, Valid Acc:0.556\n"
          ]
        },
        {
          "output_type": "stream",
          "name": "stderr",
          "text": [
            "Epoch [19/50]: 100%|██████████| 313/313 [01:25<00:00,  3.65it/s, loss=1.39]\n"
          ]
        },
        {
          "output_type": "stream",
          "name": "stdout",
          "text": [
            "Train Loss: 1.257, Valid Acc:0.559\n"
          ]
        },
        {
          "output_type": "stream",
          "name": "stderr",
          "text": [
            "Epoch [20/50]: 100%|██████████| 313/313 [01:26<00:00,  3.60it/s, loss=1.49]\n"
          ]
        },
        {
          "output_type": "stream",
          "name": "stdout",
          "text": [
            "Train Loss: 1.212, Valid Acc:0.531\n"
          ]
        },
        {
          "output_type": "stream",
          "name": "stderr",
          "text": [
            "Epoch [21/50]: 100%|██████████| 313/313 [01:25<00:00,  3.64it/s, loss=1.11]\n"
          ]
        },
        {
          "output_type": "stream",
          "name": "stdout",
          "text": [
            "Train Loss: 1.171, Valid Acc:0.588\n"
          ]
        },
        {
          "output_type": "stream",
          "name": "stderr",
          "text": [
            "Epoch [22/50]: 100%|██████████| 313/313 [01:25<00:00,  3.65it/s, loss=0.695]\n"
          ]
        },
        {
          "output_type": "stream",
          "name": "stdout",
          "text": [
            "Train Loss: 1.140, Valid Acc:0.613\n"
          ]
        },
        {
          "output_type": "stream",
          "name": "stderr",
          "text": [
            "Epoch [23/50]: 100%|██████████| 313/313 [01:25<00:00,  3.64it/s, loss=1.19]\n"
          ]
        },
        {
          "output_type": "stream",
          "name": "stdout",
          "text": [
            "Train Loss: 1.100, Valid Acc:0.581\n"
          ]
        },
        {
          "output_type": "stream",
          "name": "stderr",
          "text": [
            "Epoch [24/50]: 100%|██████████| 313/313 [01:25<00:00,  3.64it/s, loss=1]\n"
          ]
        },
        {
          "output_type": "stream",
          "name": "stdout",
          "text": [
            "Train Loss: 1.068, Valid Acc:0.614\n"
          ]
        },
        {
          "output_type": "stream",
          "name": "stderr",
          "text": [
            "Epoch [25/50]: 100%|██████████| 313/313 [01:26<00:00,  3.60it/s, loss=1.12]\n"
          ]
        },
        {
          "output_type": "stream",
          "name": "stdout",
          "text": [
            "Train Loss: 1.027, Valid Acc:0.632\n"
          ]
        },
        {
          "output_type": "stream",
          "name": "stderr",
          "text": [
            "Epoch [26/50]: 100%|██████████| 313/313 [01:25<00:00,  3.64it/s, loss=0.967]\n"
          ]
        },
        {
          "output_type": "stream",
          "name": "stdout",
          "text": [
            "Train Loss: 0.989, Valid Acc:0.598\n"
          ]
        },
        {
          "output_type": "stream",
          "name": "stderr",
          "text": [
            "Epoch [27/50]: 100%|██████████| 313/313 [01:25<00:00,  3.65it/s, loss=1.05]\n"
          ]
        },
        {
          "output_type": "stream",
          "name": "stdout",
          "text": [
            "Train Loss: 0.954, Valid Acc:0.659\n"
          ]
        },
        {
          "output_type": "stream",
          "name": "stderr",
          "text": [
            "Epoch [28/50]: 100%|██████████| 313/313 [01:26<00:00,  3.60it/s, loss=0.875]\n"
          ]
        },
        {
          "output_type": "stream",
          "name": "stdout",
          "text": [
            "Train Loss: 0.922, Valid Acc:0.669\n"
          ]
        },
        {
          "output_type": "stream",
          "name": "stderr",
          "text": [
            "Epoch [29/50]: 100%|██████████| 313/313 [01:26<00:00,  3.64it/s, loss=0.879]\n"
          ]
        },
        {
          "output_type": "stream",
          "name": "stdout",
          "text": [
            "Train Loss: 0.891, Valid Acc:0.657\n"
          ]
        },
        {
          "output_type": "stream",
          "name": "stderr",
          "text": [
            "Epoch [30/50]: 100%|██████████| 313/313 [01:25<00:00,  3.65it/s, loss=1.08]\n"
          ]
        },
        {
          "output_type": "stream",
          "name": "stdout",
          "text": [
            "Train Loss: 0.857, Valid Acc:0.660\n"
          ]
        },
        {
          "output_type": "stream",
          "name": "stderr",
          "text": [
            "Epoch [31/50]: 100%|██████████| 313/313 [01:26<00:00,  3.60it/s, loss=1.04]\n"
          ]
        },
        {
          "output_type": "stream",
          "name": "stdout",
          "text": [
            "Train Loss: 0.824, Valid Acc:0.668\n"
          ]
        },
        {
          "output_type": "stream",
          "name": "stderr",
          "text": [
            "Epoch [32/50]: 100%|██████████| 313/313 [01:25<00:00,  3.65it/s, loss=0.635]\n"
          ]
        },
        {
          "output_type": "stream",
          "name": "stdout",
          "text": [
            "Train Loss: 0.789, Valid Acc:0.683\n"
          ]
        },
        {
          "output_type": "stream",
          "name": "stderr",
          "text": [
            "Epoch [33/50]: 100%|██████████| 313/313 [01:25<00:00,  3.65it/s, loss=0.736]\n"
          ]
        },
        {
          "output_type": "stream",
          "name": "stdout",
          "text": [
            "Train Loss: 0.762, Valid Acc:0.680\n"
          ]
        },
        {
          "output_type": "stream",
          "name": "stderr",
          "text": [
            "Epoch [34/50]: 100%|██████████| 313/313 [01:26<00:00,  3.60it/s, loss=0.688]\n"
          ]
        },
        {
          "output_type": "stream",
          "name": "stdout",
          "text": [
            "Train Loss: 0.736, Valid Acc:0.681\n"
          ]
        },
        {
          "output_type": "stream",
          "name": "stderr",
          "text": [
            "Epoch [35/50]: 100%|██████████| 313/313 [01:25<00:00,  3.66it/s, loss=0.496]\n"
          ]
        },
        {
          "output_type": "stream",
          "name": "stdout",
          "text": [
            "Train Loss: 0.701, Valid Acc:0.712\n"
          ]
        },
        {
          "output_type": "stream",
          "name": "stderr",
          "text": [
            "Epoch [36/50]: 100%|██████████| 313/313 [01:27<00:00,  3.60it/s, loss=0.718]\n"
          ]
        },
        {
          "output_type": "stream",
          "name": "stdout",
          "text": [
            "Train Loss: 0.678, Valid Acc:0.681\n"
          ]
        },
        {
          "output_type": "stream",
          "name": "stderr",
          "text": [
            "Epoch [37/50]: 100%|██████████| 313/313 [01:25<00:00,  3.64it/s, loss=0.788]\n"
          ]
        },
        {
          "output_type": "stream",
          "name": "stdout",
          "text": [
            "Train Loss: 0.652, Valid Acc:0.698\n"
          ]
        },
        {
          "output_type": "stream",
          "name": "stderr",
          "text": [
            "Epoch [38/50]: 100%|██████████| 313/313 [01:25<00:00,  3.65it/s, loss=0.721]\n"
          ]
        },
        {
          "output_type": "stream",
          "name": "stdout",
          "text": [
            "Train Loss: 0.626, Valid Acc:0.723\n"
          ]
        },
        {
          "output_type": "stream",
          "name": "stderr",
          "text": [
            "Epoch [39/50]: 100%|██████████| 313/313 [01:27<00:00,  3.60it/s, loss=0.622]\n"
          ]
        },
        {
          "output_type": "stream",
          "name": "stdout",
          "text": [
            "Train Loss: 0.600, Valid Acc:0.729\n"
          ]
        },
        {
          "output_type": "stream",
          "name": "stderr",
          "text": [
            "Epoch [40/50]: 100%|██████████| 313/313 [01:25<00:00,  3.65it/s, loss=0.529]\n"
          ]
        },
        {
          "output_type": "stream",
          "name": "stdout",
          "text": [
            "Train Loss: 0.569, Valid Acc:0.719\n"
          ]
        },
        {
          "output_type": "stream",
          "name": "stderr",
          "text": [
            "Epoch [41/50]: 100%|██████████| 313/313 [01:25<00:00,  3.65it/s, loss=0.74]\n"
          ]
        },
        {
          "output_type": "stream",
          "name": "stdout",
          "text": [
            "Train Loss: 0.545, Valid Acc:0.682\n"
          ]
        },
        {
          "output_type": "stream",
          "name": "stderr",
          "text": [
            "Epoch [42/50]: 100%|██████████| 313/313 [01:27<00:00,  3.60it/s, loss=0.465]\n"
          ]
        },
        {
          "output_type": "stream",
          "name": "stdout",
          "text": [
            "Train Loss: 0.521, Valid Acc:0.743\n"
          ]
        },
        {
          "output_type": "stream",
          "name": "stderr",
          "text": [
            "Epoch [43/50]: 100%|██████████| 313/313 [01:25<00:00,  3.65it/s, loss=0.572]\n"
          ]
        },
        {
          "output_type": "stream",
          "name": "stdout",
          "text": [
            "Train Loss: 0.495, Valid Acc:0.707\n"
          ]
        },
        {
          "output_type": "stream",
          "name": "stderr",
          "text": [
            "Epoch [44/50]: 100%|██████████| 313/313 [01:25<00:00,  3.64it/s, loss=0.396]\n"
          ]
        },
        {
          "output_type": "stream",
          "name": "stdout",
          "text": [
            "Train Loss: 0.474, Valid Acc:0.736\n"
          ]
        },
        {
          "output_type": "stream",
          "name": "stderr",
          "text": [
            "Epoch [45/50]: 100%|██████████| 313/313 [01:26<00:00,  3.64it/s, loss=0.386]\n"
          ]
        },
        {
          "output_type": "stream",
          "name": "stdout",
          "text": [
            "Train Loss: 0.441, Valid Acc:0.733\n"
          ]
        },
        {
          "output_type": "stream",
          "name": "stderr",
          "text": [
            "Epoch [46/50]: 100%|██████████| 313/313 [01:25<00:00,  3.65it/s, loss=0.464]\n"
          ]
        },
        {
          "output_type": "stream",
          "name": "stdout",
          "text": [
            "Train Loss: 0.419, Valid Acc:0.720\n"
          ]
        },
        {
          "output_type": "stream",
          "name": "stderr",
          "text": [
            "Epoch [47/50]: 100%|██████████| 313/313 [01:26<00:00,  3.62it/s, loss=0.353]\n"
          ]
        },
        {
          "output_type": "stream",
          "name": "stdout",
          "text": [
            "Train Loss: 0.392, Valid Acc:0.747\n"
          ]
        },
        {
          "output_type": "stream",
          "name": "stderr",
          "text": [
            "Epoch [48/50]: 100%|██████████| 313/313 [01:25<00:00,  3.66it/s, loss=0.336]\n"
          ]
        },
        {
          "output_type": "stream",
          "name": "stdout",
          "text": [
            "Train Loss: 0.369, Valid Acc:0.730\n"
          ]
        },
        {
          "output_type": "stream",
          "name": "stderr",
          "text": [
            "Epoch [49/50]: 100%|██████████| 313/313 [01:25<00:00,  3.66it/s, loss=0.503]\n"
          ]
        },
        {
          "output_type": "stream",
          "name": "stdout",
          "text": [
            "Train Loss: 0.340, Valid Acc:0.733\n"
          ]
        },
        {
          "output_type": "stream",
          "name": "stderr",
          "text": [
            "Epoch [50/50]: 100%|██████████| 313/313 [01:26<00:00,  3.62it/s, loss=0.45]\n"
          ]
        },
        {
          "output_type": "stream",
          "name": "stdout",
          "text": [
            "Train Loss: 0.312, Valid Acc:0.739\n"
          ]
        }
      ]
    },
    {
      "cell_type": "markdown",
      "source": [
        "### *Testing Stage*"
      ],
      "metadata": {
        "id": "jWUDmxswg4JD"
      }
    },
    {
      "cell_type": "code",
      "source": [
        "test_model = AlexNet(num_classes=10)\n",
        "test_model.to(device)\n",
        "best_state_dict = torch.load(\"model_state_dict.ckpt\")\n",
        "test_model.load_state_dict(best_state_dict)\n",
        "print(\"Final Acc:\", np.mean(validate(test_model, test_dataloader)))"
      ],
      "metadata": {
        "colab": {
          "base_uri": "https://localhost:8080/"
        },
        "id": "P3BeQ2jOg3kc",
        "outputId": "a903a458-63e3-42f9-d006-fb4f7141fe16"
      },
      "execution_count": null,
      "outputs": [
        {
          "output_type": "stream",
          "name": "stdout",
          "text": [
            "Final Acc: 0.7473299050632911\n"
          ]
        }
      ]
    }
  ]
}