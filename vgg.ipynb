{
  "cells": [
    {
      "cell_type": "markdown",
      "metadata": {
        "id": "view-in-github",
        "colab_type": "text"
      },
      "source": [
        "<a href=\"https://colab.research.google.com/github/kevinkevin556/Dlchemist/blob/main/vgg.ipynb\" target=\"_parent\"><img src=\"https://colab.research.google.com/assets/colab-badge.svg\" alt=\"Open In Colab\"/></a>"
      ]
    },
    {
      "cell_type": "markdown",
      "metadata": {
        "id": "fXShh7z-B_2L"
      },
      "source": [
        "# **VGG**"
      ]
    },
    {
      "cell_type": "markdown",
      "metadata": {
        "id": "rhNHsfHLyXRH"
      },
      "source": [
        "# **Section 1. Set up**"
      ]
    },
    {
      "cell_type": "code",
      "execution_count": null,
      "metadata": {
        "id": "BWl6c5NctQZm",
        "colab": {
          "base_uri": "https://localhost:8080/"
        },
        "outputId": "6c482cbf-c303-4d83-c51d-4f3ef137cb51"
      },
      "outputs": [
        {
          "output_type": "stream",
          "name": "stdout",
          "text": [
            "Looking in indexes: https://pypi.org/simple, https://us-python.pkg.dev/colab-wheels/public/simple/\n",
            "Collecting einops\n",
            "  Downloading einops-0.6.0-py3-none-any.whl (41 kB)\n",
            "\u001b[2K     \u001b[90m━━━━━━━━━━━━━━━━━━━━━━━━━━━━━━━━━━━━━━━━\u001b[0m \u001b[32m41.6/41.6 KB\u001b[0m \u001b[31m5.6 MB/s\u001b[0m eta \u001b[36m0:00:00\u001b[0m\n",
            "\u001b[?25hInstalling collected packages: einops\n",
            "Successfully installed einops-0.6.0\n"
          ]
        }
      ],
      "source": [
        "!pip install einops"
      ]
    },
    {
      "cell_type": "code",
      "execution_count": null,
      "metadata": {
        "id": "tdLZ9y1u1eJb",
        "colab": {
          "base_uri": "https://localhost:8080/"
        },
        "outputId": "424a5050-6af3-4019-940d-684bf1dcb916"
      },
      "outputs": [
        {
          "output_type": "stream",
          "name": "stdout",
          "text": [
            "Mounted at /content/gdrive\n"
          ]
        }
      ],
      "source": [
        "import os\n",
        "from google.colab import drive\n",
        "\n",
        "# Mount your google drive to save training checkpoints.\n",
        "\n",
        "drive.mount('/content/gdrive')\n",
        "\n",
        "# Prepare directory for PATH.\n",
        "\n",
        "for folder in [\"VGG7\", \"VGG11\", \"VGG16\"]:\n",
        "  directory = f\"/content/gdrive/MyDrive/Colab Checkpoints/{folder}/\"\n",
        "  if not os.path.exists(directory):\n",
        "      os.makedirs(directory)"
      ]
    },
    {
      "cell_type": "code",
      "execution_count": null,
      "metadata": {
        "id": "-H3ltX8syaCo"
      },
      "outputs": [],
      "source": [
        "import numpy as np\n",
        "import torch\n",
        "import torch.nn as nn\n",
        "from torch import tensor\n",
        "from tqdm import tqdm\n",
        "\n",
        "device = torch.device('cuda' if torch.cuda.is_available() else 'cpu')"
      ]
    },
    {
      "cell_type": "markdown",
      "metadata": {
        "id": "vNy9DkTTzDnB"
      },
      "source": [
        "### *Dataset and DataLoader*\n"
      ]
    },
    {
      "cell_type": "code",
      "source": [
        "from torchvision.datasets import ImageFolder\n",
        "from fastai.vision.all import URLs, untar_data\n",
        "\n",
        "root = untar_data(URLs.IMAGENETTE)\n",
        "print(\"Root directory:\", root)\n",
        "\n",
        "train_dataset = ImageFolder(str(root)+\"/train\")\n",
        "\n",
        "# Generate indices to permute the training data and conduct train-test-split\n",
        "total_size = len(train_dataset)\n",
        "valid_size = total_size // 5\n",
        "rng = np.random.default_rng(42)\n",
        "indices = rng.permutation(total_size)"
      ],
      "metadata": {
        "id": "bHE96nG8uk2u",
        "colab": {
          "base_uri": "https://localhost:8080/",
          "height": 55
        },
        "outputId": "bd556366-cc3d-4495-dbf8-0e0523f02753"
      },
      "execution_count": null,
      "outputs": [
        {
          "output_type": "display_data",
          "data": {
            "text/plain": [
              "<IPython.core.display.HTML object>"
            ],
            "text/html": [
              "\n",
              "<style>\n",
              "    /* Turns off some styling */\n",
              "    progress {\n",
              "        /* gets rid of default border in Firefox and Opera. */\n",
              "        border: none;\n",
              "        /* Needs to be in here for Safari polyfill so background images work as expected. */\n",
              "        background-size: auto;\n",
              "    }\n",
              "    progress:not([value]), progress:not([value])::-webkit-progress-bar {\n",
              "        background: repeating-linear-gradient(45deg, #7e7e7e, #7e7e7e 10px, #5c5c5c 10px, #5c5c5c 20px);\n",
              "    }\n",
              "    .progress-bar-interrupted, .progress-bar-interrupted::-webkit-progress-bar {\n",
              "        background: #F44336;\n",
              "    }\n",
              "</style>\n"
            ]
          },
          "metadata": {}
        },
        {
          "output_type": "display_data",
          "data": {
            "text/plain": [
              "<IPython.core.display.HTML object>"
            ],
            "text/html": [
              "\n",
              "    <div>\n",
              "      <progress value='1557168128' class='' max='1557161267' style='width:300px; height:20px; vertical-align: middle;'></progress>\n",
              "      100.00% [1557168128/1557161267 01:57&lt;00:00]\n",
              "    </div>\n",
              "    "
            ]
          },
          "metadata": {}
        },
        {
          "output_type": "stream",
          "name": "stdout",
          "text": [
            "Root directory: /root/.fastai/data/imagenette2\n"
          ]
        }
      ]
    },
    {
      "cell_type": "code",
      "source": [
        "from torch.utils.data import Subset\n",
        "from torch.utils.data import DataLoader\n",
        "from torchvision.transforms import ToTensor\n",
        "\n",
        "# Get mean RGB value, computed on the training set\n",
        "train_dataset = ImageFolder(str(root)+\"/train\", transform=ToTensor())\n",
        "train_dataset = Subset(train_dataset, indices[:-valid_size])\n",
        "train_dataloader = DataLoader(train_dataset, batch_size=1)\n",
        "\n",
        "# sum = torch.zeros(3)\n",
        "# for data, _ in train_dataloader:\n",
        "#   sum = sum + data.mean(axis=(0, 2, 3))\n",
        "# mean = sum / len(train_dataloader)\n",
        "\n",
        "mean = torch.tensor([0.4631, 0.4591, 0.4305])\n",
        "print(\"Mean:\", mean)"
      ],
      "metadata": {
        "id": "IExGWuYCfUPY",
        "colab": {
          "base_uri": "https://localhost:8080/"
        },
        "outputId": "cb69e79b-2cfd-498d-b75e-855ca8b0f02e"
      },
      "execution_count": null,
      "outputs": [
        {
          "output_type": "stream",
          "name": "stdout",
          "text": [
            "Mean: tensor([0.4631, 0.4591, 0.4305])\n"
          ]
        }
      ]
    },
    {
      "cell_type": "code",
      "execution_count": null,
      "metadata": {
        "id": "SKsHAPLg7Po-",
        "colab": {
          "base_uri": "https://localhost:8080/"
        },
        "outputId": "35c4c599-15f6-4499-a762-44cf711201f6"
      },
      "outputs": [
        {
          "output_type": "stream",
          "name": "stdout",
          "text": [
            "\n",
            "Data Size:\n",
            "* Training set   =>  7576 images\n",
            "* Validation set =>  1893 images\n",
            "* Testing set    =>  3925 images\n",
            "\n",
            "Image Shape (C, H, W):\n",
            "* Training image: torch.Size([3, 224, 224])\n",
            "* Testing image:  torch.Size([3, 256, 341])\n"
          ]
        }
      ],
      "source": [
        "from torchvision.transforms import (\n",
        "    Compose, RandomCrop, RandomHorizontalFlip,\n",
        "    Resize, ColorJitter, Normalize\n",
        ")\n",
        "\n",
        "S = 256   # Training scale\n",
        "Q = 256   # Testing scale\n",
        "\n",
        "normalize = Normalize(mean, [1., 1., 1.])\n",
        "\n",
        "## Training Set\n",
        "\n",
        "train_tfms = Compose([\n",
        "    ToTensor(),\n",
        "    normalize,                      # Subtract the mean RGB value\n",
        "    Resize(S),                      # Isotropically rescale images to S\n",
        "    RandomCrop(224),                # Crop images to fixed-size 224 x 224\n",
        "    RandomHorizontalFlip(p=0.5),    # Augmentation: random horizontal flipping\n",
        "    # ColorJitter(0.2, 0.2, 0.2),     # Augmentation: random RGB color shift\n",
        "])\n",
        "\n",
        "train_dataset = ImageFolder(str(root)+\"/train\", transform=train_tfms)\n",
        "train_dataset = Subset(train_dataset, indices[:-valid_size])\n",
        "\n",
        "\n",
        "## Validation Set and Testing Set\n",
        "\n",
        "test_tfms = Compose([ToTensor(), normalize, Resize(Q)])\n",
        "flip_tfms = Compose([test_tfms, RandomHorizontalFlip(p=1)])\n",
        "\n",
        "valid_dataset = ImageFolder(str(root)+\"/train\", transform=test_tfms)\n",
        "valid_dataset = Subset(valid_dataset, indices[-valid_size:])\n",
        "\n",
        "valid_dataset_f = ImageFolder(str(root)+\"/train\", transform=flip_tfms)\n",
        "valid_dataset_f = Subset(valid_dataset_f, indices[-valid_size:])\n",
        "\n",
        "test_dataset = ImageFolder(str(root)+\"/val\", transform=test_tfms)\n",
        "test_dataset_f = ImageFolder(str(root)+\"/val\", transform=flip_tfms)\n",
        "\n",
        "\n",
        "print(\"\\nData Size:\")\n",
        "print(\"* Training set   => \", len(train_dataset), \"images\")\n",
        "print(\"* Validation set => \", len(valid_dataset), \"images\")\n",
        "print(\"* Testing set    => \", len(test_dataset), \"images\")\n",
        "\n",
        "print(\"\\nImage Shape (C, H, W):\")\n",
        "print(\"* Training image:\", train_dataset[0][0].shape)\n",
        "print(\"* Testing image: \", test_dataset[0][0].shape)"
      ]
    },
    {
      "cell_type": "code",
      "execution_count": null,
      "metadata": {
        "id": "CjGck5MS7xYc"
      },
      "outputs": [],
      "source": [
        "BATCH_SIZE = 32\n",
        "\n",
        "train_dataloader = DataLoader(train_dataset, batch_size=BATCH_SIZE, shuffle=True, pin_memory=True)\n",
        "\n",
        "valid_dataloader = DataLoader(valid_dataset, batch_size=1, shuffle=False, pin_memory=True)\n",
        "valid_dataloader_f = DataLoader(valid_dataset_f, batch_size=1, shuffle=False, pin_memory=True)\n",
        "\n",
        "test_dataloader = DataLoader(test_dataset, batch_size=1, shuffle=False, pin_memory=True)\n",
        "test_dataloader_f = DataLoader(test_dataset_f, batch_size=1, shuffle=False, pin_memory=True)"
      ]
    },
    {
      "cell_type": "markdown",
      "metadata": {
        "id": "6FOS76KSblIk"
      },
      "source": [
        "### *HyperModule*"
      ]
    },
    {
      "cell_type": "markdown",
      "source": [
        "[FC to Conv](https://cs231n.github.io/convolutional-networks/#convert)"
      ],
      "metadata": {
        "id": "ASNxe2mTyD6I"
      }
    },
    {
      "cell_type": "code",
      "execution_count": null,
      "metadata": {
        "id": "vTo-Ht4RF4M3"
      },
      "outputs": [],
      "source": [
        "from einops import rearrange, reduce\n",
        "from torch.nn import (\n",
        "    Conv2d, ReLU, MaxPool2d, Sequential,\n",
        "    Flatten, Linear, Softmax, AvgPool2d,\n",
        "    Dropout\n",
        ")\n",
        "\n",
        "class VGG(nn.Module):\n",
        "  def __init__(self, num_classes=10):\n",
        "    super().__init__()\n",
        "    self.conv_net = None\n",
        "    self.fc = None\n",
        "    self.converted_conv = None\n",
        "\n",
        "  def forward(self, x):\n",
        "    if self.train_state:\n",
        "      return self.net(x)\n",
        "    else: \n",
        "      return reduce(self.net(x), \"N C H W -> N C\", \"sum\")\n",
        "\n",
        "  def train(self, mode=True):\n",
        "    super().train(mode)\n",
        "    self.train_state = mode\n",
        "    self.net = self.build_net(mode)\n",
        "    return self\n",
        "\n",
        "  def build_net(self, training_mode):\n",
        "    if training_mode:\n",
        "      return Sequential(self.conv_net, self.fc)\n",
        "    else:\n",
        "      self.copy_weights()\n",
        "      return Sequential(self.conv_net, self.converted_conv)\n",
        "\n",
        "  def copy_weights(self):\n",
        "    linear_index = [i for i in range(len(self.fc)) \n",
        "                            if type(self.fc[i]) == Linear]\n",
        "    conv_index = [j for j in range(len(self.converted_conv)) \n",
        "                          if type(self.converted_conv[j]) == Conv2d]\n",
        "\n",
        "    for k in range(len(linear_index)):\n",
        "      N, C, H, W = self.converted_conv[conv_index[k]].weight.shape\n",
        "\n",
        "      weight = self.fc[linear_index[k]].weight\n",
        "      weight = rearrange(weight, \"N (C H W) -> N C H W\", H=H, W=W)\n",
        "      self.converted_conv[conv_index[k]].weight = torch.nn.Parameter(weight)\n",
        "     \n",
        "      bias = torch.nn.Parameter(self.fc[linear_index[k]].bias)\n",
        "      self.converted_conv[conv_index[k]].bias = bias\n",
        "\n",
        "  def __repr__(self):\n",
        "    return self.net.__repr__()"
      ]
    },
    {
      "cell_type": "code",
      "execution_count": null,
      "metadata": {
        "id": "RaHWYi72CsFe"
      },
      "outputs": [],
      "source": [
        "import sklearn.metrics\n",
        "import pandas as pd\n",
        "import seaborn as sns\n",
        "import matplotlib.pyplot as plt\n",
        "\n",
        "class HyperModule():\n",
        "    def __init__(self, model, criterion, optimizer, scheduler=None, load_path=None):\n",
        "        if load_path is None:\n",
        "            self.model, self.criterion, self.optimizer = model, criterion, optimizer\n",
        "            self.scheduler = scheduler\n",
        "            self.epoch_trained = 0\n",
        "            self.train_loss = []\n",
        "            self.valid_acc = []\n",
        "            self.test_acc = None\n",
        "        else:\n",
        "            self.load(load_path)\n",
        "\n",
        "\n",
        "    def train(self, train_dataloader, valid_dataloader=(None, None),\n",
        "              save_path=None, num_epochs=1):\n",
        "        device = torch.device('cuda')\n",
        "        self.model.to(device)\n",
        "        best_acc = 0 if len(self.valid_acc)==0 else max(self.valid_acc) \n",
        "        start_epoch = self.epoch_trained\n",
        "        self.model.train()\n",
        "\n",
        "        for epoch in range(num_epochs):\n",
        "            \n",
        "            self.batch_loss, self.batch_acc = [], []\n",
        "            self.epoch_trained += 1\n",
        "\n",
        "            ## Training stage\n",
        "            train_progress = tqdm(train_dataloader, position=0, leave=True)\n",
        "            for images, targets in train_progress:\n",
        "                images, targets = images.to(device), targets.to(device)\n",
        "                self.update_(images, targets)\n",
        "                self.update_prog_(train_progress, start_epoch+num_epochs)\n",
        "            \n",
        "            batch_avg_loss = np.mean(self.batch_loss)\n",
        "            \n",
        "            ## Validation stage (or choose not to validate)\n",
        "            if None in valid_dataloader or valid_dataloader is None:\n",
        "              self.batch_acc = [np.nan]\n",
        "              self.update_schd_(batch_avg_loss) # Update scheduler based on training loss\n",
        "              print(f\"Train Loss: {batch_avg_loss:.3f}, Valid Acc: --- No Validation ---\")\n",
        "            else:\n",
        "              self.batch_acc = self.validate(*valid_dataloader)\n",
        "              batch_avg_acc = np.mean(self.batch_acc)\n",
        "              self.update_schd_(batch_avg_acc)  # Update scheduler based on validation accuracy\n",
        "              print(f\"Train Loss: {batch_avg_loss:.3f}, Valid Acc:{batch_avg_acc:.3f}\")\n",
        "            \n",
        "            self.update_hist_() # Update training loss and validation acc.\n",
        "            self.model.train()  # Switch to training mode to save the arch. w/ FC.\n",
        "\n",
        "            ## Save the best model (if any)\n",
        "            if np.mean(self.batch_acc) > best_acc:  \n",
        "                best_acc = np.mean(self.batch_acc)\n",
        "                self.save(save_path)\n",
        "\n",
        "        # Save the model trained in the last epoch (if validation)\n",
        "        if not (None in valid_dataloader or valid_dataloader is None):\n",
        "            self.save(save_path+\".final\")\n",
        "            \n",
        "        self.batch_loss, self.batch_acc = [], []\n",
        "        self.test_acc = None\n",
        "        \n",
        "\n",
        "    def validate(self, dataloader, dataloader_f):\n",
        "        device = torch.device('cuda')\n",
        "        self.model.eval()\n",
        "        batch_acc = []\n",
        "        with torch.no_grad():\n",
        "            for (images, targets), (images_f, targets_f) in zip(dataloader, dataloader_f):\n",
        "                images, targets = images.to(device), targets.to(device)\n",
        "                images_f, targets_f = images_f.to(device), targets_f.to(device)\n",
        "                preds, preds_f = self.model(images), self.model(images_f)\n",
        "\n",
        "                # The soft-max class posteriors of the original and flipped images \n",
        "                #     are averaged to obtain the final scores for the image.\n",
        "                pred_labels = torch.argmax(preds + preds_f, dim=1)\n",
        "                batch_acc.append((pred_labels == targets).type(torch.float32).mean().item())\n",
        "        return batch_acc\n",
        "\n",
        "\n",
        "    def test(self, dataloader, dataloader_f, load_path=None, confusion_matrix=True, class_names=None):\n",
        "        device = torch.device('cuda')\n",
        "        np_pred_labels, np_targets = [], [] \n",
        "        if load_path is not None:\n",
        "            self.load(load_path)\n",
        "        self.model.to(device)\n",
        "        self.model.eval()\n",
        "\n",
        "        # Obtain predictions and ground truths\n",
        "        with torch.no_grad():\n",
        "            for (images, targets), (images_f, targets_f) in zip(dataloader, dataloader_f):\n",
        "                images, targets = images.to(device), targets.to(device)\n",
        "                images_f, targets_f = images_f.to(device), targets_f.to(device)\n",
        "                pred_labels, targets = self.get_prediction_(images, images_f, targets)\n",
        "                np_pred_labels.append(pred_labels)\n",
        "                np_targets.append(targets)\n",
        "\n",
        "        np_pred_labels = np.concatenate(np_pred_labels)\n",
        "        np_targets = np.concatenate(np_targets)\n",
        "\n",
        "        if confusion_matrix:\n",
        "            conf_mat = sklearn.metrics.confusion_matrix(np_targets, np_pred_labels)\n",
        "            conf_df = self.generate_confusion_df_(conf_mat, class_names)\n",
        "            self.plot_confusion_matrix_(conf_df)\n",
        "            self.print_class_acc_(conf_df)\n",
        "        \n",
        "        ## print total accuracy\n",
        "        self.test_acc = np.mean(np_targets == np_pred_labels)\n",
        "        print(\"\\nTotal Acc:\", np.mean(np_targets == np_pred_labels))\n",
        "\n",
        "                \n",
        "    def load(self, path):\n",
        "        device = torch.device('cuda')\n",
        "        state_dict = torch.load(path)\n",
        "        \n",
        "        self.model.load_state_dict(state_dict[\"model\"])\n",
        "        self.model.to(device)\n",
        "        \n",
        "        self.optimizer.load_state_dict(state_dict[\"optimizer\"])\n",
        "        self.scheduler.load_state_dict(state_dict[\"scheduler\"])\n",
        "        self.test_acc = state_dict[\"test_acc\"]\n",
        "\n",
        "        n_train_loss = len(state_dict[\"train_loss\"])\n",
        "        n_valid_acc = len(state_dict[\"valid_acc\"])\n",
        "        epoch_trained = state_dict[\"epoch_trained\"]\n",
        "        n = min(epoch_trained, n_train_loss, n_valid_acc)\n",
        "\n",
        "        self.epoch_trained = n\n",
        "        self.train_loss = state_dict[\"train_loss\"][:n]\n",
        "        self.valid_acc = state_dict[\"valid_acc\"][:n]\n",
        "        print(\"State dict sucessfully loaded.\")\n",
        "\n",
        "\n",
        "    def save(self, path):\n",
        "        state_dict = {}\n",
        "        state_dict[\"model\"] = self.model.state_dict()\n",
        "        state_dict[\"optimizer\"] = self.optimizer.state_dict()\n",
        "        state_dict[\"scheduler\"] = self.scheduler.state_dict()\n",
        "        state_dict[\"epoch_trained\"] = self.epoch_trained\n",
        "        state_dict[\"train_loss\"] = self.train_loss\n",
        "        state_dict[\"valid_acc\"] = self.valid_acc\n",
        "        state_dict[\"test_acc\"] = self.test_acc\n",
        "        torch.save(state_dict, path)\n",
        "        print(\"State dict saved.\")\n",
        "    \n",
        "\n",
        "    def get_state_dict(self):\n",
        "        state_dict = {}\n",
        "        state_dict[\"model\"] = self.model.state_dict()\n",
        "        state_dict[\"optimizer\"] = self.optimizer.state_dict()\n",
        "        state_dict[\"scheduler\"] = self.scheduler.state_dict()\n",
        "        state_dict[\"epoch_trained\"] = self.epoch_trained\n",
        "        state_dict[\"train_loss\"] = self.train_loss\n",
        "        state_dict[\"valid_acc\"] = self.valid_acc\n",
        "        state_dict[\"test_acc\"] = self.test_acc\n",
        "        return state_dict\n",
        "\n",
        "    #--------------------------------------------------------------------------#\n",
        "\n",
        "    ### Auxilary functions in test()\n",
        "     \n",
        "    def get_prediction_(self, images, images_f, targets):\n",
        "        preds, preds_f = self.model(images), self.model(images_f)\n",
        "\n",
        "        # The soft-max class posteriors of the original and flipped images \n",
        "        #     are averaged to obtain the final scores for the image.\n",
        "        pred_labels = torch.argmax(preds + preds_f, dim=1)\n",
        "        pred_labels = pred_labels.view(-1).detach().cpu().numpy()\n",
        "        targets = targets.view(-1).detach().cpu().numpy()\n",
        "        return pred_labels, targets\n",
        "\n",
        "    def generate_confusion_df_(self, conf_mat, class_names):\n",
        "        if class_names is not None:\n",
        "            conf_df = pd.DataFrame(conf_mat, class_names, class_names)\n",
        "        else:\n",
        "            conf_df = pd.DataFrame(conf_mat)\n",
        "        return conf_df\n",
        "        \n",
        "    def plot_confusion_matrix_(self, conf_df):\n",
        "        plt.figure(figsize = (12,8))\n",
        "        sns.heatmap(conf_df, annot=True, fmt=\"d\", cmap='Blues')\n",
        "        plt.xlabel(\"prediction\")\n",
        "        plt.ylabel(\"label (ground truth)\")\n",
        "        plt.show()\n",
        "\n",
        "    def print_class_acc_(self, conf_df):\n",
        "        for i in range(len(conf_df)):\n",
        "            total = np.sum(conf_df.iloc[i, :])\n",
        "            correct = conf_df.iloc[i, i]\n",
        "            print(f\"Acc of {conf_df.columns[i]}: {correct/total:.4f}\")\n",
        "\n",
        "    \n",
        "    ### Auxilary functions in train()\n",
        "    \n",
        "    def update_(self, images, targets):\n",
        "        preds = self.model(images)\n",
        "        loss = self.criterion(preds, targets)\n",
        "        self.optimizer.zero_grad()\n",
        "        loss.backward()\n",
        "        self.optimizer.step()\n",
        "        self.batch_loss.append(loss.detach().item())\n",
        "\n",
        "    def update_prog_(self, progress, num_epochs):\n",
        "        loss = self.batch_loss[-1]\n",
        "        epoch = self.epoch_trained\n",
        "        progress.set_description(f'Epoch [{epoch}/{num_epochs}]')\n",
        "        progress.set_postfix({'loss': loss})\n",
        "\n",
        "    def update_schd_(self, val_acc):\n",
        "        if self.scheduler is not None:\n",
        "            self.scheduler.step(val_acc)\n",
        "\n",
        "    def update_hist_(self):\n",
        "        self.train_loss.append(np.mean(self.batch_loss))\n",
        "        self.valid_acc.append(np.mean(self.batch_acc))"
      ]
    },
    {
      "cell_type": "markdown",
      "metadata": {
        "id": "q--LllAyF4jx"
      },
      "source": [
        "### *Network Architecture*"
      ]
    },
    {
      "cell_type": "markdown",
      "source": [
        "<img src=\"https://miro.medium.com/max/1100/1*V6hPq-srR86AIWYrgFYLfA.webp\" alt=\"drawing\" width=\"500\" height=\"300\"/>\n",
        "\n"
      ],
      "metadata": {
        "id": "4TzP4BMFTgmY"
      }
    },
    {
      "cell_type": "code",
      "source": [
        "class VGG16(VGG):\n",
        "  def __init__(self, num_classes=10):\n",
        "    super().__init__()\n",
        "    self.conv_net = Sequential(\n",
        "        Conv2d(3, 64, kernel_size=3, stride=1, padding=1),       ReLU(),\n",
        "        Conv2d(64, 64, kernel_size=3, stride=1, padding=1),      ReLU(),\n",
        "        MaxPool2d(kernel_size=2, stride=2),\n",
        "\n",
        "        Conv2d(64, 128, kernel_size=3, stride=1, padding=1),     ReLU(),\n",
        "        Conv2d(128, 128, kernel_size=3, stride=1, padding=1),    ReLU(),\n",
        "        MaxPool2d(kernel_size=2, stride=2),\n",
        "\n",
        "        Conv2d(128, 256, kernel_size=3, stride=1, padding=1),    ReLU(),\n",
        "        Conv2d(256, 256, kernel_size=3, stride=1, padding=1),    ReLU(),\n",
        "        Conv2d(256, 256, kernel_size=3, stride=1, padding=1),    ReLU(),\n",
        "        MaxPool2d(kernel_size=2, stride=2),\n",
        "\n",
        "        Conv2d(256, 512, kernel_size=3, stride=1, padding=1),    ReLU(),\n",
        "        Conv2d(512, 512, kernel_size=3, stride=1, padding=1),    ReLU(),\n",
        "        Conv2d(512, 512, kernel_size=3, stride=1, padding=1),    ReLU(),\n",
        "        MaxPool2d(kernel_size=2, stride=2),\n",
        "\n",
        "        Conv2d(512, 512, kernel_size=3, stride=1, padding=1),    ReLU(),\n",
        "        Conv2d(512, 512, kernel_size=3, stride=1, padding=1),    ReLU(),\n",
        "        Conv2d(512, 512, kernel_size=3, stride=1, padding=1),    ReLU(),\n",
        "        MaxPool2d(kernel_size=2, stride=2)\n",
        "    )\n",
        "    self.fc = Sequential(\n",
        "        Flatten(),\n",
        "        Linear(512*7*7, 4096),                                   ReLU(),\n",
        "        Dropout(0.5),\n",
        "        Linear(4096, 4096),                                      ReLU(),\n",
        "        Dropout(0.5),\n",
        "        Linear(4096, num_classes)\n",
        "    )\n",
        "    self.converted_conv = Sequential(\n",
        "        Conv2d(512, 4096, kernel_size=7, stride=1),              ReLU(),\n",
        "        Conv2d(4096, 4096, kernel_size=1, stride=1),             ReLU(),\n",
        "        Conv2d(4096, num_classes, kernel_size=1, stride=1),      Softmax(dim=1),\n",
        "    )\n",
        "    self.train_state = True\n",
        "    self.net = self.build_net(self.train_state)"
      ],
      "metadata": {
        "id": "PLKAVbtnymb1"
      },
      "execution_count": null,
      "outputs": []
    },
    {
      "cell_type": "code",
      "execution_count": null,
      "metadata": {
        "id": "Bbdt9Ki-XR1l",
        "colab": {
          "base_uri": "https://localhost:8080/"
        },
        "outputId": "9b05c350-7880-4ad6-b628-26eb200a6e43"
      },
      "outputs": [
        {
          "output_type": "stream",
          "name": "stdout",
          "text": [
            "Image shape:              [1, 3, 224, 224]\n",
            "Sequential output shape:  [1, 512, 7, 7]\n",
            "Sequential output shape:  [1, 10]\n"
          ]
        }
      ],
      "source": [
        "#@title Check Forward Path: Training\n",
        "X = torch.randn(1, *train_dataset[0][0].shape)\n",
        "model = VGG16()\n",
        "print(f\"{'Image shape:':25s} {list(X.shape)}\")\n",
        "for layer in model.net:\n",
        "    X = layer(X)\n",
        "    print(f\"{layer.__class__.__name__+' output shape:':25s} {list(X.shape)}\")\n",
        "del model"
      ]
    },
    {
      "cell_type": "code",
      "source": [
        "#@title Check Forward Path: Testing\n",
        "X = torch.randn(1, *test_dataset[2][0].shape)\n",
        "model = VGG16()\n",
        "model.eval()\n",
        "print(f\"{'Image shape:':25s} {list(X.shape)}\")\n",
        "for layer in model.net:\n",
        "    X = layer(X)\n",
        "    print(f\"{layer.__class__.__name__+' output shape:':25s} {list(X.shape)}\")\n",
        "\n",
        "X = torch.randn(1, *train_dataset[0][0].shape)\n",
        "print(f\"{'Final outout shape:':25s} {list(model(X).shape)}\")\n",
        "del model"
      ],
      "metadata": {
        "id": "7iX_NFkpiPAv",
        "colab": {
          "base_uri": "https://localhost:8080/"
        },
        "outputId": "8efcbad8-d6f4-416b-f6fb-0ba915097dad"
      },
      "execution_count": null,
      "outputs": [
        {
          "output_type": "stream",
          "name": "stdout",
          "text": [
            "Image shape:              [1, 3, 256, 341]\n",
            "Sequential output shape:  [1, 512, 8, 10]\n",
            "Sequential output shape:  [1, 10, 2, 4]\n",
            "Final outout shape:       [1, 10]\n"
          ]
        }
      ]
    },
    {
      "cell_type": "code",
      "source": [
        "#@title Check FC to Convolution Conversion\n",
        "model = VGG16()\n",
        "dataloader = DataLoader(train_dataset, batch_size=5, shuffle=False)\n",
        "image, target = next(iter(dataloader))\n",
        "\n",
        "model.train()\n",
        "softmax = nn.Softmax(dim=1)\n",
        "print(\"FC with softmax activation:\\n\", softmax(model(image)))\n",
        "\n",
        "model.eval()\n",
        "print(\"\\nConv with softmax activation:\\n\", model(image))\n",
        "\n",
        "del model"
      ],
      "metadata": {
        "colab": {
          "base_uri": "https://localhost:8080/"
        },
        "id": "f2vXcvgh-1uT",
        "outputId": "a1e70b28-d4ba-49e4-d8eb-0bd67e03ed1b"
      },
      "execution_count": null,
      "outputs": [
        {
          "output_type": "stream",
          "name": "stdout",
          "text": [
            "FC with softmax activation:\n",
            " tensor([[0.1018, 0.1018, 0.1009, 0.1008, 0.0994, 0.0985, 0.0983, 0.0991, 0.1007,\n",
            "         0.0986],\n",
            "        [0.1014, 0.1015, 0.1009, 0.1009, 0.0994, 0.0982, 0.0986, 0.0998, 0.1011,\n",
            "         0.0982],\n",
            "        [0.1016, 0.1017, 0.1007, 0.1009, 0.0991, 0.0985, 0.0994, 0.0993, 0.1003,\n",
            "         0.0985],\n",
            "        [0.1009, 0.1014, 0.1005, 0.1008, 0.0996, 0.0985, 0.0987, 0.0996, 0.1012,\n",
            "         0.0987],\n",
            "        [0.1015, 0.1011, 0.1013, 0.1007, 0.0993, 0.0986, 0.0986, 0.0996, 0.1013,\n",
            "         0.0982]], grad_fn=<SoftmaxBackward0>)\n",
            "\n",
            "Conv with softmax activation:\n",
            " tensor([[0.1011, 0.1011, 0.1010, 0.1011, 0.0994, 0.0987, 0.0985, 0.0996, 0.1008,\n",
            "         0.0986],\n",
            "        [0.1011, 0.1011, 0.1010, 0.1011, 0.0994, 0.0987, 0.0985, 0.0996, 0.1008,\n",
            "         0.0986],\n",
            "        [0.1011, 0.1011, 0.1010, 0.1011, 0.0994, 0.0987, 0.0985, 0.0996, 0.1008,\n",
            "         0.0986],\n",
            "        [0.1011, 0.1011, 0.1010, 0.1011, 0.0994, 0.0987, 0.0985, 0.0996, 0.1008,\n",
            "         0.0986],\n",
            "        [0.1011, 0.1011, 0.1010, 0.1011, 0.0994, 0.0987, 0.0985, 0.0996, 0.1008,\n",
            "         0.0986]], grad_fn=<ReshapeAliasBackward0>)\n"
          ]
        }
      ]
    },
    {
      "cell_type": "markdown",
      "source": [
        "Oh, it seems we fail to convert out fully-connected head to a convolution one...\n",
        "\n",
        "But wait a moment, we include some [dropout](https://pytorch.org/docs/stable/generated/torch.nn.Dropout.html) layers in the FC block and they modify inputs by a factor of $\\frac{1}{1-p}$ during training. Thus we should switch to `eval()` mode to verify the output of our network."
      ],
      "metadata": {
        "id": "mNDi763rRLTt"
      }
    },
    {
      "cell_type": "code",
      "source": [
        "model = VGG16()\n",
        "dataloader = DataLoader(train_dataset, batch_size=5, shuffle=False)\n",
        "image, target = next(iter(dataloader))\n",
        "\n",
        "model.eval()\n",
        "\n",
        "fc_out = model.conv_net(image)\n",
        "fc_out = model.fc(fc_out)\n",
        "fc_out = nn.Softmax(dim=1)(fc_out)\n",
        "print(\"FC with softmax activation:\\n\", fc_out)\n",
        "\n",
        "# When model.eval(), we use conv head.\n",
        "print(\"\\nConv with softmax activation:\\n\", model(image))\n",
        "\n",
        "del model"
      ],
      "metadata": {
        "colab": {
          "base_uri": "https://localhost:8080/"
        },
        "outputId": "fadb6b46-7a2f-4fea-e1d8-fc56d6162798",
        "id": "oI52L3osQ8fj"
      },
      "execution_count": null,
      "outputs": [
        {
          "output_type": "stream",
          "name": "stdout",
          "text": [
            "FC with softmax activation:\n",
            " tensor([[0.1005, 0.1008, 0.1004, 0.1016, 0.0995, 0.1003, 0.0986, 0.0987, 0.0996,\n",
            "         0.1000],\n",
            "        [0.1005, 0.1008, 0.1004, 0.1016, 0.0995, 0.1003, 0.0986, 0.0987, 0.0996,\n",
            "         0.1000],\n",
            "        [0.1005, 0.1008, 0.1004, 0.1016, 0.0995, 0.1003, 0.0986, 0.0987, 0.0996,\n",
            "         0.1000],\n",
            "        [0.1005, 0.1008, 0.1004, 0.1016, 0.0995, 0.1003, 0.0986, 0.0987, 0.0996,\n",
            "         0.1000],\n",
            "        [0.1005, 0.1008, 0.1004, 0.1016, 0.0995, 0.1003, 0.0986, 0.0987, 0.0996,\n",
            "         0.1000]], grad_fn=<SoftmaxBackward0>)\n",
            "\n",
            "Conv with softmax activation:\n",
            " tensor([[0.1005, 0.1008, 0.1004, 0.1016, 0.0995, 0.1003, 0.0986, 0.0987, 0.0996,\n",
            "         0.1000],\n",
            "        [0.1005, 0.1008, 0.1004, 0.1016, 0.0995, 0.1003, 0.0986, 0.0987, 0.0996,\n",
            "         0.1000],\n",
            "        [0.1005, 0.1008, 0.1004, 0.1016, 0.0995, 0.1003, 0.0986, 0.0987, 0.0996,\n",
            "         0.1000],\n",
            "        [0.1005, 0.1008, 0.1004, 0.1016, 0.0995, 0.1003, 0.0986, 0.0987, 0.0996,\n",
            "         0.1000],\n",
            "        [0.1005, 0.1008, 0.1004, 0.1016, 0.0995, 0.1003, 0.0986, 0.0987, 0.0996,\n",
            "         0.1000]], grad_fn=<ReshapeAliasBackward0>)\n"
          ]
        }
      ]
    },
    {
      "cell_type": "markdown",
      "source": [
        "Good ! Now we are certain that both outputs match the other. "
      ],
      "metadata": {
        "id": "hSYWflhLNzc3"
      }
    },
    {
      "cell_type": "markdown",
      "metadata": {
        "id": "Q0UG_Lp5fSwf"
      },
      "source": [
        "# **Section 2. Start Training**"
      ]
    },
    {
      "cell_type": "markdown",
      "metadata": {
        "id": "uIfUjRxEfZyd"
      },
      "source": [
        "### VGG16 - Failed to train"
      ]
    },
    {
      "cell_type": "code",
      "source": [
        "BASE_LR = 0.01\n",
        "MOMENTUM = 0.9\n",
        "WEIGHT_DECAY = 5e-4\n",
        "NUM_EPOCHS = 5\n",
        "PATH = \"/content/gdrive/MyDrive/Colab Checkpoints/VGG16/state_dict.ckpt\""
      ],
      "metadata": {
        "id": "S8ApMaaH1tf7"
      },
      "execution_count": null,
      "outputs": []
    },
    {
      "cell_type": "code",
      "source": [
        "vgg16 = VGG16(num_classes=10)\n",
        "\n",
        "criterion = nn.CrossEntropyLoss()\n",
        "optimizer = torch.optim.SGD(vgg16.parameters(), BASE_LR, MOMENTUM, 0, WEIGHT_DECAY)\n",
        "scheduler = torch.optim.lr_scheduler.ReduceLROnPlateau(optimizer, 'max', factor=0.1)\n",
        "\n",
        "hm = HyperModule(\n",
        "    model = vgg16,\n",
        "    criterion = criterion,\n",
        "    optimizer = optimizer,\n",
        "    scheduler = scheduler\n",
        ")\n",
        "\n",
        "# Train in testing mode\n",
        "hm.train(train_dataloader, save_path=PATH, num_epochs=NUM_EPOCHS)"
      ],
      "metadata": {
        "id": "IeOcNjTM1vXw",
        "colab": {
          "base_uri": "https://localhost:8080/"
        },
        "outputId": "6bf4b87d-e78e-417d-fb68-17f5fea3a867"
      },
      "execution_count": null,
      "outputs": [
        {
          "output_type": "stream",
          "name": "stderr",
          "text": [
            "Epoch [1/5]: 100%|██████████| 237/237 [02:51<00:00,  1.38it/s, loss=2.32]\n"
          ]
        },
        {
          "output_type": "stream",
          "name": "stdout",
          "text": [
            "Train Loss: 2.303, Valid Acc: --- No Validation ---\n"
          ]
        },
        {
          "output_type": "stream",
          "name": "stderr",
          "text": [
            "Epoch [2/5]: 100%|██████████| 237/237 [02:47<00:00,  1.41it/s, loss=2.32]\n"
          ]
        },
        {
          "output_type": "stream",
          "name": "stdout",
          "text": [
            "Train Loss: 2.303, Valid Acc: --- No Validation ---\n"
          ]
        },
        {
          "output_type": "stream",
          "name": "stderr",
          "text": [
            "Epoch [3/5]: 100%|██████████| 237/237 [02:47<00:00,  1.41it/s, loss=2.3]\n"
          ]
        },
        {
          "output_type": "stream",
          "name": "stdout",
          "text": [
            "Train Loss: 2.303, Valid Acc: --- No Validation ---\n"
          ]
        },
        {
          "output_type": "stream",
          "name": "stderr",
          "text": [
            "Epoch [4/5]: 100%|██████████| 237/237 [02:46<00:00,  1.42it/s, loss=2.31]\n"
          ]
        },
        {
          "output_type": "stream",
          "name": "stdout",
          "text": [
            "Train Loss: 2.303, Valid Acc: --- No Validation ---\n"
          ]
        },
        {
          "output_type": "stream",
          "name": "stderr",
          "text": [
            "Epoch [5/5]: 100%|██████████| 237/237 [02:48<00:00,  1.41it/s, loss=2.3]"
          ]
        },
        {
          "output_type": "stream",
          "name": "stdout",
          "text": [
            "Train Loss: 2.303, Valid Acc: --- No Validation ---\n"
          ]
        },
        {
          "output_type": "stream",
          "name": "stderr",
          "text": [
            "\n"
          ]
        }
      ]
    },
    {
      "cell_type": "markdown",
      "source": [
        "## VGG7"
      ],
      "metadata": {
        "id": "BZySL5Ul1BYQ"
      }
    },
    {
      "cell_type": "code",
      "source": [
        "class VGG7(VGG):\n",
        "  def __init__(self, num_classes=10):\n",
        "    super().__init__()\n",
        "    self.conv_net = Sequential(\n",
        "        Conv2d(3, 64, kernel_size=3, stride=1, padding=1),       ReLU(),\n",
        "        MaxPool2d(kernel_size=2, stride=2),\n",
        "        Conv2d(64, 128, kernel_size=3, stride=1, padding=1),     ReLU(),\n",
        "        MaxPool2d(kernel_size=2, stride=2),\n",
        "        Conv2d(128, 256, kernel_size=3, stride=1, padding=1),    ReLU(),\n",
        "        MaxPool2d(kernel_size=2, stride=2),\n",
        "        Conv2d(256, 512, kernel_size=3, stride=1, padding=1),    ReLU(),\n",
        "        MaxPool2d(kernel_size=2, stride=2),\n",
        "        Conv2d(512, 512, kernel_size=3, stride=1, padding=1),    ReLU(),\n",
        "        MaxPool2d(kernel_size=2, stride=2)\n",
        "    )\n",
        "    self.fc = Sequential(\n",
        "        Flatten(),\n",
        "        Linear(512*7*7, 4096),                                   ReLU(),\n",
        "        Linear(4096, num_classes)\n",
        "    )\n",
        "    self.converted_conv = Sequential(\n",
        "        Conv2d(512, 4096, kernel_size=7, stride=1),              ReLU(),\n",
        "        Conv2d(4096, num_classes, kernel_size=1, stride=1),      Softmax(dim=1),\n",
        "    )\n",
        "\n",
        "    self.train_state = True\n",
        "    self.net = self.build_net(self.train_state)"
      ],
      "metadata": {
        "id": "yfpR1vcozI7k"
      },
      "execution_count": null,
      "outputs": []
    },
    {
      "cell_type": "code",
      "execution_count": null,
      "metadata": {
        "id": "K-1ar7-hiUwK"
      },
      "outputs": [],
      "source": [
        "BASE_LR = 0.01\n",
        "MOMENTUM = 0.9\n",
        "WEIGHT_DECAY = 5e-4\n",
        "NUM_EPOCHS = 50\n",
        "PATH = \"/content/gdrive/MyDrive/Colab Checkpoints/VGG7/state_dict.ckpt\""
      ]
    },
    {
      "cell_type": "code",
      "execution_count": null,
      "metadata": {
        "id": "mLCMpxTPHVzm",
        "colab": {
          "base_uri": "https://localhost:8080/"
        },
        "outputId": "92f9a7be-1548-4577-ed9a-80cde4fa18f0"
      },
      "outputs": [
        {
          "output_type": "stream",
          "name": "stderr",
          "text": [
            "Epoch [1/50]: 100%|██████████| 237/237 [01:38<00:00,  2.40it/s, loss=2.07]\n"
          ]
        },
        {
          "output_type": "stream",
          "name": "stdout",
          "text": [
            "Train Loss: 2.238, Valid Acc:0.256\n",
            "State dict saved.\n"
          ]
        },
        {
          "output_type": "stream",
          "name": "stderr",
          "text": [
            "Epoch [2/50]: 100%|██████████| 237/237 [01:40<00:00,  2.35it/s, loss=2.19]\n"
          ]
        },
        {
          "output_type": "stream",
          "name": "stdout",
          "text": [
            "Train Loss: 1.996, Valid Acc:0.270\n",
            "State dict saved.\n"
          ]
        },
        {
          "output_type": "stream",
          "name": "stderr",
          "text": [
            "Epoch [3/50]: 100%|██████████| 237/237 [01:43<00:00,  2.29it/s, loss=1.75]\n"
          ]
        },
        {
          "output_type": "stream",
          "name": "stdout",
          "text": [
            "Train Loss: 1.882, Valid Acc:0.390\n",
            "State dict saved.\n"
          ]
        },
        {
          "output_type": "stream",
          "name": "stderr",
          "text": [
            "Epoch [4/50]: 100%|██████████| 237/237 [01:40<00:00,  2.35it/s, loss=1.56]\n"
          ]
        },
        {
          "output_type": "stream",
          "name": "stdout",
          "text": [
            "Train Loss: 1.682, Valid Acc:0.482\n",
            "State dict saved.\n"
          ]
        },
        {
          "output_type": "stream",
          "name": "stderr",
          "text": [
            "Epoch [5/50]: 100%|██████████| 237/237 [01:41<00:00,  2.34it/s, loss=1.68]\n"
          ]
        },
        {
          "output_type": "stream",
          "name": "stdout",
          "text": [
            "Train Loss: 1.490, Valid Acc:0.460\n"
          ]
        },
        {
          "output_type": "stream",
          "name": "stderr",
          "text": [
            "Epoch [6/50]: 100%|██████████| 237/237 [01:40<00:00,  2.35it/s, loss=1.29]\n"
          ]
        },
        {
          "output_type": "stream",
          "name": "stdout",
          "text": [
            "Train Loss: 1.340, Valid Acc:0.570\n",
            "State dict saved.\n"
          ]
        },
        {
          "output_type": "stream",
          "name": "stderr",
          "text": [
            "Epoch [7/50]: 100%|██████████| 237/237 [01:40<00:00,  2.36it/s, loss=1.51]\n"
          ]
        },
        {
          "output_type": "stream",
          "name": "stdout",
          "text": [
            "Train Loss: 1.227, Valid Acc:0.575\n",
            "State dict saved.\n"
          ]
        },
        {
          "output_type": "stream",
          "name": "stderr",
          "text": [
            "Epoch [8/50]: 100%|██████████| 237/237 [01:42<00:00,  2.32it/s, loss=0.887]\n"
          ]
        },
        {
          "output_type": "stream",
          "name": "stdout",
          "text": [
            "Train Loss: 1.130, Valid Acc:0.663\n",
            "State dict saved.\n"
          ]
        },
        {
          "output_type": "stream",
          "name": "stderr",
          "text": [
            "Epoch [9/50]: 100%|██████████| 237/237 [01:40<00:00,  2.36it/s, loss=1.05]\n"
          ]
        },
        {
          "output_type": "stream",
          "name": "stdout",
          "text": [
            "Train Loss: 1.032, Valid Acc:0.644\n"
          ]
        },
        {
          "output_type": "stream",
          "name": "stderr",
          "text": [
            "Epoch [10/50]: 100%|██████████| 237/237 [01:39<00:00,  2.38it/s, loss=1.37]\n"
          ]
        },
        {
          "output_type": "stream",
          "name": "stdout",
          "text": [
            "Train Loss: 0.993, Valid Acc:0.716\n",
            "State dict saved.\n"
          ]
        },
        {
          "output_type": "stream",
          "name": "stderr",
          "text": [
            "Epoch [11/50]: 100%|██████████| 237/237 [01:42<00:00,  2.30it/s, loss=0.839]\n"
          ]
        },
        {
          "output_type": "stream",
          "name": "stdout",
          "text": [
            "Train Loss: 0.892, Valid Acc:0.728\n",
            "State dict saved.\n"
          ]
        },
        {
          "output_type": "stream",
          "name": "stderr",
          "text": [
            "Epoch [12/50]: 100%|██████████| 237/237 [01:41<00:00,  2.34it/s, loss=1.21]\n"
          ]
        },
        {
          "output_type": "stream",
          "name": "stdout",
          "text": [
            "Train Loss: 0.840, Valid Acc:0.724\n"
          ]
        },
        {
          "output_type": "stream",
          "name": "stderr",
          "text": [
            "Epoch [13/50]: 100%|██████████| 237/237 [01:39<00:00,  2.37it/s, loss=0.493]\n"
          ]
        },
        {
          "output_type": "stream",
          "name": "stdout",
          "text": [
            "Train Loss: 0.758, Valid Acc:0.763\n",
            "State dict saved.\n"
          ]
        },
        {
          "output_type": "stream",
          "name": "stderr",
          "text": [
            "Epoch [14/50]: 100%|██████████| 237/237 [01:41<00:00,  2.33it/s, loss=0.951]\n"
          ]
        },
        {
          "output_type": "stream",
          "name": "stdout",
          "text": [
            "Train Loss: 0.713, Valid Acc:0.721\n"
          ]
        },
        {
          "output_type": "stream",
          "name": "stderr",
          "text": [
            "Epoch [15/50]: 100%|██████████| 237/237 [01:41<00:00,  2.34it/s, loss=0.752]\n"
          ]
        },
        {
          "output_type": "stream",
          "name": "stdout",
          "text": [
            "Train Loss: 0.676, Valid Acc:0.745\n"
          ]
        },
        {
          "output_type": "stream",
          "name": "stderr",
          "text": [
            "Epoch [16/50]: 100%|██████████| 237/237 [01:39<00:00,  2.39it/s, loss=0.803]\n"
          ]
        },
        {
          "output_type": "stream",
          "name": "stdout",
          "text": [
            "Train Loss: 0.632, Valid Acc:0.776\n",
            "State dict saved.\n"
          ]
        },
        {
          "output_type": "stream",
          "name": "stderr",
          "text": [
            "Epoch [17/50]: 100%|██████████| 237/237 [01:43<00:00,  2.30it/s, loss=0.36]\n"
          ]
        },
        {
          "output_type": "stream",
          "name": "stdout",
          "text": [
            "Train Loss: 0.611, Valid Acc:0.761\n"
          ]
        },
        {
          "output_type": "stream",
          "name": "stderr",
          "text": [
            "Epoch [18/50]: 100%|██████████| 237/237 [01:41<00:00,  2.34it/s, loss=0.325]\n"
          ]
        },
        {
          "output_type": "stream",
          "name": "stdout",
          "text": [
            "Train Loss: 0.567, Valid Acc:0.708\n"
          ]
        },
        {
          "output_type": "stream",
          "name": "stderr",
          "text": [
            "Epoch [19/50]: 100%|██████████| 237/237 [01:39<00:00,  2.39it/s, loss=0.476]\n"
          ]
        },
        {
          "output_type": "stream",
          "name": "stdout",
          "text": [
            "Train Loss: 0.525, Valid Acc:0.793\n",
            "State dict saved.\n"
          ]
        },
        {
          "output_type": "stream",
          "name": "stderr",
          "text": [
            "Epoch [20/50]: 100%|██████████| 237/237 [01:41<00:00,  2.33it/s, loss=0.508]\n"
          ]
        },
        {
          "output_type": "stream",
          "name": "stdout",
          "text": [
            "Train Loss: 0.480, Valid Acc:0.780\n"
          ]
        },
        {
          "output_type": "stream",
          "name": "stderr",
          "text": [
            "Epoch [21/50]: 100%|██████████| 237/237 [01:38<00:00,  2.40it/s, loss=0.413]\n"
          ]
        },
        {
          "output_type": "stream",
          "name": "stdout",
          "text": [
            "Train Loss: 0.466, Valid Acc:0.784\n"
          ]
        },
        {
          "output_type": "stream",
          "name": "stderr",
          "text": [
            "Epoch [22/50]: 100%|██████████| 237/237 [01:38<00:00,  2.40it/s, loss=0.22]\n"
          ]
        },
        {
          "output_type": "stream",
          "name": "stdout",
          "text": [
            "Train Loss: 0.426, Valid Acc:0.801\n",
            "State dict saved.\n"
          ]
        },
        {
          "output_type": "stream",
          "name": "stderr",
          "text": [
            "Epoch [23/50]: 100%|██████████| 237/237 [01:41<00:00,  2.32it/s, loss=0.544]\n"
          ]
        },
        {
          "output_type": "stream",
          "name": "stdout",
          "text": [
            "Train Loss: 0.384, Valid Acc:0.789\n"
          ]
        },
        {
          "output_type": "stream",
          "name": "stderr",
          "text": [
            "Epoch [24/50]: 100%|██████████| 237/237 [01:37<00:00,  2.42it/s, loss=0.186]\n"
          ]
        },
        {
          "output_type": "stream",
          "name": "stdout",
          "text": [
            "Train Loss: 0.382, Valid Acc:0.797\n"
          ]
        },
        {
          "output_type": "stream",
          "name": "stderr",
          "text": [
            "Epoch [25/50]: 100%|██████████| 237/237 [01:38<00:00,  2.40it/s, loss=0.361]\n"
          ]
        },
        {
          "output_type": "stream",
          "name": "stdout",
          "text": [
            "Train Loss: 0.344, Valid Acc:0.803\n",
            "State dict saved.\n"
          ]
        },
        {
          "output_type": "stream",
          "name": "stderr",
          "text": [
            "Epoch [26/50]: 100%|██████████| 237/237 [01:41<00:00,  2.33it/s, loss=0.186]\n"
          ]
        },
        {
          "output_type": "stream",
          "name": "stdout",
          "text": [
            "Train Loss: 0.334, Valid Acc:0.809\n",
            "State dict saved.\n"
          ]
        },
        {
          "output_type": "stream",
          "name": "stderr",
          "text": [
            "Epoch [27/50]: 100%|██████████| 237/237 [01:39<00:00,  2.37it/s, loss=0.528]\n"
          ]
        },
        {
          "output_type": "stream",
          "name": "stdout",
          "text": [
            "Train Loss: 0.329, Valid Acc:0.803\n"
          ]
        },
        {
          "output_type": "stream",
          "name": "stderr",
          "text": [
            "Epoch [28/50]: 100%|██████████| 237/237 [01:40<00:00,  2.36it/s, loss=0.308]\n"
          ]
        },
        {
          "output_type": "stream",
          "name": "stdout",
          "text": [
            "Train Loss: 0.309, Valid Acc:0.829\n",
            "State dict saved.\n"
          ]
        },
        {
          "output_type": "stream",
          "name": "stderr",
          "text": [
            "Epoch [29/50]: 100%|██████████| 237/237 [01:40<00:00,  2.36it/s, loss=0.511]\n"
          ]
        },
        {
          "output_type": "stream",
          "name": "stdout",
          "text": [
            "Train Loss: 0.271, Valid Acc:0.819\n"
          ]
        },
        {
          "output_type": "stream",
          "name": "stderr",
          "text": [
            "Epoch [30/50]: 100%|██████████| 237/237 [01:37<00:00,  2.42it/s, loss=0.0669]\n"
          ]
        },
        {
          "output_type": "stream",
          "name": "stdout",
          "text": [
            "Train Loss: 0.264, Valid Acc:0.817\n"
          ]
        },
        {
          "output_type": "stream",
          "name": "stderr",
          "text": [
            "Epoch [31/50]: 100%|██████████| 237/237 [01:40<00:00,  2.36it/s, loss=0.421]\n"
          ]
        },
        {
          "output_type": "stream",
          "name": "stdout",
          "text": [
            "Train Loss: 0.231, Valid Acc:0.820\n"
          ]
        },
        {
          "output_type": "stream",
          "name": "stderr",
          "text": [
            "Epoch [32/50]: 100%|██████████| 237/237 [01:38<00:00,  2.40it/s, loss=0.275]\n"
          ]
        },
        {
          "output_type": "stream",
          "name": "stdout",
          "text": [
            "Train Loss: 0.221, Valid Acc:0.818\n"
          ]
        },
        {
          "output_type": "stream",
          "name": "stderr",
          "text": [
            "Epoch [33/50]: 100%|██████████| 237/237 [01:39<00:00,  2.39it/s, loss=0.167]\n"
          ]
        },
        {
          "output_type": "stream",
          "name": "stdout",
          "text": [
            "Train Loss: 0.219, Valid Acc:0.820\n"
          ]
        },
        {
          "output_type": "stream",
          "name": "stderr",
          "text": [
            "Epoch [34/50]: 100%|██████████| 237/237 [01:38<00:00,  2.40it/s, loss=0.281]\n"
          ]
        },
        {
          "output_type": "stream",
          "name": "stdout",
          "text": [
            "Train Loss: 0.235, Valid Acc:0.805\n"
          ]
        },
        {
          "output_type": "stream",
          "name": "stderr",
          "text": [
            "Epoch [35/50]: 100%|██████████| 237/237 [01:38<00:00,  2.40it/s, loss=0.466]\n"
          ]
        },
        {
          "output_type": "stream",
          "name": "stdout",
          "text": [
            "Train Loss: 0.195, Valid Acc:0.780\n"
          ]
        },
        {
          "output_type": "stream",
          "name": "stderr",
          "text": [
            "Epoch [36/50]: 100%|██████████| 237/237 [01:40<00:00,  2.37it/s, loss=0.175]\n"
          ]
        },
        {
          "output_type": "stream",
          "name": "stdout",
          "text": [
            "Train Loss: 0.209, Valid Acc:0.818\n"
          ]
        },
        {
          "output_type": "stream",
          "name": "stderr",
          "text": [
            "Epoch [37/50]: 100%|██████████| 237/237 [01:38<00:00,  2.41it/s, loss=0.141]\n"
          ]
        },
        {
          "output_type": "stream",
          "name": "stdout",
          "text": [
            "Train Loss: 0.184, Valid Acc:0.815\n"
          ]
        },
        {
          "output_type": "stream",
          "name": "stderr",
          "text": [
            "Epoch [38/50]: 100%|██████████| 237/237 [01:38<00:00,  2.42it/s, loss=0.184]\n"
          ]
        },
        {
          "output_type": "stream",
          "name": "stdout",
          "text": [
            "Train Loss: 0.172, Valid Acc:0.795\n"
          ]
        },
        {
          "output_type": "stream",
          "name": "stderr",
          "text": [
            "Epoch [39/50]: 100%|██████████| 237/237 [01:38<00:00,  2.41it/s, loss=0.148]\n"
          ]
        },
        {
          "output_type": "stream",
          "name": "stdout",
          "text": [
            "Train Loss: 0.159, Valid Acc:0.817\n"
          ]
        },
        {
          "output_type": "stream",
          "name": "stderr",
          "text": [
            "Epoch [40/50]: 100%|██████████| 237/237 [01:37<00:00,  2.42it/s, loss=0.135]\n"
          ]
        },
        {
          "output_type": "stream",
          "name": "stdout",
          "text": [
            "Train Loss: 0.087, Valid Acc:0.839\n",
            "State dict saved.\n"
          ]
        },
        {
          "output_type": "stream",
          "name": "stderr",
          "text": [
            "Epoch [41/50]: 100%|██████████| 237/237 [01:41<00:00,  2.33it/s, loss=0.0116]\n"
          ]
        },
        {
          "output_type": "stream",
          "name": "stdout",
          "text": [
            "Train Loss: 0.066, Valid Acc:0.846\n",
            "State dict saved.\n"
          ]
        },
        {
          "output_type": "stream",
          "name": "stderr",
          "text": [
            "Epoch [42/50]: 100%|██████████| 237/237 [01:40<00:00,  2.36it/s, loss=0.0472]\n"
          ]
        },
        {
          "output_type": "stream",
          "name": "stdout",
          "text": [
            "Train Loss: 0.056, Valid Acc:0.847\n",
            "State dict saved.\n"
          ]
        },
        {
          "output_type": "stream",
          "name": "stderr",
          "text": [
            "Epoch [43/50]: 100%|██████████| 237/237 [01:41<00:00,  2.33it/s, loss=0.157]\n"
          ]
        },
        {
          "output_type": "stream",
          "name": "stdout",
          "text": [
            "Train Loss: 0.052, Valid Acc:0.852\n",
            "State dict saved.\n"
          ]
        },
        {
          "output_type": "stream",
          "name": "stderr",
          "text": [
            "Epoch [44/50]: 100%|██████████| 237/237 [01:39<00:00,  2.37it/s, loss=0.182]\n"
          ]
        },
        {
          "output_type": "stream",
          "name": "stdout",
          "text": [
            "Train Loss: 0.043, Valid Acc:0.851\n"
          ]
        },
        {
          "output_type": "stream",
          "name": "stderr",
          "text": [
            "Epoch [45/50]: 100%|██████████| 237/237 [01:38<00:00,  2.42it/s, loss=0.118]\n"
          ]
        },
        {
          "output_type": "stream",
          "name": "stdout",
          "text": [
            "Train Loss: 0.040, Valid Acc:0.853\n",
            "State dict saved.\n"
          ]
        },
        {
          "output_type": "stream",
          "name": "stderr",
          "text": [
            "Epoch [46/50]: 100%|██████████| 237/237 [01:41<00:00,  2.33it/s, loss=0.0249]\n"
          ]
        },
        {
          "output_type": "stream",
          "name": "stdout",
          "text": [
            "Train Loss: 0.036, Valid Acc:0.853\n"
          ]
        },
        {
          "output_type": "stream",
          "name": "stderr",
          "text": [
            "Epoch [47/50]: 100%|██████████| 237/237 [01:38<00:00,  2.41it/s, loss=0.00291]\n"
          ]
        },
        {
          "output_type": "stream",
          "name": "stdout",
          "text": [
            "Train Loss: 0.031, Valid Acc:0.854\n",
            "State dict saved.\n"
          ]
        },
        {
          "output_type": "stream",
          "name": "stderr",
          "text": [
            "Epoch [48/50]: 100%|██████████| 237/237 [01:42<00:00,  2.32it/s, loss=0.0475]\n"
          ]
        },
        {
          "output_type": "stream",
          "name": "stdout",
          "text": [
            "Train Loss: 0.036, Valid Acc:0.857\n",
            "State dict saved.\n"
          ]
        },
        {
          "output_type": "stream",
          "name": "stderr",
          "text": [
            "Epoch [49/50]: 100%|██████████| 237/237 [01:40<00:00,  2.35it/s, loss=0.00421]\n"
          ]
        },
        {
          "output_type": "stream",
          "name": "stdout",
          "text": [
            "Train Loss: 0.034, Valid Acc:0.852\n"
          ]
        },
        {
          "output_type": "stream",
          "name": "stderr",
          "text": [
            "Epoch [50/50]: 100%|██████████| 237/237 [01:37<00:00,  2.42it/s, loss=0.0368]\n"
          ]
        },
        {
          "output_type": "stream",
          "name": "stdout",
          "text": [
            "Train Loss: 0.030, Valid Acc:0.849\n",
            "State dict saved.\n"
          ]
        }
      ],
      "source": [
        "vgg7 = VGG7(num_classes=10)\n",
        "criterion = nn.CrossEntropyLoss()\n",
        "optimizer = torch.optim.SGD(vgg7.parameters(), BASE_LR, MOMENTUM, 0, WEIGHT_DECAY)\n",
        "scheduler = torch.optim.lr_scheduler.ReduceLROnPlateau(optimizer, 'max', factor=0.1)\n",
        "\n",
        "hm = HyperModule(\n",
        "    model = vgg7,\n",
        "    criterion = criterion,\n",
        "    optimizer = optimizer,\n",
        "    scheduler = scheduler\n",
        ")\n",
        "\n",
        "# Train regularly\n",
        "hm.train(train_dataloader, (valid_dataloader, valid_dataloader_f), PATH, NUM_EPOCHS)"
      ]
    },
    {
      "cell_type": "code",
      "source": [
        "hm.test(test_dataloader, test_dataloader_f)"
      ],
      "metadata": {
        "id": "SP0NE2w_TOOq",
        "colab": {
          "base_uri": "https://localhost:8080/",
          "height": 714
        },
        "outputId": "dd8a827c-ec40-47d1-bade-2fd5930ed214"
      },
      "execution_count": null,
      "outputs": [
        {
          "output_type": "display_data",
          "data": {
            "text/plain": [
              "<Figure size 864x576 with 2 Axes>"
            ],
            "image/png": "[encoded data removed]"
          },
          "metadata": {
            "needs_background": "light"
          }
        },
        {
          "output_type": "stream",
          "name": "stdout",
          "text": [
            "Acc of 0: 0.9018\n",
            "Acc of 1: 0.9013\n",
            "Acc of 2: 0.8487\n",
            "Acc of 3: 0.7694\n",
            "Acc of 4: 0.8655\n",
            "Acc of 5: 0.8299\n",
            "Acc of 6: 0.9049\n",
            "Acc of 7: 0.8186\n",
            "Acc of 8: 0.8446\n",
            "Acc of 9: 0.9000\n",
            "\n",
            "Total Acc: 0.858343949044586\n"
          ]
        }
      ]
    },
    {
      "cell_type": "markdown",
      "source": [
        "## VGG11"
      ],
      "metadata": {
        "id": "_QQ_qixh1eRi"
      }
    },
    {
      "cell_type": "code",
      "source": [
        "vgg7 = VGG7(num_classes=10)\n",
        "criterion = nn.CrossEntropyLoss()\n",
        "optimizer = torch.optim.SGD(vgg7.parameters(), BASE_LR, MOMENTUM, 0, WEIGHT_DECAY)\n",
        "scheduler = torch.optim.lr_scheduler.ReduceLROnPlateau(optimizer, 'max', factor=0.1)\n",
        "\n",
        "hm = HyperModule(\n",
        "    model = vgg7,\n",
        "    criterion = criterion,\n",
        "    optimizer = optimizer,\n",
        "    scheduler = scheduler\n",
        ")\n",
        "\n",
        "hm.load(\"/content/gdrive/MyDrive/Colab Checkpoints/VGG7/state_dict.ckpt\")"
      ],
      "metadata": {
        "colab": {
          "base_uri": "https://localhost:8080/"
        },
        "id": "G_ghRl2pg8ax",
        "outputId": "b584bd0b-cdf8-416b-eb77-c15417f70ea4"
      },
      "execution_count": null,
      "outputs": [
        {
          "output_type": "stream",
          "name": "stdout",
          "text": [
            "State dict sucessfully loaded.\n"
          ]
        }
      ]
    },
    {
      "cell_type": "code",
      "source": [
        "class VGG11(VGG):\n",
        "  def __init__(self, num_classes=10):\n",
        "    super().__init__()\n",
        "    self.conv_net = Sequential(\n",
        "        Conv2d(3, 64, kernel_size=3, stride=1, padding=1),       ReLU(),\n",
        "        MaxPool2d(kernel_size=2, stride=2),\n",
        "        Conv2d(64, 128, kernel_size=3, stride=1, padding=1),     ReLU(),\n",
        "        MaxPool2d(kernel_size=2, stride=2),\n",
        "        Conv2d(128, 256, kernel_size=3, stride=1, padding=1),    ReLU(),\n",
        "        Conv2d(256, 256, kernel_size=3, stride=1, padding=1),    ReLU(),\n",
        "        MaxPool2d(kernel_size=2, stride=2),\n",
        "        Conv2d(256, 512, kernel_size=3, stride=1, padding=1),    ReLU(),\n",
        "        Conv2d(512, 512, kernel_size=3, stride=1, padding=1),    ReLU(),\n",
        "        MaxPool2d(kernel_size=2, stride=2),\n",
        "        Conv2d(512, 512, kernel_size=3, stride=1, padding=1),    ReLU(),\n",
        "        Conv2d(512, 512, kernel_size=3, stride=1, padding=1),    ReLU(),\n",
        "        MaxPool2d(kernel_size=2, stride=2)\n",
        "    )\n",
        "    self.fc = Sequential(\n",
        "        Flatten(),\n",
        "        Linear(512*7*7, 4096),                                   ReLU(),\n",
        "        Dropout(0.5), \n",
        "        Linear(4096, 4096),                                      ReLU(),\n",
        "        Dropout(0.5),\n",
        "        Linear(4096, num_classes)\n",
        "    )\n",
        "    self.converted_conv = Sequential(\n",
        "        Conv2d(512, 4096, kernel_size=7, stride=1),              ReLU(),\n",
        "        Conv2d(4096, 4096, kernel_size=1, stride=1),             ReLU(),\n",
        "        Conv2d(4096, num_classes, kernel_size=1, stride=1),      Softmax(dim=1),\n",
        "    )\n",
        "\n",
        "    self.train_state = True\n",
        "    self.net = self.build_net(self.train_state)"
      ],
      "metadata": {
        "id": "bQZf1uSTlPns"
      },
      "execution_count": null,
      "outputs": []
    },
    {
      "cell_type": "code",
      "source": [
        "vgg11 = VGG11()\n",
        "\n",
        "# Copy Conv weights from VGG7 to VGG11\n",
        "vgg11.conv_net[0].weight  = torch.nn.Parameter(vgg7.conv_net[0].weight)\n",
        "vgg11.conv_net[0].bias    = torch.nn.Parameter(vgg7.conv_net[0].bias)\n",
        "vgg11.conv_net[3].weight  = torch.nn.Parameter(vgg7.conv_net[3].weight)\n",
        "vgg11.conv_net[3].bias    = torch.nn.Parameter(vgg7.conv_net[3].bias)\n",
        "vgg11.conv_net[6].weight  = torch.nn.Parameter(vgg7.conv_net[6].weight)\n",
        "vgg11.conv_net[6].bias    = torch.nn.Parameter(vgg7.conv_net[6].bias)\n",
        "vgg11.conv_net[11].weight = torch.nn.Parameter(vgg7.conv_net[9].weight)\n",
        "vgg11.conv_net[11].bias   = torch.nn.Parameter(vgg7.conv_net[9].bias)\n",
        "vgg11.conv_net[16].weight = torch.nn.Parameter(vgg7.conv_net[12].weight)\n",
        "vgg11.conv_net[16].bias   = torch.nn.Parameter(vgg7.conv_net[12].bias)\n",
        "\n",
        "# Copy FC weights from VGG7 to VGG11\n",
        "vgg11.fc[1].weight = torch.nn.Parameter(vgg7.fc[1].weight)\n",
        "vgg11.fc[1].bias   = torch.nn.Parameter(vgg7.fc[1].bias)\n",
        "vgg11.fc[7].weight = torch.nn.Parameter(vgg7.fc[3].weight)\n",
        "vgg11.fc[7].bias   = torch.nn.Parameter(vgg7.fc[3].bias)"
      ],
      "metadata": {
        "id": "TX76P9r5l4SF"
      },
      "execution_count": null,
      "outputs": []
    },
    {
      "cell_type": "code",
      "execution_count": null,
      "metadata": {
        "id": "W04m2I_KCCk_"
      },
      "outputs": [],
      "source": [
        "BASE_LR = 0.01\n",
        "MOMENTUM = 0.9\n",
        "WEIGHT_DECAY = 5e-4\n",
        "NUM_EPOCHS = 50\n",
        "PATH = \"/content/gdrive/MyDrive/Colab Checkpoints/VGG11/state_dict.ckpt\""
      ]
    },
    {
      "cell_type": "code",
      "execution_count": null,
      "metadata": {
        "id": "ZR5DFc02Dq-G",
        "colab": {
          "base_uri": "https://localhost:8080/"
        },
        "outputId": "28505700-16bb-4fdd-d412-61d81eda3cd2"
      },
      "outputs": [
        {
          "metadata": {
            "tags": null
          },
          "name": "stderr",
          "output_type": "stream",
          "text": [
            "Epoch [1/50]: 100%|██████████| 237/237 [02:12<00:00,  1.79it/s, loss=2.29]\n"
          ]
        },
        {
          "metadata": {
            "tags": null
          },
          "name": "stdout",
          "output_type": "stream",
          "text": [
            "Train Loss: 2.306, Valid Acc:0.097\n",
            "State dict saved.\n"
          ]
        },
        {
          "metadata": {
            "tags": null
          },
          "name": "stderr",
          "output_type": "stream",
          "text": [
            "Epoch [2/50]: 100%|██████████| 237/237 [01:59<00:00,  1.98it/s, loss=2.19]\n"
          ]
        },
        {
          "metadata": {
            "tags": null
          },
          "name": "stdout",
          "output_type": "stream",
          "text": [
            "Train Loss: 2.127, Valid Acc:0.313\n",
            "State dict saved.\n"
          ]
        },
        {
          "metadata": {
            "tags": null
          },
          "name": "stderr",
          "output_type": "stream",
          "text": [
            "Epoch [3/50]: 100%|██████████| 237/237 [02:00<00:00,  1.97it/s, loss=1.88]\n"
          ]
        },
        {
          "metadata": {
            "tags": null
          },
          "name": "stdout",
          "output_type": "stream",
          "text": [
            "Train Loss: 1.814, Valid Acc:0.409\n",
            "State dict saved.\n"
          ]
        },
        {
          "metadata": {
            "tags": null
          },
          "name": "stderr",
          "output_type": "stream",
          "text": [
            "Epoch [4/50]: 100%|██████████| 237/237 [01:58<00:00,  2.00it/s, loss=1.51]\n"
          ]
        },
        {
          "metadata": {
            "tags": null
          },
          "name": "stdout",
          "output_type": "stream",
          "text": [
            "Train Loss: 1.529, Valid Acc:0.533\n",
            "State dict saved.\n"
          ]
        },
        {
          "metadata": {
            "tags": null
          },
          "name": "stderr",
          "output_type": "stream",
          "text": [
            "Epoch [5/50]: 100%|██████████| 237/237 [01:59<00:00,  1.99it/s, loss=1.34]\n"
          ]
        },
        {
          "metadata": {
            "tags": null
          },
          "name": "stdout",
          "output_type": "stream",
          "text": [
            "Train Loss: 1.335, Valid Acc:0.635\n",
            "State dict saved.\n"
          ]
        },
        {
          "metadata": {
            "tags": null
          },
          "name": "stderr",
          "output_type": "stream",
          "text": [
            "Epoch [6/50]: 100%|██████████| 237/237 [01:57<00:00,  2.02it/s, loss=1.56]\n"
          ]
        },
        {
          "metadata": {
            "tags": null
          },
          "name": "stdout",
          "output_type": "stream",
          "text": [
            "Train Loss: 1.232, Valid Acc:0.643\n",
            "State dict saved.\n"
          ]
        },
        {
          "metadata": {
            "tags": null
          },
          "name": "stderr",
          "output_type": "stream",
          "text": [
            "Epoch [7/50]: 100%|██████████| 237/237 [01:57<00:00,  2.01it/s, loss=0.704]\n"
          ]
        },
        {
          "metadata": {
            "tags": null
          },
          "name": "stdout",
          "output_type": "stream",
          "text": [
            "Train Loss: 1.175, Valid Acc:0.648\n",
            "State dict saved.\n"
          ]
        },
        {
          "metadata": {
            "tags": null
          },
          "name": "stderr",
          "output_type": "stream",
          "text": [
            "Epoch [8/50]: 100%|██████████| 237/237 [01:58<00:00,  2.00it/s, loss=1.05]\n"
          ]
        },
        {
          "metadata": {
            "tags": null
          },
          "name": "stdout",
          "output_type": "stream",
          "text": [
            "Train Loss: 1.022, Valid Acc:0.702\n",
            "State dict saved.\n"
          ]
        },
        {
          "metadata": {
            "tags": null
          },
          "name": "stderr",
          "output_type": "stream",
          "text": [
            "Epoch [9/50]: 100%|██████████| 237/237 [01:57<00:00,  2.02it/s, loss=1.28]\n"
          ]
        },
        {
          "metadata": {
            "tags": null
          },
          "name": "stdout",
          "output_type": "stream",
          "text": [
            "Train Loss: 0.966, Valid Acc:0.680\n"
          ]
        },
        {
          "metadata": {
            "tags": null
          },
          "name": "stderr",
          "output_type": "stream",
          "text": [
            "Epoch [10/50]: 100%|██████████| 237/237 [01:55<00:00,  2.04it/s, loss=0.527]\n"
          ]
        },
        {
          "metadata": {
            "tags": null
          },
          "name": "stdout",
          "output_type": "stream",
          "text": [
            "Train Loss: 0.934, Valid Acc:0.699\n"
          ]
        },
        {
          "metadata": {
            "tags": null
          },
          "name": "stderr",
          "output_type": "stream",
          "text": [
            "Epoch [11/50]: 100%|██████████| 237/237 [01:57<00:00,  2.02it/s, loss=0.776]\n"
          ]
        },
        {
          "metadata": {
            "tags": null
          },
          "name": "stdout",
          "output_type": "stream",
          "text": [
            "Train Loss: 0.858, Valid Acc:0.711\n",
            "State dict saved.\n"
          ]
        },
        {
          "metadata": {
            "tags": null
          },
          "name": "stderr",
          "output_type": "stream",
          "text": [
            "Epoch [12/50]: 100%|██████████| 237/237 [01:57<00:00,  2.01it/s, loss=1.09]\n"
          ]
        },
        {
          "metadata": {
            "tags": null
          },
          "name": "stdout",
          "output_type": "stream",
          "text": [
            "Train Loss: 0.857, Valid Acc:0.726\n",
            "State dict saved.\n"
          ]
        },
        {
          "metadata": {
            "tags": null
          },
          "name": "stderr",
          "output_type": "stream",
          "text": [
            "Epoch [13/50]: 100%|██████████| 237/237 [01:57<00:00,  2.01it/s, loss=1.03]\n"
          ]
        },
        {
          "metadata": {
            "tags": null
          },
          "name": "stdout",
          "output_type": "stream",
          "text": [
            "Train Loss: 0.760, Valid Acc:0.745\n",
            "State dict saved.\n"
          ]
        },
        {
          "metadata": {
            "tags": null
          },
          "name": "stderr",
          "output_type": "stream",
          "text": [
            "Epoch [14/50]: 100%|██████████| 237/237 [01:58<00:00,  1.99it/s, loss=0.629]\n"
          ]
        },
        {
          "metadata": {
            "tags": null
          },
          "name": "stdout",
          "output_type": "stream",
          "text": [
            "Train Loss: 0.765, Valid Acc:0.773\n",
            "State dict saved.\n"
          ]
        },
        {
          "output_type": "stream",
          "name": "stderr",
          "text": [
            "Epoch [15/50]: 100%|██████████| 237/237 [01:58<00:00,  2.00it/s, loss=0.649]\n"
          ]
        },
        {
          "output_type": "stream",
          "name": "stdout",
          "text": [
            "Train Loss: 0.743, Valid Acc:0.781\n",
            "State dict saved.\n"
          ]
        },
        {
          "output_type": "stream",
          "name": "stderr",
          "text": [
            "Epoch [16/50]: 100%|██████████| 237/237 [01:58<00:00,  2.00it/s, loss=0.567]\n"
          ]
        },
        {
          "output_type": "stream",
          "name": "stdout",
          "text": [
            "Train Loss: 0.694, Valid Acc:0.775\n"
          ]
        },
        {
          "output_type": "stream",
          "name": "stderr",
          "text": [
            "Epoch [17/50]: 100%|██████████| 237/237 [01:56<00:00,  2.03it/s, loss=0.337]\n"
          ]
        },
        {
          "output_type": "stream",
          "name": "stdout",
          "text": [
            "Train Loss: 0.679, Valid Acc:0.805\n",
            "State dict saved.\n"
          ]
        },
        {
          "output_type": "stream",
          "name": "stderr",
          "text": [
            "Epoch [18/50]: 100%|██████████| 237/237 [01:57<00:00,  2.01it/s, loss=0.582]\n"
          ]
        },
        {
          "output_type": "stream",
          "name": "stdout",
          "text": [
            "Train Loss: 0.642, Valid Acc:0.773\n"
          ]
        },
        {
          "output_type": "stream",
          "name": "stderr",
          "text": [
            "Epoch [19/50]: 100%|██████████| 237/237 [01:56<00:00,  2.03it/s, loss=0.702]\n"
          ]
        },
        {
          "output_type": "stream",
          "name": "stdout",
          "text": [
            "Train Loss: 0.622, Valid Acc:0.756\n"
          ]
        },
        {
          "output_type": "stream",
          "name": "stderr",
          "text": [
            "Epoch [20/50]: 100%|██████████| 237/237 [01:56<00:00,  2.03it/s, loss=0.884]\n"
          ]
        },
        {
          "output_type": "stream",
          "name": "stdout",
          "text": [
            "Train Loss: 0.608, Valid Acc:0.806\n",
            "State dict saved.\n"
          ]
        },
        {
          "output_type": "stream",
          "name": "stderr",
          "text": [
            "Epoch [21/50]: 100%|██████████| 237/237 [01:59<00:00,  1.99it/s, loss=0.327]\n"
          ]
        },
        {
          "output_type": "stream",
          "name": "stdout",
          "text": [
            "Train Loss: 0.587, Valid Acc:0.793\n"
          ]
        },
        {
          "output_type": "stream",
          "name": "stderr",
          "text": [
            "Epoch [22/50]: 100%|██████████| 237/237 [01:57<00:00,  2.03it/s, loss=0.789]\n"
          ]
        },
        {
          "output_type": "stream",
          "name": "stdout",
          "text": [
            "Train Loss: 0.563, Valid Acc:0.774\n"
          ]
        },
        {
          "output_type": "stream",
          "name": "stderr",
          "text": [
            "Epoch [23/50]: 100%|██████████| 237/237 [01:57<00:00,  2.01it/s, loss=0.768]\n"
          ]
        },
        {
          "output_type": "stream",
          "name": "stdout",
          "text": [
            "Train Loss: 0.547, Valid Acc:0.803\n"
          ]
        },
        {
          "output_type": "stream",
          "name": "stderr",
          "text": [
            "Epoch [24/50]: 100%|██████████| 237/237 [01:56<00:00,  2.03it/s, loss=0.702]\n"
          ]
        },
        {
          "output_type": "stream",
          "name": "stdout",
          "text": [
            "Train Loss: 0.519, Valid Acc:0.782\n"
          ]
        },
        {
          "output_type": "stream",
          "name": "stderr",
          "text": [
            "Epoch [25/50]: 100%|██████████| 237/237 [01:56<00:00,  2.04it/s, loss=0.207]\n"
          ]
        },
        {
          "output_type": "stream",
          "name": "stdout",
          "text": [
            "Train Loss: 0.519, Valid Acc:0.808\n",
            "State dict saved.\n"
          ]
        },
        {
          "output_type": "stream",
          "name": "stderr",
          "text": [
            "Epoch [26/50]: 100%|██████████| 237/237 [01:59<00:00,  1.98it/s, loss=0.37]\n"
          ]
        },
        {
          "output_type": "stream",
          "name": "stdout",
          "text": [
            "Train Loss: 0.500, Valid Acc:0.805\n"
          ]
        },
        {
          "output_type": "stream",
          "name": "stderr",
          "text": [
            "Epoch [27/50]: 100%|██████████| 237/237 [01:56<00:00,  2.04it/s, loss=0.429]\n"
          ]
        },
        {
          "output_type": "stream",
          "name": "stdout",
          "text": [
            "Train Loss: 0.465, Valid Acc:0.835\n",
            "State dict saved.\n"
          ]
        },
        {
          "output_type": "stream",
          "name": "stderr",
          "text": [
            "Epoch [28/50]: 100%|██████████| 237/237 [01:57<00:00,  2.01it/s, loss=0.261]\n"
          ]
        },
        {
          "output_type": "stream",
          "name": "stdout",
          "text": [
            "Train Loss: 0.476, Valid Acc:0.830\n"
          ]
        },
        {
          "output_type": "stream",
          "name": "stderr",
          "text": [
            "Epoch [29/50]: 100%|██████████| 237/237 [01:56<00:00,  2.03it/s, loss=0.6]\n"
          ]
        },
        {
          "output_type": "stream",
          "name": "stdout",
          "text": [
            "Train Loss: 0.454, Valid Acc:0.812\n"
          ]
        },
        {
          "output_type": "stream",
          "name": "stderr",
          "text": [
            "Epoch [30/50]: 100%|██████████| 237/237 [01:56<00:00,  2.03it/s, loss=0.523]\n"
          ]
        },
        {
          "output_type": "stream",
          "name": "stdout",
          "text": [
            "Train Loss: 0.424, Valid Acc:0.837\n",
            "State dict saved.\n"
          ]
        },
        {
          "output_type": "stream",
          "name": "stderr",
          "text": [
            "Epoch [31/50]: 100%|██████████| 237/237 [01:57<00:00,  2.01it/s, loss=0.172]\n"
          ]
        },
        {
          "output_type": "stream",
          "name": "stdout",
          "text": [
            "Train Loss: 0.441, Valid Acc:0.842\n",
            "State dict saved.\n"
          ]
        },
        {
          "output_type": "stream",
          "name": "stderr",
          "text": [
            "Epoch [32/50]: 100%|██████████| 237/237 [01:57<00:00,  2.01it/s, loss=0.179]\n"
          ]
        },
        {
          "output_type": "stream",
          "name": "stdout",
          "text": [
            "Train Loss: 0.397, Valid Acc:0.829\n"
          ]
        },
        {
          "output_type": "stream",
          "name": "stderr",
          "text": [
            "Epoch [33/50]: 100%|██████████| 237/237 [01:56<00:00,  2.03it/s, loss=0.382]\n"
          ]
        },
        {
          "output_type": "stream",
          "name": "stdout",
          "text": [
            "Train Loss: 0.443, Valid Acc:0.823\n"
          ]
        },
        {
          "output_type": "stream",
          "name": "stderr",
          "text": [
            "Epoch [34/50]: 100%|██████████| 237/237 [01:56<00:00,  2.03it/s, loss=0.425]\n"
          ]
        },
        {
          "output_type": "stream",
          "name": "stdout",
          "text": [
            "Train Loss: 0.423, Valid Acc:0.835\n"
          ]
        },
        {
          "output_type": "stream",
          "name": "stderr",
          "text": [
            "Epoch [35/50]: 100%|██████████| 237/237 [01:56<00:00,  2.04it/s, loss=0.339]\n"
          ]
        },
        {
          "output_type": "stream",
          "name": "stdout",
          "text": [
            "Train Loss: 0.387, Valid Acc:0.825\n"
          ]
        },
        {
          "output_type": "stream",
          "name": "stderr",
          "text": [
            "Epoch [36/50]: 100%|██████████| 237/237 [01:57<00:00,  2.02it/s, loss=0.436]\n"
          ]
        },
        {
          "output_type": "stream",
          "name": "stdout",
          "text": [
            "Train Loss: 0.379, Valid Acc:0.849\n",
            "State dict saved.\n"
          ]
        },
        {
          "output_type": "stream",
          "name": "stderr",
          "text": [
            "Epoch [37/50]: 100%|██████████| 237/237 [01:58<00:00,  2.00it/s, loss=0.114]\n"
          ]
        },
        {
          "output_type": "stream",
          "name": "stdout",
          "text": [
            "Train Loss: 0.368, Valid Acc:0.844\n"
          ]
        },
        {
          "output_type": "stream",
          "name": "stderr",
          "text": [
            "Epoch [38/50]: 100%|██████████| 237/237 [01:56<00:00,  2.04it/s, loss=0.193]\n"
          ]
        },
        {
          "output_type": "stream",
          "name": "stdout",
          "text": [
            "Train Loss: 0.358, Valid Acc:0.823\n"
          ]
        },
        {
          "output_type": "stream",
          "name": "stderr",
          "text": [
            "Epoch [39/50]: 100%|██████████| 237/237 [01:56<00:00,  2.03it/s, loss=0.198]\n"
          ]
        },
        {
          "output_type": "stream",
          "name": "stdout",
          "text": [
            "Train Loss: 0.362, Valid Acc:0.847\n"
          ]
        },
        {
          "output_type": "stream",
          "name": "stderr",
          "text": [
            "Epoch [40/50]: 100%|██████████| 237/237 [01:57<00:00,  2.02it/s, loss=0.215]\n"
          ]
        },
        {
          "output_type": "stream",
          "name": "stdout",
          "text": [
            "Train Loss: 0.302, Valid Acc:0.848\n"
          ]
        },
        {
          "output_type": "stream",
          "name": "stderr",
          "text": [
            "Epoch [41/50]: 100%|██████████| 237/237 [01:57<00:00,  2.02it/s, loss=0.345]\n"
          ]
        },
        {
          "output_type": "stream",
          "name": "stdout",
          "text": [
            "Train Loss: 0.333, Valid Acc:0.818\n"
          ]
        },
        {
          "output_type": "stream",
          "name": "stderr",
          "text": [
            "Epoch [42/50]: 100%|██████████| 237/237 [01:56<00:00,  2.03it/s, loss=0.0891]\n"
          ]
        },
        {
          "output_type": "stream",
          "name": "stdout",
          "text": [
            "Train Loss: 0.300, Valid Acc:0.831\n"
          ]
        },
        {
          "output_type": "stream",
          "name": "stderr",
          "text": [
            "Epoch [43/50]: 100%|██████████| 237/237 [01:56<00:00,  2.04it/s, loss=0.21]\n"
          ]
        },
        {
          "output_type": "stream",
          "name": "stdout",
          "text": [
            "Train Loss: 0.323, Valid Acc:0.810\n"
          ]
        },
        {
          "output_type": "stream",
          "name": "stderr",
          "text": [
            "Epoch [44/50]: 100%|██████████| 237/237 [01:57<00:00,  2.02it/s, loss=0.43]\n"
          ]
        },
        {
          "output_type": "stream",
          "name": "stdout",
          "text": [
            "Train Loss: 0.317, Valid Acc:0.847\n"
          ]
        },
        {
          "output_type": "stream",
          "name": "stderr",
          "text": [
            "Epoch [45/50]: 100%|██████████| 237/237 [01:56<00:00,  2.03it/s, loss=0.618]\n"
          ]
        },
        {
          "output_type": "stream",
          "name": "stdout",
          "text": [
            "Train Loss: 0.306, Valid Acc:0.836\n"
          ]
        },
        {
          "output_type": "stream",
          "name": "stderr",
          "text": [
            "Epoch [46/50]: 100%|██████████| 237/237 [01:56<00:00,  2.03it/s, loss=0.516]\n"
          ]
        },
        {
          "output_type": "stream",
          "name": "stdout",
          "text": [
            "Train Loss: 0.309, Valid Acc:0.827\n"
          ]
        },
        {
          "output_type": "stream",
          "name": "stderr",
          "text": [
            "Epoch [47/50]: 100%|██████████| 237/237 [01:56<00:00,  2.04it/s, loss=0.337]\n"
          ]
        },
        {
          "output_type": "stream",
          "name": "stdout",
          "text": [
            "Train Loss: 0.291, Valid Acc:0.836\n"
          ]
        },
        {
          "output_type": "stream",
          "name": "stderr",
          "text": [
            "Epoch [48/50]: 100%|██████████| 237/237 [01:56<00:00,  2.04it/s, loss=0.215]\n"
          ]
        },
        {
          "output_type": "stream",
          "name": "stdout",
          "text": [
            "Train Loss: 0.171, Valid Acc:0.863\n",
            "State dict saved.\n"
          ]
        },
        {
          "output_type": "stream",
          "name": "stderr",
          "text": [
            "Epoch [49/50]: 100%|██████████| 237/237 [01:58<00:00,  1.99it/s, loss=0.0968]\n"
          ]
        },
        {
          "output_type": "stream",
          "name": "stdout",
          "text": [
            "Train Loss: 0.136, Valid Acc:0.861\n"
          ]
        },
        {
          "output_type": "stream",
          "name": "stderr",
          "text": [
            "Epoch [50/50]: 100%|██████████| 237/237 [01:57<00:00,  2.02it/s, loss=0.078]\n"
          ]
        },
        {
          "output_type": "stream",
          "name": "stdout",
          "text": [
            "Train Loss: 0.121, Valid Acc:0.870\n",
            "State dict saved.\n",
            "State dict saved.\n"
          ]
        }
      ],
      "source": [
        "criterion = nn.CrossEntropyLoss()\n",
        "optimizer = torch.optim.SGD(vgg11.parameters(), BASE_LR, MOMENTUM, 0, WEIGHT_DECAY)\n",
        "scheduler = torch.optim.lr_scheduler.ReduceLROnPlateau(optimizer, 'max', factor=0.1)\n",
        "\n",
        "hm = HyperModule(\n",
        "    model = vgg11,\n",
        "    criterion = criterion,\n",
        "    optimizer = optimizer,\n",
        "    scheduler = scheduler\n",
        ")\n",
        "\n",
        "hm.train(train_dataloader, (valid_dataloader, valid_dataloader_f), PATH, NUM_EPOCHS)"
      ]
    },
    {
      "cell_type": "code",
      "execution_count": null,
      "metadata": {
        "id": "3mob9-JeISLh"
      },
      "outputs": [],
      "source": [
        "BASE_LR = 0.001\n",
        "MOMENTUM = 0.9\n",
        "WEIGHT_DECAY = 5e-4\n",
        "NUM_EPOCHS = 30\n",
        "PATH = \"/content/gdrive/MyDrive/Colab Checkpoints/VGG11/state_dict2.ckpt\""
      ]
    },
    {
      "cell_type": "code",
      "source": [
        "optimizer = torch.optim.SGD(hm.model.parameters(), 0.001, MOMENTUM, 0, WEIGHT_DECAY)\n",
        "scheduler = torch.optim.lr_scheduler.ReduceLROnPlateau(optimizer, 'max', factor=0.1)\n",
        "\n",
        "hm.optimizer = optimizer\n",
        "hm.scheduler = scheduler\n",
        "hm.train(train_dataloader, (valid_dataloader, valid_dataloader_f), PATH, NUM_EPOCHS)"
      ],
      "metadata": {
        "colab": {
          "base_uri": "https://localhost:8080/"
        },
        "id": "nwLmQpwsGrE3",
        "outputId": "48018385-3bec-4dbc-c725-04587390ec13"
      },
      "execution_count": null,
      "outputs": [
        {
          "output_type": "stream",
          "name": "stderr",
          "text": [
            "Epoch [51/80]: 100%|██████████| 237/237 [02:03<00:00,  1.92it/s, loss=0.0435]\n"
          ]
        },
        {
          "output_type": "stream",
          "name": "stdout",
          "text": [
            "Train Loss: 0.114, Valid Acc:0.868\n"
          ]
        },
        {
          "output_type": "stream",
          "name": "stderr",
          "text": [
            "Epoch [52/80]: 100%|██████████| 237/237 [01:56<00:00,  2.03it/s, loss=0.051]\n"
          ]
        },
        {
          "output_type": "stream",
          "name": "stdout",
          "text": [
            "Train Loss: 0.115, Valid Acc:0.869\n"
          ]
        },
        {
          "output_type": "stream",
          "name": "stderr",
          "text": [
            "Epoch [53/80]: 100%|██████████| 237/237 [01:57<00:00,  2.02it/s, loss=0.194]\n"
          ]
        },
        {
          "output_type": "stream",
          "name": "stdout",
          "text": [
            "Train Loss: 0.103, Valid Acc:0.867\n"
          ]
        },
        {
          "output_type": "stream",
          "name": "stderr",
          "text": [
            "Epoch [54/80]: 100%|██████████| 237/237 [01:57<00:00,  2.01it/s, loss=0.0176]\n"
          ]
        },
        {
          "output_type": "stream",
          "name": "stdout",
          "text": [
            "Train Loss: 0.098, Valid Acc:0.866\n"
          ]
        },
        {
          "output_type": "stream",
          "name": "stderr",
          "text": [
            "Epoch [55/80]: 100%|██████████| 237/237 [01:58<00:00,  2.01it/s, loss=0.0627]\n"
          ]
        },
        {
          "output_type": "stream",
          "name": "stdout",
          "text": [
            "Train Loss: 0.098, Valid Acc:0.869\n"
          ]
        },
        {
          "output_type": "stream",
          "name": "stderr",
          "text": [
            "Epoch [56/80]: 100%|██████████| 237/237 [01:58<00:00,  2.00it/s, loss=0.0461]\n"
          ]
        },
        {
          "output_type": "stream",
          "name": "stdout",
          "text": [
            "Train Loss: 0.088, Valid Acc:0.874\n",
            "State dict saved.\n"
          ]
        },
        {
          "output_type": "stream",
          "name": "stderr",
          "text": [
            "Epoch [57/80]: 100%|██████████| 237/237 [02:02<00:00,  1.93it/s, loss=0.041]\n"
          ]
        },
        {
          "output_type": "stream",
          "name": "stdout",
          "text": [
            "Train Loss: 0.091, Valid Acc:0.872\n"
          ]
        },
        {
          "output_type": "stream",
          "name": "stderr",
          "text": [
            "Epoch [58/80]: 100%|██████████| 237/237 [01:59<00:00,  1.98it/s, loss=0.113]\n"
          ]
        },
        {
          "output_type": "stream",
          "name": "stdout",
          "text": [
            "Train Loss: 0.088, Valid Acc:0.874\n"
          ]
        },
        {
          "output_type": "stream",
          "name": "stderr",
          "text": [
            "Epoch [59/80]: 100%|██████████| 237/237 [02:00<00:00,  1.97it/s, loss=0.148]\n"
          ]
        },
        {
          "output_type": "stream",
          "name": "stdout",
          "text": [
            "Train Loss: 0.089, Valid Acc:0.871\n"
          ]
        },
        {
          "output_type": "stream",
          "name": "stderr",
          "text": [
            "Epoch [60/80]: 100%|██████████| 237/237 [02:00<00:00,  1.97it/s, loss=0.0274]\n"
          ]
        },
        {
          "output_type": "stream",
          "name": "stdout",
          "text": [
            "Train Loss: 0.081, Valid Acc:0.868\n"
          ]
        },
        {
          "output_type": "stream",
          "name": "stderr",
          "text": [
            "Epoch [61/80]: 100%|██████████| 237/237 [01:59<00:00,  1.99it/s, loss=0.0438]\n"
          ]
        },
        {
          "output_type": "stream",
          "name": "stdout",
          "text": [
            "Train Loss: 0.076, Valid Acc:0.874\n"
          ]
        },
        {
          "output_type": "stream",
          "name": "stderr",
          "text": [
            "Epoch [62/80]: 100%|██████████| 237/237 [02:00<00:00,  1.97it/s, loss=0.0581]\n"
          ]
        },
        {
          "output_type": "stream",
          "name": "stdout",
          "text": [
            "Train Loss: 0.077, Valid Acc:0.870\n"
          ]
        },
        {
          "output_type": "stream",
          "name": "stderr",
          "text": [
            "Epoch [63/80]: 100%|██████████| 237/237 [01:56<00:00,  2.03it/s, loss=0.13]\n"
          ]
        },
        {
          "output_type": "stream",
          "name": "stdout",
          "text": [
            "Train Loss: 0.073, Valid Acc:0.868\n"
          ]
        },
        {
          "output_type": "stream",
          "name": "stderr",
          "text": [
            "Epoch [64/80]: 100%|██████████| 237/237 [01:56<00:00,  2.03it/s, loss=0.109]\n"
          ]
        },
        {
          "output_type": "stream",
          "name": "stdout",
          "text": [
            "Train Loss: 0.068, Valid Acc:0.877\n",
            "State dict saved.\n"
          ]
        },
        {
          "output_type": "stream",
          "name": "stderr",
          "text": [
            "Epoch [65/80]: 100%|██████████| 237/237 [02:00<00:00,  1.96it/s, loss=0.0299]\n"
          ]
        },
        {
          "output_type": "stream",
          "name": "stdout",
          "text": [
            "Train Loss: 0.072, Valid Acc:0.876\n"
          ]
        },
        {
          "output_type": "stream",
          "name": "stderr",
          "text": [
            "Epoch [66/80]: 100%|██████████| 237/237 [01:57<00:00,  2.02it/s, loss=0.0188]\n"
          ]
        },
        {
          "output_type": "stream",
          "name": "stdout",
          "text": [
            "Train Loss: 0.065, Valid Acc:0.879\n",
            "State dict saved.\n"
          ]
        },
        {
          "output_type": "stream",
          "name": "stderr",
          "text": [
            "Epoch [67/80]: 100%|██████████| 237/237 [01:58<00:00,  1.99it/s, loss=0.00631]\n"
          ]
        },
        {
          "output_type": "stream",
          "name": "stdout",
          "text": [
            "Train Loss: 0.067, Valid Acc:0.874\n"
          ]
        },
        {
          "output_type": "stream",
          "name": "stderr",
          "text": [
            "Epoch [68/80]: 100%|██████████| 237/237 [01:57<00:00,  2.02it/s, loss=0.00374]\n"
          ]
        },
        {
          "output_type": "stream",
          "name": "stdout",
          "text": [
            "Train Loss: 0.066, Valid Acc:0.875\n"
          ]
        },
        {
          "output_type": "stream",
          "name": "stderr",
          "text": [
            "Epoch [69/80]: 100%|██████████| 237/237 [01:57<00:00,  2.02it/s, loss=0.0184]\n"
          ]
        },
        {
          "output_type": "stream",
          "name": "stdout",
          "text": [
            "Train Loss: 0.063, Valid Acc:0.873\n"
          ]
        },
        {
          "output_type": "stream",
          "name": "stderr",
          "text": [
            "Epoch [70/80]: 100%|██████████| 237/237 [01:58<00:00,  2.00it/s, loss=0.00245]\n"
          ]
        },
        {
          "output_type": "stream",
          "name": "stdout",
          "text": [
            "Train Loss: 0.061, Valid Acc:0.877\n"
          ]
        },
        {
          "output_type": "stream",
          "name": "stderr",
          "text": [
            "Epoch [71/80]: 100%|██████████| 237/237 [01:57<00:00,  2.01it/s, loss=0.057]\n"
          ]
        },
        {
          "output_type": "stream",
          "name": "stdout",
          "text": [
            "Train Loss: 0.058, Valid Acc:0.874\n"
          ]
        },
        {
          "output_type": "stream",
          "name": "stderr",
          "text": [
            "Epoch [72/80]: 100%|██████████| 237/237 [01:58<00:00,  2.01it/s, loss=0.00533]\n"
          ]
        },
        {
          "output_type": "stream",
          "name": "stdout",
          "text": [
            "Train Loss: 0.060, Valid Acc:0.875\n"
          ]
        },
        {
          "output_type": "stream",
          "name": "stderr",
          "text": [
            "Epoch [73/80]: 100%|██████████| 237/237 [01:57<00:00,  2.02it/s, loss=0.00825]\n"
          ]
        },
        {
          "output_type": "stream",
          "name": "stdout",
          "text": [
            "Train Loss: 0.054, Valid Acc:0.875\n"
          ]
        },
        {
          "output_type": "stream",
          "name": "stderr",
          "text": [
            "Epoch [74/80]: 100%|██████████| 237/237 [01:57<00:00,  2.02it/s, loss=0.0257]\n"
          ]
        },
        {
          "output_type": "stream",
          "name": "stdout",
          "text": [
            "Train Loss: 0.051, Valid Acc:0.872\n"
          ]
        },
        {
          "output_type": "stream",
          "name": "stderr",
          "text": [
            "Epoch [75/80]: 100%|██████████| 237/237 [01:56<00:00,  2.03it/s, loss=0.00471]\n"
          ]
        },
        {
          "output_type": "stream",
          "name": "stdout",
          "text": [
            "Train Loss: 0.054, Valid Acc:0.875\n"
          ]
        },
        {
          "output_type": "stream",
          "name": "stderr",
          "text": [
            "Epoch [76/80]: 100%|██████████| 237/237 [01:56<00:00,  2.03it/s, loss=0.0257]\n"
          ]
        },
        {
          "output_type": "stream",
          "name": "stdout",
          "text": [
            "Train Loss: 0.052, Valid Acc:0.868\n"
          ]
        },
        {
          "output_type": "stream",
          "name": "stderr",
          "text": [
            "Epoch [77/80]: 100%|██████████| 237/237 [01:56<00:00,  2.03it/s, loss=0.145]\n"
          ]
        },
        {
          "output_type": "stream",
          "name": "stdout",
          "text": [
            "Train Loss: 0.050, Valid Acc:0.872\n"
          ]
        },
        {
          "output_type": "stream",
          "name": "stderr",
          "text": [
            "Epoch [78/80]: 100%|██████████| 237/237 [01:57<00:00,  2.03it/s, loss=0.123]\n"
          ]
        },
        {
          "output_type": "stream",
          "name": "stdout",
          "text": [
            "Train Loss: 0.050, Valid Acc:0.878\n"
          ]
        },
        {
          "output_type": "stream",
          "name": "stderr",
          "text": [
            "Epoch [79/80]: 100%|██████████| 237/237 [01:56<00:00,  2.04it/s, loss=0.018]\n"
          ]
        },
        {
          "output_type": "stream",
          "name": "stdout",
          "text": [
            "Train Loss: 0.046, Valid Acc:0.878\n"
          ]
        },
        {
          "output_type": "stream",
          "name": "stderr",
          "text": [
            "Epoch [80/80]: 100%|██████████| 237/237 [01:56<00:00,  2.04it/s, loss=0.115]\n"
          ]
        },
        {
          "output_type": "stream",
          "name": "stdout",
          "text": [
            "Train Loss: 0.047, Valid Acc:0.878\n",
            "State dict saved.\n"
          ]
        }
      ]
    },
    {
      "cell_type": "code",
      "source": [
        "hm.test(test_dataloader, test_dataloader_f)"
      ],
      "metadata": {
        "colab": {
          "base_uri": "https://localhost:8080/",
          "height": 690
        },
        "id": "i_Va-pmrRF19",
        "outputId": "5c0dbecf-53c4-4634-be17-982fd95b2d90"
      },
      "execution_count": null,
      "outputs": [
        {
          "output_type": "display_data",
          "data": {
            "text/plain": [
              "<Figure size 864x576 with 2 Axes>"
            ],
            "image/png": "[encoded data removed]"
          },
          "metadata": {
            "needs_background": "light"
          }
        },
        {
          "output_type": "stream",
          "name": "stdout",
          "text": [
            "Acc of 0: 0.9354\n",
            "Acc of 1: 0.9494\n",
            "Acc of 2: 0.8739\n",
            "Acc of 3: 0.8135\n",
            "Acc of 4: 0.8973\n",
            "Acc of 5: 0.8934\n",
            "Acc of 6: 0.9177\n",
            "Acc of 7: 0.8210\n",
            "Acc of 8: 0.8847\n",
            "Acc of 9: 0.8692\n",
            "\n",
            "Total Acc: 0.8853503184713376\n"
          ]
        }
      ]
    },
    {
      "cell_type": "markdown",
      "source": [
        "# Delete Machine after finishing\n"
      ],
      "metadata": {
        "id": "0H6VenJrAvGl"
      }
    },
    {
      "cell_type": "code",
      "source": [
        "from google.colab import runtime\n",
        "runtime.unassign()"
      ],
      "metadata": {
        "id": "xIi9zJ-yAbxu"
      },
      "execution_count": null,
      "outputs": []
    },
    {
      "cell_type": "markdown",
      "metadata": {
        "id": "chp2qwTyPweb"
      },
      "source": [
        "Reference:\n",
        "* [Network In Network](https://arxiv.org/pdf/1312.4400.pdf)\n",
        "* [Dive into Deep Learning - Section 8.3](http://d2l.ai/chapter_convolutional-modern/nin.html)\n",
        "* [Blog Post from 星期五。見面](https://meetonfriday.com/posts/a151bfa2/)\n",
        "* [Blog Post from Math.py](https://allen108108.github.io/blog/2019/10/07/%5B%E8%AB%96%E6%96%87%5D%20Network%20In%20Network/)"
      ]
    }
  ],
  "metadata": {
    "colab": {
      "provenance": [],
      "toc_visible": true,
      "include_colab_link": true
    },
    "gpuClass": "standard",
    "kernelspec": {
      "display_name": "Python 3",
      "name": "python3"
    },
    "language_info": {
      "name": "python"
    },
    "accelerator": "GPU"
  },
  "nbformat": 4,
  "nbformat_minor": 0
}