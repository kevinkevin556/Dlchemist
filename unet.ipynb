{
  "nbformat": 4,
  "nbformat_minor": 0,
  "metadata": {
    "colab": {
      "provenance": [],
      "authorship_tag": "ABX9TyNYmkbRQ5VMMP1sA9MRqYa1",
      "include_colab_link": true
    },
    "kernelspec": {
      "name": "python3",
      "display_name": "Python 3"
    },
    "language_info": {
      "name": "python"
    },
    "gpuClass": "standard",
    "accelerator": "GPU"
  },
  "cells": [
    {
      "cell_type": "markdown",
      "metadata": {
        "id": "view-in-github",
        "colab_type": "text"
      },
      "source": [
        "<a href=\"https://colab.research.google.com/github/kevinkevin556/Dlchemist/blob/main/unet.ipynb\" target=\"_parent\"><img src=\"https://colab.research.google.com/assets/colab-badge.svg\" alt=\"Open In Colab\"/></a>"
      ]
    },
    {
      "cell_type": "markdown",
      "source": [
        "# **U-Net on ISBI 2012 Dataset (Electron Microscopic stacks)**"
      ],
      "metadata": {
        "id": "Yg6fhsPYLJvE"
      }
    },
    {
      "cell_type": "code",
      "execution_count": 1,
      "metadata": {
        "colab": {
          "base_uri": "https://localhost:8080/"
        },
        "id": "ipzVx8QVxEKf",
        "outputId": "cec72faa-d2a6-4de5-c4fc-fe93201b55ec"
      },
      "outputs": [
        {
          "output_type": "stream",
          "name": "stdout",
          "text": [
            "Looking in indexes: https://pypi.org/simple, https://us-python.pkg.dev/colab-wheels/public/simple/\n",
            "Collecting einops\n",
            "  Downloading einops-0.6.0-py3-none-any.whl (41 kB)\n",
            "\u001b[2K     \u001b[90m━━━━━━━━━━━━━━━━━━━━━━━━━━━━━━━━━━━━━━━\u001b[0m \u001b[32m41.6/41.6 KB\u001b[0m \u001b[31m726.1 kB/s\u001b[0m eta \u001b[36m0:00:00\u001b[0m\n",
            "\u001b[?25hInstalling collected packages: einops\n",
            "Successfully installed einops-0.6.0\n"
          ]
        }
      ],
      "source": [
        "! pip install einops"
      ]
    },
    {
      "cell_type": "code",
      "source": [
        "import os\n",
        "from google.colab import drive\n",
        "\n",
        "# Mount your google drive to save training checkpoints.\n",
        "drive.mount('/content/gdrive')\n",
        "\n",
        "# Prepare directory for PATH.\n",
        "directory = f\"/content/gdrive/MyDrive/Colab Checkpoints/U-Net/\"\n",
        "if not os.path.exists(directory):\n",
        "  os.makedirs(directory)\n",
        "  \n",
        "PATH = directory + \"state_dict.ckpt\""
      ],
      "metadata": {
        "colab": {
          "base_uri": "https://localhost:8080/"
        },
        "id": "M8jl1_pTLUk1",
        "outputId": "88af41c0-6ecf-41a3-97b4-66ff831ed9f5"
      },
      "execution_count": null,
      "outputs": [
        {
          "output_type": "stream",
          "name": "stdout",
          "text": [
            "Mounted at /content/gdrive\n"
          ]
        }
      ]
    },
    {
      "cell_type": "code",
      "source": [
        "import numpy as np\n",
        "import torch\n",
        "import torch.nn as nn\n",
        "from torch import tensor\n",
        "from tqdm import tqdm\n",
        "\n",
        "device = torch.device('cuda' if torch.cuda.is_available() else 'cpu')"
      ],
      "metadata": {
        "id": "tU71sFcxLtfZ"
      },
      "execution_count": 2,
      "outputs": []
    },
    {
      "cell_type": "markdown",
      "source": [
        "# **Section 1. Set up**"
      ],
      "metadata": {
        "id": "5vCAUSwFL34V"
      }
    },
    {
      "cell_type": "markdown",
      "source": [
        "## **Dataset**"
      ],
      "metadata": {
        "id": "zTjoHlLbsCSf"
      }
    },
    {
      "cell_type": "code",
      "source": [
        "!gdown https://downloads.imagej.net/ISBI-2012-challenge.zip\n",
        "!unzip /content/ISBI-2012-challenge.zip -x / -d ."
      ],
      "metadata": {
        "colab": {
          "base_uri": "https://localhost:8080/"
        },
        "id": "S7Aejl5XQEFi",
        "outputId": "be7192ed-4204-42bd-e299-7a50a028d2bb"
      },
      "execution_count": 3,
      "outputs": [
        {
          "output_type": "stream",
          "name": "stdout",
          "text": [
            "Downloading...\n",
            "From: https://downloads.imagej.net/ISBI-2012-challenge.zip\n",
            "To: /content/ISBI-2012-challenge.zip\n",
            "100% 31.5M/31.5M [00:03<00:00, 8.40MB/s]\n",
            "Archive:  /content/ISBI-2012-challenge.zip\n",
            " extracting: ./test-volume.tif       \n",
            " extracting: ./test-labels.tif       \n",
            " extracting: ./train-labels.tif      \n",
            " extracting: ./train-volume.tif      \n",
            " extracting: ./challenge-error-metrics.bsh  \n"
          ]
        }
      ]
    },
    {
      "cell_type": "code",
      "source": [
        "from PIL import Image\n",
        "from torch.utils.data import Dataset\n",
        "\n",
        "class ISBI2012(Dataset):\n",
        "    def __init__(self, volume_path, labels_path, indices=None, transform=None, target_transform=None):\n",
        "        self.volume =  Image.open(volume_path)\n",
        "        self.labels =  Image.open(labels_path)\n",
        "        assert self.volume.n_frames == self.labels.n_frames\n",
        "        self.indices = indices\n",
        "\n",
        "        self.transform = transform\n",
        "        self.target_transform = target_transform\n",
        "\n",
        "    def __len__(self):\n",
        "        return self.volume.n_frames\n",
        "\n",
        "    def __getitem__(self, idx):\n",
        "        if self.indices is not None:\n",
        "            idx = self.indices[idx]\n",
        "\n",
        "        self.volume.seek(idx)\n",
        "        image = self.volume\n",
        "        if self.transform is not None: \n",
        "            image = self.transform(image)\n",
        "\n",
        "        self.labels.seek(idx)\n",
        "        label = self.labels\n",
        "        if self.target_transform:\n",
        "            label = self.target_transform(label)\n",
        "\n",
        "        return image, label"
      ],
      "metadata": {
        "id": "B4X_f9HXL3ND"
      },
      "execution_count": 4,
      "outputs": []
    },
    {
      "cell_type": "code",
      "source": [
        "from torch.utils.data import DataLoader\n",
        "from torchvision.transforms import ToTensor\n",
        "\n",
        "total_size = 30\n",
        "valid_size = total_size // 5\n",
        "rng = np.random.default_rng(42)\n",
        "indices = rng.permutation(total_size)\n",
        "train_id, valid_id = indices[:-valid_size], indices[valid_size:]\n",
        "\n",
        "train_dataset = ISBI2012('./train-volume.tif', './train-labels.tif', train_id,\n",
        "                         transform=ToTensor(),\n",
        "                         target_transform=ToTensor())\n",
        "valid_dataset = ISBI2012('./train-volume.tif', './train-labels.tif', valid_id,\n",
        "                         transform=ToTensor(),\n",
        "                         target_transform=ToTensor())\n",
        "test_dataset = ISBI2012('./test-volume.tif', './test-labels.tif',\n",
        "                         transform=ToTensor(),\n",
        "                         target_transform=ToTensor())\n",
        "\n",
        "\n",
        "print(\"\\nData Size:\")\n",
        "print(\"* Training set   => \", len(train_dataset), \"images\")\n",
        "print(\"* Validation set => \", len(valid_dataset), \"images\")\n",
        "print(\"* Testing set    => \", len(test_dataset), \"images\")\n",
        "\n",
        "print(\"\\nImage Shape (C, H, W):\")\n",
        "print(\"* Training image:\", train_dataset[0][0].shape)\n",
        "print(\"* Validation image: \", valid_dataset[0][0].shape)\n",
        "print(\"* Testing image: \", test_dataset[0][0].shape)\n"
      ],
      "metadata": {
        "colab": {
          "base_uri": "https://localhost:8080/"
        },
        "id": "RxJE-TLRr-d3",
        "outputId": "b5e85849-5024-4ba7-8120-3a8e349199fc"
      },
      "execution_count": 5,
      "outputs": [
        {
          "output_type": "stream",
          "name": "stdout",
          "text": [
            "\n",
            "Data Size:\n",
            "* Training set   =>  30 images\n",
            "* Validation set =>  30 images\n",
            "* Testing set    =>  30 images\n",
            "\n",
            "Image Shape (C, H, W):\n",
            "* Training image: torch.Size([1, 512, 512])\n",
            "* Validation image:  torch.Size([1, 512, 512])\n",
            "* Testing image:  torch.Size([1, 512, 512])\n"
          ]
        }
      ]
    },
    {
      "cell_type": "code",
      "source": [
        "train_dataset[0][0]"
      ],
      "metadata": {
        "colab": {
          "base_uri": "https://localhost:8080/"
        },
        "id": "B19eGp-e0FMV",
        "outputId": "aa9f105e-84dc-45a0-df84-8c6efa9fb1df"
      },
      "execution_count": 6,
      "outputs": [
        {
          "output_type": "execute_result",
          "data": {
            "text/plain": [
              "tensor([[[0.2902, 0.3529, 0.2667,  ..., 0.5451, 0.4471, 0.5176],\n",
              "         [0.2471, 0.2902, 0.1882,  ..., 0.4235, 0.4196, 0.4039],\n",
              "         [0.1451, 0.1686, 0.1647,  ..., 0.3961, 0.3922, 0.3137],\n",
              "         ...,\n",
              "         [0.5490, 0.5294, 0.4824,  ..., 0.8353, 0.7451, 0.7255],\n",
              "         [0.3686, 0.4118, 0.4863,  ..., 0.7882, 0.7608, 0.7529],\n",
              "         [0.3804, 0.3529, 0.3882,  ..., 0.7804, 0.7804, 0.7882]]])"
            ]
          },
          "metadata": {},
          "execution_count": 6
        }
      ]
    },
    {
      "cell_type": "markdown",
      "source": [
        "## **DataLoaders**"
      ],
      "metadata": {
        "id": "CWnRI9bHxQV4"
      }
    },
    {
      "cell_type": "code",
      "source": [
        "train_dataloader = DataLoader(train_dataset, batch_size=1, shuffle=True, pin_memory=True)\n",
        "valid_dataloader = DataLoader(valid_dataset, batch_size=1, shuffle=True, pin_memory=True)\n",
        "test_dataloader = DataLoader(test_dataset, batch_size=1, shuffle=False, pin_memory=True)"
      ],
      "metadata": {
        "id": "03IV7VDP1Ov-"
      },
      "execution_count": 7,
      "outputs": []
    },
    {
      "cell_type": "markdown",
      "source": [
        "## **HyperModule**"
      ],
      "metadata": {
        "id": "-ZxVKS8jxiCz"
      }
    },
    {
      "cell_type": "code",
      "source": [
        "!gdown https://github.com/kevinkevin556/Dlchemist/raw/main/hypermodule/hypermodule.py\n",
        "from hypermodule import HyperModule"
      ],
      "metadata": {
        "colab": {
          "base_uri": "https://localhost:8080/"
        },
        "id": "SwF0fcxmxnQ5",
        "outputId": "cea4158f-91fb-4551-fd1d-6314ab8e5e27"
      },
      "execution_count": 8,
      "outputs": [
        {
          "output_type": "stream",
          "name": "stdout",
          "text": [
            "Downloading...\n",
            "From: https://github.com/kevinkevin556/Dlchemist/raw/main/hypermodule/hypermodule.py\n",
            "To: /content/hypermodule.py\n",
            "\r  0% 0.00/2.07k [00:00<?, ?B/s]\r8.60kB [00:00, 15.6MB/s]       \n"
          ]
        }
      ]
    },
    {
      "cell_type": "code",
      "source": [],
      "metadata": {
        "id": "5AGWyUMExxzE"
      },
      "execution_count": 8,
      "outputs": []
    },
    {
      "cell_type": "markdown",
      "source": [
        "## **Network Architecture**"
      ],
      "metadata": {
        "id": "X8Kmy4ArxyP7"
      }
    },
    {
      "cell_type": "markdown",
      "source": [
        "<img src=\"https://production-media.paperswithcode.com/methods/Screen_Shot_2020-07-07_at_9.08.00_PM_rpNArED.png\"  width=\"70%\">"
      ],
      "metadata": {
        "id": "FNtxxVK2aL85"
      }
    },
    {
      "cell_type": "markdown",
      "source": [
        "**There are several puzzle to be solved in this figure:**\n",
        "1. Where does the input size 576x576 come from?\n",
        "2. How to implement up-convolution?\n",
        "\n",
        "\n",
        "* 2x2 Transposed Convolution (stride 2)\n",
        "  * [milesial/Pytorch-UNet](https://github.com/milesial/Pytorch-UNet/blob/master/unet/unet_parts.py) ![](https://img.shields.io/github/stars/milesial/Pytorch-UNet?style=social)\n",
        "  * [yassouali/pytorch-segmentation](https://github.com/yassouali/pytorch-segmentation/blob/588d074507377f4ff2ae33a4df3d911ae2840315/models/unet.py) ![](https://img.shields.io/github/stars/yassouali/pytorch-segmentation?style=social)\n",
        "  * [meetps/pytorch-semseg](https://github.com/meetps/pytorch-semseg/blob/801fb200547caa5b0d91b8dde56b837da029f746/ptsemseg/models/unet.py) ![](https://img.shields.io/github/stars/meetps/pytorch-semseg?style=social)\n",
        "* Upsample + 3x3 Convolution (padding 1)\n",
        "  * [LeeJunHyun/Image_Segmentation](https://github.com/LeeJunHyun/Image_Segmentation/blob/db34de21767859e035aee143c59954fa0d94bbcd/network.py) ![](https://img.shields.io/github/stars/LeeJunHyun/Image_Segmentation?style=social)\n",
        "* Upsample + 1x1 Convolution\n",
        "  * [jvanvugt/pytorch-unet](https://github.com/jvanvugt/pytorch-unet/blob/master/unet.py) ![](https://img.shields.io/github/stars/jvanvugt/pytorch-unet?style=social)\n",
        "\n",
        "<div class=\"alert alert-block alert-info\">\n",
        "<b>Tip:</b> Use blue boxes (alert-info) for tips and notes. \n",
        "If it’s a note, you don’t have to include the word “Note”.\n",
        "</div>"
      ],
      "metadata": {
        "id": "dK_FvY4Wyr87"
      }
    },
    {
      "cell_type": "code",
      "source": [
        "from torch import cat\n",
        "from torch.nn import Sequential,Conv2d, ReLU, MaxPool2d, ConvTranspose2d\n",
        "from torchvision.transforms import CenterCrop\n",
        "from torch.nn.functional import interpolate\n",
        "\n",
        "\n",
        "class UpSample(nn.Module):\n",
        "    def __init__(self, size=None, scale_factor=None, mode='nearest'):\n",
        "        super().__init__()\n",
        "        self.size, self.scale_factor = size, scale_factor\n",
        "        self.mode = mode\n",
        "\n",
        "    def forward(self, x):\n",
        "        if self.size == '2d+1':\n",
        "          size = tuple([2*d+1 for d in x.shape[2:]])\n",
        "          return interpolate(x, size=size, mode=self.mode)\n",
        "        else:\n",
        "          return interpolate(x, size=self.size, scale_factor=self.scale_factor, mode=self.mode)\n",
        "\n",
        "\n",
        "class UpConv(nn.Module):\n",
        "  def __init__(self, in_channels, out_channels, prac=0, relu=False):\n",
        "      super().__init__()\n",
        "      if prac == 0:\n",
        "        self.net = Sequential(\n",
        "            UpSample(size='2d+1', mode='bilinear'), \n",
        "            Conv2d(in_channels, out_channels, 2, 1)\n",
        "        )\n",
        "      elif prac == 1:\n",
        "        self.net = Sequential(ConvTranspose2d(in_channels, out_channels, 2, 2))\n",
        "      elif prac == 2:\n",
        "        self.net = Sequential(\n",
        "            UpSample(scale_factor=2, mode='bilinear'),\n",
        "            Conv2d(in_channels, out_channels, 3, 1, 1)\n",
        "          )\n",
        "      elif prac == 3:\n",
        "        self.net = Sequential(\n",
        "          UpSample(scale_factor=2, mode='bilinear'),\n",
        "          Conv2d(in_channels, out_channels, 1, 1, 0)\n",
        "        )\n",
        "      else:\n",
        "          raise ValueError(\"No implementation to assigned value of argument 'prac'\")\n",
        "      \n",
        "      if relu:\n",
        "        self.net.add_module(ReLU())\n",
        "  \n",
        "  def forward(self, x):\n",
        "      return self.net(x)\n",
        "\n",
        "\n",
        "class LeftConv(nn.Module):\n",
        "  def __init__(self, in_channels, out_channels):\n",
        "      super().__init__()\n",
        "      self.net = Sequential(\n",
        "          Conv2d(in_channels, out_channels, kernel_size=3), ReLU(),\n",
        "          Conv2d(out_channels, out_channels, kernel_size=3), ReLU()\n",
        "      )\n",
        "      self.maxpool = MaxPool2d(kernel_size=2, stride=2)\n",
        "      \n",
        "\n",
        "  def forward(self, input):\n",
        "      input = self.net(input)\n",
        "      out_downward = self.maxpool(input)\n",
        "      out_rightward = input   # copy\n",
        "      return out_downward, out_rightward\n",
        "\n",
        "\n",
        "class RightConv(nn.Module):\n",
        "  def __init__(self, in_channels, out_channels):\n",
        "      super().__init__()\n",
        "      self.net = Sequential(\n",
        "          Conv2d(in_channels, out_channels, kernel_size=3), ReLU(),\n",
        "          Conv2d(out_channels, out_channels, kernel_size=3), ReLU()\n",
        "      )\n",
        "      self.up_conv = UpConv(in_channels, out_channels)\n",
        "    \n",
        "  def forward(self, bottom_in, left_in):\n",
        "      bottom_in = self.up_conv(bottom_in)\n",
        "      \n",
        "      n, c, h, w = bottom_in.shape\n",
        "      crop = CenterCrop((h, w))\n",
        "      left_in = crop(left_in)\n",
        "      \n",
        "      input = cat((left_in, bottom_in), dim=1)\n",
        "      out_upward = self.net(input)\n",
        "      return out_upward\n",
        "\n",
        "\n",
        "class Unet(nn.Module):\n",
        "    def __init__(self):\n",
        "        super().__init__()\n",
        "        self.left1, self.right1 = LeftConv(1, 64),  RightConv(64*2, 64)\n",
        "        self.left2, self.right2 = LeftConv(64, 128),  RightConv(128*2, 128)\n",
        "        self.left3, self.right3 = LeftConv(128, 256), RightConv(256*2, 256)\n",
        "        self.left4, self.right4 = LeftConv(256, 512), RightConv(512*2, 512)\n",
        "        self.bottom = Sequential(\n",
        "            Conv2d(512, 1024, kernel_size=3),   ReLU(),\n",
        "            Conv2d(1024, 1024, kernel_size=3),  ReLU(),\n",
        "        )\n",
        "        self.conv_out = Conv2d(64, 2, kernel_size=1)\n",
        "        self.net = Sequential(\n",
        "            self.left1, self.left2, self.left3, self.left4,\n",
        "            self.bottom, \n",
        "            self.right4, self.right3, self.right2, self.right1,\n",
        "            self.conv_out\n",
        "        )\n",
        "    \n",
        "    def forward(self, x):\n",
        "        d1, r1 = self.left1(x)\n",
        "        d2, r2 = self.left2(d1)\n",
        "        d3, r3 = self.left3(d2)\n",
        "        d4, r4 = self.left4(d3)\n",
        "        \n",
        "        u5 = self.block_bottom(d4)\n",
        "        \n",
        "        u4 = self.right4(r4, u5)\n",
        "        u3 = self.right3(r3, u4)\n",
        "        u2 = self.right2(r2, u3)\n",
        "        u1 = self.right1(r1, u2)\n",
        "\n",
        "        out = self.conv_out(u1)\n",
        "        return out\n",
        "    \n",
        "    def __repr__(self):\n",
        "        return self.net.__repr__()"
      ],
      "metadata": {
        "id": "lfhJiToU_4og"
      },
      "execution_count": 32,
      "outputs": []
    },
    {
      "cell_type": "code",
      "source": [
        "X = torch.randn(1, 1,576, 576)\n",
        "model = Unet()\n",
        "expansive_out = []\n",
        "print(f\"{'Image shape:':25s} {list(X.shape)}\")\n",
        "\n",
        "for layer in model.net:\n",
        "    if type(layer) is LeftConv:\n",
        "      X, R = layer(X)\n",
        "      expansive_out.append(R)\n",
        "    elif type(layer) is RightConv:\n",
        "      L = expansive_out.pop()\n",
        "      X = layer(X, L)\n",
        "    else:\n",
        "      X = layer(X)\n",
        "    print(f\"{layer.__class__.__name__+' output shape:':25s} {list(X.shape)}\")\n",
        "\n",
        "del X, model"
      ],
      "metadata": {
        "colab": {
          "base_uri": "https://localhost:8080/"
        },
        "id": "RE3ZJGchaUy4",
        "outputId": "9cfda637-8cf6-4877-a173-a159271ee0d2"
      },
      "execution_count": 34,
      "outputs": [
        {
          "output_type": "stream",
          "name": "stdout",
          "text": [
            "Image shape:              [1, 1, 576, 576]\n",
            "LeftConv output shape:    [1, 64, 286, 286]\n",
            "LeftConv output shape:    [1, 128, 141, 141]\n",
            "LeftConv output shape:    [1, 256, 68, 68]\n",
            "LeftConv output shape:    [1, 512, 32, 32]\n",
            "Sequential output shape:  [1, 1024, 28, 28]\n",
            "RightConv output shape:   [1, 512, 52, 52]\n",
            "RightConv output shape:   [1, 256, 100, 100]\n",
            "RightConv output shape:   [1, 128, 196, 196]\n",
            "RightConv output shape:   [1, 64, 388, 388]\n",
            "Conv2d output shape:      [1, 2, 388, 388]\n"
          ]
        }
      ]
    },
    {
      "cell_type": "markdown",
      "source": [
        "# Reference"
      ],
      "metadata": {
        "id": "qIJxmLXfZ829"
      }
    },
    {
      "cell_type": "markdown",
      "source": [
        "* A [Youtube](https://www.youtube.com/watch?v=poY_nGzEEWM&ab_channel=Computerphile) clip from the channel **Computerphile** explains the notion about bicubic interpolation clearly.\n",
        "\n",
        "* https://towardsdatascience.com/understanding-u-net-61276b10f360"
      ],
      "metadata": {
        "id": "WIBBj0_EZ_W2"
      }
    },
    {
      "cell_type": "code",
      "source": [],
      "metadata": {
        "id": "dBJSBfwOZ-kp"
      },
      "execution_count": null,
      "outputs": []
    }
  ]
}