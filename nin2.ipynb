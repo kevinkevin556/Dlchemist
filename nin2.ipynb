{
  "nbformat": 4,
  "nbformat_minor": 0,
  "metadata": {
    "colab": {
      "provenance": [],
      "collapsed_sections": [
        "6FOS76KSblIk"
      ],
      "include_colab_link": true
    },
    "kernelspec": {
      "name": "python3",
      "display_name": "Python 3"
    },
    "language_info": {
      "name": "python"
    },
    "accelerator": "GPU",
    "gpuClass": "standard",
    "widgets": {
      "application/vnd.jupyter.widget-state+json": {
        "a4e53c6274e34a4d97c97995826c588a": {
          "model_module": "@jupyter-widgets/controls",
          "model_name": "HBoxModel",
          "model_module_version": "1.5.0",
          "state": {
            "_dom_classes": [],
            "_model_module": "@jupyter-widgets/controls",
            "_model_module_version": "1.5.0",
            "_model_name": "HBoxModel",
            "_view_count": null,
            "_view_module": "@jupyter-widgets/controls",
            "_view_module_version": "1.5.0",
            "_view_name": "HBoxView",
            "box_style": "",
            "children": [
              "IPY_MODEL_8f7c58db804c4afe986c20bded83be65",
              "IPY_MODEL_1abe13723e4a4b868d4af95cb6f6d7a5",
              "IPY_MODEL_da7eaa65ff9a4d7cb12db5f10520bac2"
            ],
            "layout": "IPY_MODEL_fc69d823bc9548049faf1bf640350c31"
          }
        },
        "8f7c58db804c4afe986c20bded83be65": {
          "model_module": "@jupyter-widgets/controls",
          "model_name": "HTMLModel",
          "model_module_version": "1.5.0",
          "state": {
            "_dom_classes": [],
            "_model_module": "@jupyter-widgets/controls",
            "_model_module_version": "1.5.0",
            "_model_name": "HTMLModel",
            "_view_count": null,
            "_view_module": "@jupyter-widgets/controls",
            "_view_module_version": "1.5.0",
            "_view_name": "HTMLView",
            "description": "",
            "description_tooltip": null,
            "layout": "IPY_MODEL_97461c81155b4fbda2f8ae026388f5f1",
            "placeholder": "​",
            "style": "IPY_MODEL_2f4cd1658a6f4cccb5b8534522b1ab9c",
            "value": "100%"
          }
        },
        "1abe13723e4a4b868d4af95cb6f6d7a5": {
          "model_module": "@jupyter-widgets/controls",
          "model_name": "FloatProgressModel",
          "model_module_version": "1.5.0",
          "state": {
            "_dom_classes": [],
            "_model_module": "@jupyter-widgets/controls",
            "_model_module_version": "1.5.0",
            "_model_name": "FloatProgressModel",
            "_view_count": null,
            "_view_module": "@jupyter-widgets/controls",
            "_view_module_version": "1.5.0",
            "_view_name": "ProgressView",
            "bar_style": "success",
            "description": "",
            "description_tooltip": null,
            "layout": "IPY_MODEL_94b9bfa437b84967a7d5b1364ad3775d",
            "max": 170498071,
            "min": 0,
            "orientation": "horizontal",
            "style": "IPY_MODEL_8af3ec2391e54b4081e3e15783d69b15",
            "value": 170498071
          }
        },
        "da7eaa65ff9a4d7cb12db5f10520bac2": {
          "model_module": "@jupyter-widgets/controls",
          "model_name": "HTMLModel",
          "model_module_version": "1.5.0",
          "state": {
            "_dom_classes": [],
            "_model_module": "@jupyter-widgets/controls",
            "_model_module_version": "1.5.0",
            "_model_name": "HTMLModel",
            "_view_count": null,
            "_view_module": "@jupyter-widgets/controls",
            "_view_module_version": "1.5.0",
            "_view_name": "HTMLView",
            "description": "",
            "description_tooltip": null,
            "layout": "IPY_MODEL_a06d80a88be94815b2e6aa9c19a2a9fd",
            "placeholder": "​",
            "style": "IPY_MODEL_77ed4fb77cff437fb5eaaba8e80493e5",
            "value": " 170498071/170498071 [00:02&lt;00:00, 78405332.43it/s]"
          }
        },
        "fc69d823bc9548049faf1bf640350c31": {
          "model_module": "@jupyter-widgets/base",
          "model_name": "LayoutModel",
          "model_module_version": "1.2.0",
          "state": {
            "_model_module": "@jupyter-widgets/base",
            "_model_module_version": "1.2.0",
            "_model_name": "LayoutModel",
            "_view_count": null,
            "_view_module": "@jupyter-widgets/base",
            "_view_module_version": "1.2.0",
            "_view_name": "LayoutView",
            "align_content": null,
            "align_items": null,
            "align_self": null,
            "border": null,
            "bottom": null,
            "display": null,
            "flex": null,
            "flex_flow": null,
            "grid_area": null,
            "grid_auto_columns": null,
            "grid_auto_flow": null,
            "grid_auto_rows": null,
            "grid_column": null,
            "grid_gap": null,
            "grid_row": null,
            "grid_template_areas": null,
            "grid_template_columns": null,
            "grid_template_rows": null,
            "height": null,
            "justify_content": null,
            "justify_items": null,
            "left": null,
            "margin": null,
            "max_height": null,
            "max_width": null,
            "min_height": null,
            "min_width": null,
            "object_fit": null,
            "object_position": null,
            "order": null,
            "overflow": null,
            "overflow_x": null,
            "overflow_y": null,
            "padding": null,
            "right": null,
            "top": null,
            "visibility": null,
            "width": null
          }
        },
        "97461c81155b4fbda2f8ae026388f5f1": {
          "model_module": "@jupyter-widgets/base",
          "model_name": "LayoutModel",
          "model_module_version": "1.2.0",
          "state": {
            "_model_module": "@jupyter-widgets/base",
            "_model_module_version": "1.2.0",
            "_model_name": "LayoutModel",
            "_view_count": null,
            "_view_module": "@jupyter-widgets/base",
            "_view_module_version": "1.2.0",
            "_view_name": "LayoutView",
            "align_content": null,
            "align_items": null,
            "align_self": null,
            "border": null,
            "bottom": null,
            "display": null,
            "flex": null,
            "flex_flow": null,
            "grid_area": null,
            "grid_auto_columns": null,
            "grid_auto_flow": null,
            "grid_auto_rows": null,
            "grid_column": null,
            "grid_gap": null,
            "grid_row": null,
            "grid_template_areas": null,
            "grid_template_columns": null,
            "grid_template_rows": null,
            "height": null,
            "justify_content": null,
            "justify_items": null,
            "left": null,
            "margin": null,
            "max_height": null,
            "max_width": null,
            "min_height": null,
            "min_width": null,
            "object_fit": null,
            "object_position": null,
            "order": null,
            "overflow": null,
            "overflow_x": null,
            "overflow_y": null,
            "padding": null,
            "right": null,
            "top": null,
            "visibility": null,
            "width": null
          }
        },
        "2f4cd1658a6f4cccb5b8534522b1ab9c": {
          "model_module": "@jupyter-widgets/controls",
          "model_name": "DescriptionStyleModel",
          "model_module_version": "1.5.0",
          "state": {
            "_model_module": "@jupyter-widgets/controls",
            "_model_module_version": "1.5.0",
            "_model_name": "DescriptionStyleModel",
            "_view_count": null,
            "_view_module": "@jupyter-widgets/base",
            "_view_module_version": "1.2.0",
            "_view_name": "StyleView",
            "description_width": ""
          }
        },
        "94b9bfa437b84967a7d5b1364ad3775d": {
          "model_module": "@jupyter-widgets/base",
          "model_name": "LayoutModel",
          "model_module_version": "1.2.0",
          "state": {
            "_model_module": "@jupyter-widgets/base",
            "_model_module_version": "1.2.0",
            "_model_name": "LayoutModel",
            "_view_count": null,
            "_view_module": "@jupyter-widgets/base",
            "_view_module_version": "1.2.0",
            "_view_name": "LayoutView",
            "align_content": null,
            "align_items": null,
            "align_self": null,
            "border": null,
            "bottom": null,
            "display": null,
            "flex": null,
            "flex_flow": null,
            "grid_area": null,
            "grid_auto_columns": null,
            "grid_auto_flow": null,
            "grid_auto_rows": null,
            "grid_column": null,
            "grid_gap": null,
            "grid_row": null,
            "grid_template_areas": null,
            "grid_template_columns": null,
            "grid_template_rows": null,
            "height": null,
            "justify_content": null,
            "justify_items": null,
            "left": null,
            "margin": null,
            "max_height": null,
            "max_width": null,
            "min_height": null,
            "min_width": null,
            "object_fit": null,
            "object_position": null,
            "order": null,
            "overflow": null,
            "overflow_x": null,
            "overflow_y": null,
            "padding": null,
            "right": null,
            "top": null,
            "visibility": null,
            "width": null
          }
        },
        "8af3ec2391e54b4081e3e15783d69b15": {
          "model_module": "@jupyter-widgets/controls",
          "model_name": "ProgressStyleModel",
          "model_module_version": "1.5.0",
          "state": {
            "_model_module": "@jupyter-widgets/controls",
            "_model_module_version": "1.5.0",
            "_model_name": "ProgressStyleModel",
            "_view_count": null,
            "_view_module": "@jupyter-widgets/base",
            "_view_module_version": "1.2.0",
            "_view_name": "StyleView",
            "bar_color": null,
            "description_width": ""
          }
        },
        "a06d80a88be94815b2e6aa9c19a2a9fd": {
          "model_module": "@jupyter-widgets/base",
          "model_name": "LayoutModel",
          "model_module_version": "1.2.0",
          "state": {
            "_model_module": "@jupyter-widgets/base",
            "_model_module_version": "1.2.0",
            "_model_name": "LayoutModel",
            "_view_count": null,
            "_view_module": "@jupyter-widgets/base",
            "_view_module_version": "1.2.0",
            "_view_name": "LayoutView",
            "align_content": null,
            "align_items": null,
            "align_self": null,
            "border": null,
            "bottom": null,
            "display": null,
            "flex": null,
            "flex_flow": null,
            "grid_area": null,
            "grid_auto_columns": null,
            "grid_auto_flow": null,
            "grid_auto_rows": null,
            "grid_column": null,
            "grid_gap": null,
            "grid_row": null,
            "grid_template_areas": null,
            "grid_template_columns": null,
            "grid_template_rows": null,
            "height": null,
            "justify_content": null,
            "justify_items": null,
            "left": null,
            "margin": null,
            "max_height": null,
            "max_width": null,
            "min_height": null,
            "min_width": null,
            "object_fit": null,
            "object_position": null,
            "order": null,
            "overflow": null,
            "overflow_x": null,
            "overflow_y": null,
            "padding": null,
            "right": null,
            "top": null,
            "visibility": null,
            "width": null
          }
        },
        "77ed4fb77cff437fb5eaaba8e80493e5": {
          "model_module": "@jupyter-widgets/controls",
          "model_name": "DescriptionStyleModel",
          "model_module_version": "1.5.0",
          "state": {
            "_model_module": "@jupyter-widgets/controls",
            "_model_module_version": "1.5.0",
            "_model_name": "DescriptionStyleModel",
            "_view_count": null,
            "_view_module": "@jupyter-widgets/base",
            "_view_module_version": "1.2.0",
            "_view_name": "StyleView",
            "description_width": ""
          }
        }
      }
    }
  },
  "cells": [
    {
      "cell_type": "markdown",
      "metadata": {
        "id": "view-in-github",
        "colab_type": "text"
      },
      "source": [
        "<a href=\"https://colab.research.google.com/github/kevinkevin556/Dlchemist/blob/main/nin2.ipynb\" target=\"_parent\"><img src=\"https://colab.research.google.com/assets/colab-badge.svg\" alt=\"Open In Colab\"/></a>"
      ]
    },
    {
      "cell_type": "markdown",
      "source": [
        "# **Network in Network**"
      ],
      "metadata": {
        "id": "fXShh7z-B_2L"
      }
    },
    {
      "cell_type": "markdown",
      "metadata": {
        "id": "rhNHsfHLyXRH"
      },
      "source": [
        "# **Section 1. Set up**"
      ]
    },
    {
      "cell_type": "code",
      "source": [
        "!pip install einops\n",
        "!pip install scipy==1.10.0"
      ],
      "metadata": {
        "colab": {
          "base_uri": "https://localhost:8080/"
        },
        "id": "BWl6c5NctQZm",
        "outputId": "4e3289b2-7e66-4aba-ce49-96cff1c99c95"
      },
      "execution_count": 1,
      "outputs": [
        {
          "output_type": "stream",
          "name": "stdout",
          "text": [
            "Looking in indexes: https://pypi.org/simple, https://us-python.pkg.dev/colab-wheels/public/simple/\n",
            "Collecting einops\n",
            "  Downloading einops-0.6.0-py3-none-any.whl (41 kB)\n",
            "\u001b[?25l     \u001b[90m━━━━━━━━━━━━━━━━━━━━━━━━━━━━━━━━━━━━━━━━\u001b[0m \u001b[32m0.0/41.6 KB\u001b[0m \u001b[31m?\u001b[0m eta \u001b[36m-:--:--\u001b[0m\r\u001b[2K     \u001b[90m━━━━━━━━━━━━━━━━━━━━━━━━━━━━━━━━━━━━━━━━\u001b[0m \u001b[32m41.6/41.6 KB\u001b[0m \u001b[31m1.9 MB/s\u001b[0m eta \u001b[36m0:00:00\u001b[0m\n",
            "\u001b[?25hInstalling collected packages: einops\n",
            "Successfully installed einops-0.6.0\n",
            "Looking in indexes: https://pypi.org/simple, https://us-python.pkg.dev/colab-wheels/public/simple/\n",
            "Collecting scipy==1.10.0\n",
            "  Downloading scipy-1.10.0-cp38-cp38-manylinux_2_17_x86_64.manylinux2014_x86_64.whl (34.5 MB)\n",
            "\u001b[2K     \u001b[90m━━━━━━━━━━━━━━━━━━━━━━━━━━━━━━━━━━━━━━━━\u001b[0m \u001b[32m34.5/34.5 MB\u001b[0m \u001b[31m45.9 MB/s\u001b[0m eta \u001b[36m0:00:00\u001b[0m\n",
            "\u001b[?25hRequirement already satisfied: numpy<1.27.0,>=1.19.5 in /usr/local/lib/python3.8/dist-packages (from scipy==1.10.0) (1.21.6)\n",
            "Installing collected packages: scipy\n",
            "  Attempting uninstall: scipy\n",
            "    Found existing installation: scipy 1.7.3\n",
            "    Uninstalling scipy-1.7.3:\n",
            "      Successfully uninstalled scipy-1.7.3\n",
            "Successfully installed scipy-1.10.0\n"
          ]
        }
      ]
    },
    {
      "cell_type": "code",
      "execution_count": 2,
      "metadata": {
        "id": "-H3ltX8syaCo"
      },
      "outputs": [],
      "source": [
        "import numpy as np\n",
        "import torch\n",
        "import torch.nn as nn\n",
        "from torch import Tensor\n",
        "from tqdm import tqdm\n",
        "\n",
        "device = torch.device('cuda' if torch.cuda.is_available() else 'cpu')"
      ]
    },
    {
      "cell_type": "markdown",
      "metadata": {
        "id": "vNy9DkTTzDnB"
      },
      "source": [
        "### *Dataset and DataLoader*\n"
      ]
    },
    {
      "cell_type": "markdown",
      "source": [
        "How to normalize CIFAR-10: [link](https://github.com/Armour/pytorch-nn-practice/blob/master/utils/meanstd.py)."
      ],
      "metadata": {
        "id": "Mo1uv42zKXCL"
      }
    },
    {
      "cell_type": "code",
      "source": [
        "from torch.utils.data import Dataset, random_split\n",
        "from torchvision.datasets import CIFAR10\n",
        "from torchvision.transforms import Compose, ToTensor, ToPILImage, Normalize\n",
        "\n",
        "cifar10 = CIFAR10(root='./data', train=True, download=True, transform=ToTensor())\n",
        "data_means = (cifar10.data / 255.0).mean(axis=(0,1,2))\n",
        "data_std = (cifar10.data / 255.0).std(axis=(0,1,2))\n",
        "print(\"Data mean\", data_means)\n",
        "print(\"Data std\", data_std)"
      ],
      "metadata": {
        "colab": {
          "base_uri": "https://localhost:8080/",
          "height": 121,
          "referenced_widgets": [
            "a4e53c6274e34a4d97c97995826c588a",
            "8f7c58db804c4afe986c20bded83be65",
            "1abe13723e4a4b868d4af95cb6f6d7a5",
            "da7eaa65ff9a4d7cb12db5f10520bac2",
            "fc69d823bc9548049faf1bf640350c31",
            "97461c81155b4fbda2f8ae026388f5f1",
            "2f4cd1658a6f4cccb5b8534522b1ab9c",
            "94b9bfa437b84967a7d5b1364ad3775d",
            "8af3ec2391e54b4081e3e15783d69b15",
            "a06d80a88be94815b2e6aa9c19a2a9fd",
            "77ed4fb77cff437fb5eaaba8e80493e5"
          ]
        },
        "id": "pzDVg6EAbAbS",
        "outputId": "6651b05c-3961-4c00-c042-953c8a374180"
      },
      "execution_count": 3,
      "outputs": [
        {
          "output_type": "stream",
          "name": "stdout",
          "text": [
            "Downloading https://www.cs.toronto.edu/~kriz/cifar-10-python.tar.gz to ./data/cifar-10-python.tar.gz\n"
          ]
        },
        {
          "output_type": "display_data",
          "data": {
            "text/plain": [
              "  0%|          | 0/170498071 [00:00<?, ?it/s]"
            ],
            "application/vnd.jupyter.widget-view+json": {
              "version_major": 2,
              "version_minor": 0,
              "model_id": "a4e53c6274e34a4d97c97995826c588a"
            }
          },
          "metadata": {}
        },
        {
          "output_type": "stream",
          "name": "stdout",
          "text": [
            "Extracting ./data/cifar-10-python.tar.gz to ./data\n",
            "Data mean [0.49139968 0.48215841 0.44653091]\n",
            "Data std [0.24703223 0.24348513 0.26158784]\n"
          ]
        }
      ]
    },
    {
      "cell_type": "code",
      "source": [
        "from torch.utils.data import Dataset, Subset\n",
        "from torchvision.datasets import CIFAR10\n",
        "from torchvision.transforms import Compose, ToTensor, ToPILImage\n",
        "from einops import rearrange\n",
        "\n",
        "\n",
        "class CIFAR10Dataset(Dataset):\n",
        "  def __init__(self, root=\"./data\", mean=None, W=None,train=False, download=True, index=None):\n",
        "    \n",
        "    cifar10 = CIFAR10(root, train, download=download)\n",
        "\n",
        "    if index is None:\n",
        "      self.data, self.targets = cifar10.data, cifar10.targets\n",
        "    else:\n",
        "      self.data = cifar10.data[index]\n",
        "      self.targets = [cifar10.targets[i] for i in index]\n",
        "\n",
        "    self.mean = self.data.mean(axis=0) if mean is None else mean\n",
        "    self.W = self.zca_matrix((self.data-self.mean)/255.0) if W is None else W\n",
        "\n",
        "\n",
        "  def __len__(self):\n",
        "    return len(self.data)\n",
        "\n",
        "\n",
        "  def __getitem__(self, idx):\n",
        "    image, label = self.data[idx], self.targets[idx]\n",
        "    image = (image - self.mean)/255     # normalization\n",
        "    image = self.whiten(image)          # zca-whitening\n",
        "    return image, label\n",
        "\n",
        "\n",
        "  def zca_matrix(self, images):\n",
        "    n = len(self.targets)  \n",
        "    images = rearrange(images, 'N H W C -> N (H W C)')\n",
        "    cov = torch.cov(Tensor(images.T))\n",
        "    L, V = torch.linalg.eig(cov)\n",
        "    L, V = L.real, V.real\n",
        "    W = V @ torch.diag(L**(-0.5)) @ V.T\n",
        "    return W\n",
        "\n",
        "\n",
        "  def whiten(self, image):\n",
        "    ## Add a dimension\n",
        "    image = rearrange(image, 'H W C -> 1 (H W C)')\n",
        "    \n",
        "    ## Whiten the image\n",
        "    whiten_image =  Tensor(image) @ self.W \n",
        "    \n",
        "    ## Tensorize the image: (dim=(c, h, w) & range=(0, 1))\n",
        "    whiten_image = rearrange(whiten_image, 'N (H W C) -> C (N H) W', C=3, N=1, H=32)\n",
        "    whiten_image = torch.clip(whiten_image, 0, 1)\n",
        "    return whiten_image"
      ],
      "metadata": {
        "id": "gzDqpSGUq8nK"
      },
      "execution_count": 130,
      "outputs": []
    },
    {
      "cell_type": "markdown",
      "source": [
        "[ZCA1](https://stats.stackexchange.com/questions/117427/what-is-the-difference-between-zca-whitening-and-pca-whitening)\n",
        "[ZCA2](https://towardsdatascience.com/pca-whitening-vs-zca-whitening-a-numpy-2d-visual-518b32033edf#:~:text=ZCA%2Dwhitening%20is%20done%20by,possible%20from%20the%20original%20data.)"
      ],
      "metadata": {
        "id": "BpEu7_YlqRhJ"
      }
    },
    {
      "cell_type": "code",
      "source": [
        "# Generate indices to permute the training data and conduct train-test-split\n",
        "total_size = 50000\n",
        "valid_size = total_size // 10\n",
        "rng = np.random.default_rng(42)\n",
        "indices = rng.permutation(total_size)\n",
        "\n",
        "train_dataset = CIFAR10Dataset(train=True, index=indices[:-valid_size])\n",
        "mean = train_dataset.mean\n",
        "W = train_dataset.W\n",
        "\n",
        "valid_dataset = CIFAR10Dataset(train=True, mean=mean, W=W, index=indices[-valid_size:])\n",
        "test_dataset = CIFAR10Dataset(train=False, mean=mean, W=W)\n",
        "\n",
        "\n",
        "print(\"\\nData Size:\")\n",
        "print(\"* Training set   => \", len(train_dataset), \"images\")\n",
        "print(\"* Validation set => \", len(valid_dataset), \"images\")\n",
        "print(\"* Testing set    => \", len(test_dataset), \"images\")\n",
        "\n",
        "print(\"\\nImage Shape (C, H, W):\")\n",
        "print(\"* Training image:\", train_dataset[0][0].shape)\n",
        "print(\"* Testing image: \", test_dataset[0][0].shape)"
      ],
      "metadata": {
        "colab": {
          "base_uri": "https://localhost:8080/"
        },
        "id": "SKsHAPLg7Po-",
        "outputId": "72860607-bac0-44c8-ef9c-2f4526d11b1b"
      },
      "execution_count": 131,
      "outputs": [
        {
          "output_type": "stream",
          "name": "stdout",
          "text": [
            "Files already downloaded and verified\n",
            "Files already downloaded and verified\n",
            "Files already downloaded and verified\n",
            "\n",
            "Data Size:\n",
            "* Training set   =>  45000 images\n",
            "* Validation set =>  5000 images\n",
            "* Testing set    =>  10000 images\n",
            "\n",
            "Image Shape (C, H, W):\n",
            "* Training image: torch.Size([3, 32, 32])\n",
            "* Testing image:  torch.Size([3, 32, 32])\n"
          ]
        }
      ]
    },
    {
      "cell_type": "code",
      "execution_count": 179,
      "metadata": {
        "colab": {
          "base_uri": "https://localhost:8080/",
          "height": 365
        },
        "id": "Qm7BTTlj7Nc6",
        "outputId": "3427bc32-6cfb-40fd-9c1e-42d7a4d7310b"
      },
      "outputs": [
        {
          "output_type": "display_data",
          "data": {
            "text/plain": [
              "<Figure size 1440x360 with 2 Axes>"
            ],
            "image/png": "[encoded data removed]"
          },
          "metadata": {
            "needs_background": "light"
          }
        },
        {
          "output_type": "stream",
          "name": "stdout",
          "text": [
            "\n",
            "Image shape: (3, 32, 32)\n"
          ]
        }
      ],
      "source": [
        "import matplotlib.pyplot as plt\n",
        "\n",
        "n_view = 10\n",
        "\n",
        "sample_raw_images = [train_dataset.data[i] for i in range(n_view)]\n",
        "sample_images = [train_dataset[i][0] for i in range(n_view)]\n",
        "sample_targets = [train_dataset[i][1] for i in range(n_view)]\n",
        "\n",
        "rimg = np.hstack(sample_raw_images)\n",
        "img = ToPILImage()(torch.dstack(sample_images))\n",
        "\n",
        "fig, ax = plt.subplots(2, 1, figsize=(20, 5))\n",
        "ax[0].imshow(rimg)\n",
        "ax[0].set_title(\"Raw Images\")\n",
        "ax[0].axis('off')\n",
        "\n",
        "ax[1].imshow(img)\n",
        "ax[1].set_title(\"ZCA Whitened Images\")\n",
        "ax[1].set_xticks(ticks=np.array(range(10))*32+16)\n",
        "ax[1].set_xticklabels(sample_targets, {'fontsize':16})\n",
        "plt.show()\n",
        "plt.close()\n",
        "\n",
        "\n",
        "image_shape = tuple(sample_images[0].shape)\n",
        "print(\"\\nImage shape:\", image_shape)"
      ]
    },
    {
      "cell_type": "code",
      "execution_count": null,
      "metadata": {
        "id": "CjGck5MS7xYc"
      },
      "outputs": [],
      "source": [
        "from torch.utils.data import DataLoader\n",
        "train_dataloader = DataLoader(train_dataset, batch_size=128, shuffle=True, pin_memory=True)\n",
        "valid_dataloader = DataLoader(valid_dataset, batch_size=128, shuffle=False, pin_memory=True)\n",
        "test_dataloader = DataLoader(test_dataset, batch_size=128, shuffle=False, pin_memory=True)"
      ]
    },
    {
      "cell_type": "markdown",
      "metadata": {
        "id": "q--LllAyF4jx"
      },
      "source": [
        "### *Network Architecture*"
      ]
    },
    {
      "cell_type": "markdown",
      "source": [
        "![image.png](data:image/png;base64,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)"
      ],
      "metadata": {
        "id": "qrLruPkYDhsB"
      }
    },
    {
      "cell_type": "markdown",
      "source": [
        "The network architecture is built based on this [prototext](https://gist.github.com/mavenlin/e56253735ef32c3c296d) from the Caffe model zoo. Note one should set `MaxPool2d(ceil_mode=True)` to get the correct dimension.\n"
      ],
      "metadata": {
        "id": "jxkXL0cU6Qdm"
      }
    },
    {
      "cell_type": "code",
      "execution_count": null,
      "metadata": {
        "colab": {
          "base_uri": "https://localhost:8080/"
        },
        "id": "vTo-Ht4RF4M3",
        "outputId": "b2e212eb-bc04-467e-e67f-ab72a67bece8"
      },
      "outputs": [
        {
          "output_type": "stream",
          "name": "stdout",
          "text": [
            "NiN(\n",
            "  (net): Sequential(\n",
            "    (0): Sequential(\n",
            "      (0): Conv2d(3, 192, kernel_size=(5, 5), stride=(1, 1), padding=(2, 2))\n",
            "      (1): ReLU()\n",
            "      (2): Conv2d(192, 160, kernel_size=(1, 1), stride=(1, 1))\n",
            "      (3): ReLU()\n",
            "      (4): Conv2d(160, 96, kernel_size=(1, 1), stride=(1, 1))\n",
            "      (5): ReLU()\n",
            "    )\n",
            "    (1): MaxPool2d(kernel_size=3, stride=2, padding=0, dilation=1, ceil_mode=True)\n",
            "    (2): Dropout(p=0.5, inplace=False)\n",
            "    (3): Sequential(\n",
            "      (0): Conv2d(96, 192, kernel_size=(5, 5), stride=(1, 1), padding=(2, 2))\n",
            "      (1): ReLU()\n",
            "      (2): Conv2d(192, 192, kernel_size=(1, 1), stride=(1, 1))\n",
            "      (3): ReLU()\n",
            "      (4): Conv2d(192, 192, kernel_size=(1, 1), stride=(1, 1))\n",
            "      (5): ReLU()\n",
            "    )\n",
            "    (4): AvgPool2d(kernel_size=3, stride=2, padding=0)\n",
            "    (5): Dropout(p=0.5, inplace=False)\n",
            "    (6): Sequential(\n",
            "      (0): Conv2d(192, 192, kernel_size=(3, 3), stride=(1, 1), padding=(1, 1))\n",
            "      (1): ReLU()\n",
            "      (2): Conv2d(192, 192, kernel_size=(1, 1), stride=(1, 1))\n",
            "      (3): ReLU()\n",
            "      (4): Conv2d(192, 10, kernel_size=(1, 1), stride=(1, 1))\n",
            "      (5): ReLU()\n",
            "    )\n",
            "    (7): AvgPool2d(kernel_size=8, stride=1, padding=0)\n",
            "    (8): Flatten(start_dim=1, end_dim=-1)\n",
            "  )\n",
            ")\n"
          ]
        }
      ],
      "source": [
        "from torch.nn import (\n",
        "    Conv2d, ReLU, MaxPool2d, AvgPool2d, Dropout, Sequential, Flatten\n",
        ")\n",
        "\n",
        "\n",
        "def CCCP(in_channels, out_channels):\n",
        "  return Conv2d(in_channels, out_channels, kernel_size=1)\n",
        "\n",
        "def MlpConv(in_channels, hidden_channels, out_channels, kernel_size, stride=1, padding=0):\n",
        "  return nn.Sequential(\n",
        "      Conv2d(in_channels, hidden_channels[0], kernel_size, stride, padding),\n",
        "      ReLU(),\n",
        "      CCCP(hidden_channels[0], hidden_channels[1]),\n",
        "      ReLU(),\n",
        "      CCCP(hidden_channels[1], out_channels),\n",
        "      ReLU()\n",
        "  )\n",
        "\n",
        "class NiN(nn.Module):\n",
        "  def __init__(self, num_classes=10):\n",
        "    super().__init__()\n",
        "    self.net = Sequential(\n",
        "        MlpConv(3, (192, 160), 96, kernel_size=5, padding=2),\n",
        "        MaxPool2d(kernel_size=3, stride=2, ceil_mode=True),\n",
        "        Dropout(p=0.5),\n",
        "\n",
        "        MlpConv(96, (192, 192), 192, kernel_size=5, padding=2),\n",
        "        AvgPool2d(kernel_size=3, stride=2, ceil_mode=True),\n",
        "        Dropout(p=0.5),\n",
        "\n",
        "        MlpConv(192, (192, 192), num_classes, kernel_size=3, padding=1),\n",
        "        AvgPool2d(kernel_size=8, stride=1),\n",
        "        Flatten()\n",
        "    )\n",
        "\n",
        "    # Remember to initialize the weights and biases.\n",
        "    # Default initialization from pytorch doesn't work well.\n",
        "    self.net.apply(self.init_weights)\n",
        "\n",
        "  def forward(self, x):\n",
        "    return self.net(x)\n",
        "\n",
        "  @staticmethod\n",
        "  def init_weights(m):\n",
        "    if isinstance(m, Conv2d):\n",
        "        torch.nn.init.normal_(m.weight, mean=0.0, std=0.05)\n",
        "        torch.nn.init.zeros_(m.bias)\n",
        "\n",
        "print(NiN())"
      ]
    },
    {
      "cell_type": "code",
      "execution_count": null,
      "metadata": {
        "colab": {
          "base_uri": "https://localhost:8080/"
        },
        "id": "Bbdt9Ki-XR1l",
        "outputId": "2650d1ba-677f-45bc-fdd6-2814cdb867fb"
      },
      "outputs": [
        {
          "output_type": "stream",
          "name": "stdout",
          "text": [
            "Image shape:              [1, 3, 32, 32]\n",
            "Sequential output shape:  [1, 96, 32, 32]\n",
            "MaxPool2d output shape:   [1, 96, 16, 16]\n",
            "Dropout output shape:     [1, 96, 16, 16]\n",
            "Sequential output shape:  [1, 192, 16, 16]\n",
            "AvgPool2d output shape:   [1, 192, 8, 8]\n",
            "Dropout output shape:     [1, 192, 8, 8]\n",
            "Sequential output shape:  [1, 10, 8, 8]\n",
            "AvgPool2d output shape:   [1, 10, 1, 1]\n",
            "Flatten output shape:     [1, 10]\n"
          ]
        }
      ],
      "source": [
        "# Check forward path\n",
        "X = torch.randn(1, *image_shape)\n",
        "print(f\"{'Image shape:':25s} {list(X.shape)}\")\n",
        "for layer in NiN().net:\n",
        "    X=layer(X)\n",
        "    print(f\"{layer.__class__.__name__+' output shape:':25s} {list(X.shape)}\")"
      ]
    },
    {
      "cell_type": "markdown",
      "metadata": {
        "id": "cxChrLkPEnFH"
      },
      "source": [
        "### *Validation Step*"
      ]
    },
    {
      "cell_type": "code",
      "execution_count": null,
      "metadata": {
        "id": "tZ9GcuOcD32I"
      },
      "outputs": [],
      "source": [
        "def validate(model, dataloader, device=torch.device('cuda')):\n",
        "  model.eval()\n",
        "  acc = []\n",
        "\n",
        "  with torch.no_grad():\n",
        "    for images, targets in dataloader:\n",
        "      images, targets = images.to(device), targets.to(device)\n",
        "      preds = model(images)\n",
        "      pred_labels = torch.argmax(preds, dim=1)\n",
        "      acc.append((pred_labels == targets).type(torch.float32).mean().item())\n",
        "  \n",
        "  return acc"
      ]
    },
    {
      "cell_type": "markdown",
      "source": [
        "### *Testing Step*"
      ],
      "metadata": {
        "id": "DRoKL9DnsVoT"
      }
    },
    {
      "cell_type": "code",
      "source": [
        "from sklearn.metrics import confusion_matrix\n",
        "import pandas as pd\n",
        "import seaborn as sns\n",
        "import matplotlib.pyplot as plt\n",
        "\n",
        "\n",
        "def test(model, dataloader, class_names=None, device=torch.device('cuda')):\n",
        "  model.eval()\n",
        "  np_pred_labels = []\n",
        "  np_targets = []\n",
        "\n",
        "  # Obtain predictions and ground truths\n",
        "  with torch.no_grad():\n",
        "      for images, targets in test_dataloader:\n",
        "          images, targets = images.to(device), targets.to(device)\n",
        "          preds = test_model(images)\n",
        "          pred_labels = torch.argmax(preds, dim=1)\n",
        "          \n",
        "          pred_labels = pred_labels.view(-1).detach().cpu().numpy()\n",
        "          targets = targets.view(-1).detach().cpu().numpy()\n",
        "\n",
        "          np_pred_labels.append(pred_labels)\n",
        "          np_targets.append(targets)\n",
        "\n",
        "  ## Calculate confusion matrix\n",
        "  np_pred_labels = np.concatenate(np_pred_labels)\n",
        "  np_targets = np.concatenate(np_targets)\n",
        "  conf_mat = confusion_matrix(np_targets, np_pred_labels)\n",
        "\n",
        "  if class_names is not None:\n",
        "    df_cm = pd.DataFrame(conf_mat, class_names, class_names)\n",
        "  else:\n",
        "    df_cm = pd.DataFrame(conf_mat)\n",
        "\n",
        "  ## Plot confusion matrix\n",
        "  plt.figure(figsize = (12,8))\n",
        "  sns.heatmap(df_cm, annot=True, fmt=\"d\", cmap='Blues')\n",
        "  plt.xlabel(\"prediction\")\n",
        "  plt.ylabel(\"label (ground truth)\")\n",
        "  plt.show()\n",
        "\n",
        "  ## print class accuracy\n",
        "  for i in range(len(df_cm)):\n",
        "    total = np.sum(df_cm.iloc[i, :])\n",
        "    correct = df_cm.iloc[i, i]\n",
        "    print(f\"Acc of {df_cm.columns[i]}: {correct/total:.4f}\")\n",
        "  \n",
        "  ## print total accuracy\n",
        "  print(\"\\nTotal Acc:\", np.mean(np_targets == np_pred_labels))"
      ],
      "metadata": {
        "id": "9MjH9q3pnTev"
      },
      "execution_count": null,
      "outputs": []
    },
    {
      "cell_type": "markdown",
      "metadata": {
        "id": "6FOS76KSblIk"
      },
      "source": [
        "### *Training Step*"
      ]
    },
    {
      "cell_type": "code",
      "execution_count": null,
      "metadata": {
        "id": "qXRC53f0boB3"
      },
      "outputs": [],
      "source": [
        "def train(\n",
        "    model,\n",
        "    criterion,\n",
        "    optimizer,\n",
        "    train_dataloader,\n",
        "    valid_dataloader,\n",
        "    scheduler = None,\n",
        "    num_epochs = 1,\n",
        "    device = torch.device('cuda'),\n",
        "    state_dict = None\n",
        "):\n",
        "  \n",
        "  best_valid_acc = 0\n",
        "  \n",
        "  if state_dict is not None:\n",
        "    model.load_state_dict(state_dict)\n",
        "\n",
        "  for epoch in range(num_epochs):\n",
        "    model.train()\n",
        "    batch_losses = []\n",
        "    train_progress = tqdm(train_dataloader, position=0, leave=True)\n",
        "\n",
        "    ## Train\n",
        "    for images, targets in train_progress:\n",
        "      images, targets = images.to(device), targets.to(device)\n",
        "      preds = model(images)\n",
        "      loss = criterion(preds, targets)\n",
        "      optimizer.zero_grad()\n",
        "      loss.backward()\n",
        "      optimizer.step()\n",
        "\n",
        "      loss_value = loss.detach().item()\n",
        "      batch_losses.append(loss_value)\n",
        "      train_progress.set_description(f'Epoch [{epoch+1}/{num_epochs}]')\n",
        "      train_progress.set_postfix({'loss': loss_value})\n",
        "    \n",
        "    ## Adjust learning rate after an epoch is finished\n",
        "    if scheduler is not None:\n",
        "      scheduler.step()\n",
        "\n",
        "    ## Validate and save the best model (if any)\n",
        "    valid_acc = validate(model,  valid_dataloader)\n",
        "    print(f\"Train Loss: {np.mean(batch_losses):.3f}, Valid Acc:{np.mean(valid_acc):.3f}\")\n",
        "    if np.mean(valid_acc) > best_valid_acc:\n",
        "      best_valid_acc = np.mean(valid_acc)\n",
        "      torch.save(model.state_dict(), \"model_state_dict.ckpt\")"
      ]
    },
    {
      "cell_type": "markdown",
      "metadata": {
        "id": "Q0UG_Lp5fSwf"
      },
      "source": [
        "# **Section 2. Start Training**"
      ]
    },
    {
      "cell_type": "markdown",
      "metadata": {
        "id": "uIfUjRxEfZyd"
      },
      "source": [
        "### *Optimization Configuration and First Training Stage*"
      ]
    },
    {
      "cell_type": "code",
      "source": [
        "BASE_LR = 0.01\n",
        "MOMENTUM = 0.9\n",
        "WEIGHT_DECAY = 1e-4\n",
        "STEP_SIZE = 1e5\n",
        "GAMMA = 0.1\n",
        "NUM_EPOCHS = 230"
      ],
      "metadata": {
        "id": "K-1ar7-hiUwK"
      },
      "execution_count": null,
      "outputs": []
    },
    {
      "cell_type": "code",
      "execution_count": null,
      "metadata": {
        "id": "sg1xnZsHfXgM",
        "colab": {
          "base_uri": "https://localhost:8080/"
        },
        "outputId": "f294930c-4523-4bde-b1c6-1b7869eaf08e"
      },
      "outputs": [
        {
          "output_type": "stream",
          "name": "stderr",
          "text": [
            "Epoch [1/230]: 100%|██████████| 352/352 [00:24<00:00, 14.46it/s, loss=2.3]\n"
          ]
        },
        {
          "output_type": "stream",
          "name": "stdout",
          "text": [
            "Train Loss: 2.302, Valid Acc:0.097\n"
          ]
        },
        {
          "output_type": "stream",
          "name": "stderr",
          "text": [
            "Epoch [2/230]: 100%|██████████| 352/352 [00:25<00:00, 13.88it/s, loss=2.16]\n"
          ]
        },
        {
          "output_type": "stream",
          "name": "stdout",
          "text": [
            "Train Loss: 2.249, Valid Acc:0.161\n"
          ]
        },
        {
          "output_type": "stream",
          "name": "stderr",
          "text": [
            "Epoch [3/230]: 100%|██████████| 352/352 [00:24<00:00, 14.31it/s, loss=2.11]\n"
          ]
        },
        {
          "output_type": "stream",
          "name": "stdout",
          "text": [
            "Train Loss: 2.114, Valid Acc:0.197\n"
          ]
        },
        {
          "output_type": "stream",
          "name": "stderr",
          "text": [
            "Epoch [4/230]: 100%|██████████| 352/352 [00:24<00:00, 14.24it/s, loss=1.76]\n"
          ]
        },
        {
          "output_type": "stream",
          "name": "stdout",
          "text": [
            "Train Loss: 1.927, Valid Acc:0.269\n"
          ]
        },
        {
          "output_type": "stream",
          "name": "stderr",
          "text": [
            "Epoch [5/230]: 100%|██████████| 352/352 [00:24<00:00, 14.14it/s, loss=1.63]\n"
          ]
        },
        {
          "output_type": "stream",
          "name": "stdout",
          "text": [
            "Train Loss: 1.785, Valid Acc:0.301\n"
          ]
        },
        {
          "output_type": "stream",
          "name": "stderr",
          "text": [
            "Epoch [6/230]: 100%|██████████| 352/352 [00:25<00:00, 13.82it/s, loss=1.56]\n"
          ]
        },
        {
          "output_type": "stream",
          "name": "stdout",
          "text": [
            "Train Loss: 1.726, Valid Acc:0.349\n"
          ]
        },
        {
          "output_type": "stream",
          "name": "stderr",
          "text": [
            "Epoch [7/230]: 100%|██████████| 352/352 [00:24<00:00, 14.09it/s, loss=1.66]\n"
          ]
        },
        {
          "output_type": "stream",
          "name": "stdout",
          "text": [
            "Train Loss: 1.650, Valid Acc:0.364\n"
          ]
        },
        {
          "output_type": "stream",
          "name": "stderr",
          "text": [
            "Epoch [8/230]: 100%|██████████| 352/352 [00:24<00:00, 14.09it/s, loss=1.56]\n"
          ]
        },
        {
          "output_type": "stream",
          "name": "stdout",
          "text": [
            "Train Loss: 1.589, Valid Acc:0.347\n"
          ]
        },
        {
          "output_type": "stream",
          "name": "stderr",
          "text": [
            "Epoch [9/230]: 100%|██████████| 352/352 [00:25<00:00, 13.98it/s, loss=1.45]\n"
          ]
        },
        {
          "output_type": "stream",
          "name": "stdout",
          "text": [
            "Train Loss: 1.540, Valid Acc:0.398\n"
          ]
        },
        {
          "output_type": "stream",
          "name": "stderr",
          "text": [
            "Epoch [10/230]: 100%|██████████| 352/352 [00:25<00:00, 14.00it/s, loss=1.49]\n"
          ]
        },
        {
          "output_type": "stream",
          "name": "stdout",
          "text": [
            "Train Loss: 1.486, Valid Acc:0.475\n"
          ]
        },
        {
          "output_type": "stream",
          "name": "stderr",
          "text": [
            "Epoch [11/230]: 100%|██████████| 352/352 [00:25<00:00, 13.96it/s, loss=1.38]\n"
          ]
        },
        {
          "output_type": "stream",
          "name": "stdout",
          "text": [
            "Train Loss: 1.436, Valid Acc:0.455\n"
          ]
        },
        {
          "output_type": "stream",
          "name": "stderr",
          "text": [
            "Epoch [12/230]: 100%|██████████| 352/352 [00:25<00:00, 13.94it/s, loss=1.21]\n"
          ]
        },
        {
          "output_type": "stream",
          "name": "stdout",
          "text": [
            "Train Loss: 1.385, Valid Acc:0.476\n"
          ]
        },
        {
          "output_type": "stream",
          "name": "stderr",
          "text": [
            "Epoch [13/230]: 100%|██████████| 352/352 [00:25<00:00, 13.93it/s, loss=1.2]\n"
          ]
        },
        {
          "output_type": "stream",
          "name": "stdout",
          "text": [
            "Train Loss: 1.347, Valid Acc:0.496\n"
          ]
        },
        {
          "output_type": "stream",
          "name": "stderr",
          "text": [
            "Epoch [14/230]: 100%|██████████| 352/352 [00:25<00:00, 13.92it/s, loss=1.37]\n"
          ]
        },
        {
          "output_type": "stream",
          "name": "stdout",
          "text": [
            "Train Loss: 1.311, Valid Acc:0.531\n"
          ]
        },
        {
          "output_type": "stream",
          "name": "stderr",
          "text": [
            "Epoch [15/230]: 100%|██████████| 352/352 [00:25<00:00, 13.93it/s, loss=1.27]\n"
          ]
        },
        {
          "output_type": "stream",
          "name": "stdout",
          "text": [
            "Train Loss: 1.265, Valid Acc:0.515\n"
          ]
        },
        {
          "output_type": "stream",
          "name": "stderr",
          "text": [
            "Epoch [16/230]: 100%|██████████| 352/352 [00:25<00:00, 13.78it/s, loss=1.11]\n"
          ]
        },
        {
          "output_type": "stream",
          "name": "stdout",
          "text": [
            "Train Loss: 1.231, Valid Acc:0.517\n"
          ]
        },
        {
          "output_type": "stream",
          "name": "stderr",
          "text": [
            "Epoch [17/230]: 100%|██████████| 352/352 [00:25<00:00, 13.94it/s, loss=1.14]\n"
          ]
        },
        {
          "output_type": "stream",
          "name": "stdout",
          "text": [
            "Train Loss: 1.205, Valid Acc:0.478\n"
          ]
        },
        {
          "output_type": "stream",
          "name": "stderr",
          "text": [
            "Epoch [18/230]: 100%|██████████| 352/352 [00:25<00:00, 13.95it/s, loss=1.2]\n"
          ]
        },
        {
          "output_type": "stream",
          "name": "stdout",
          "text": [
            "Train Loss: 1.175, Valid Acc:0.554\n"
          ]
        },
        {
          "output_type": "stream",
          "name": "stderr",
          "text": [
            "Epoch [19/230]: 100%|██████████| 352/352 [00:25<00:00, 13.94it/s, loss=1.13]\n"
          ]
        },
        {
          "output_type": "stream",
          "name": "stdout",
          "text": [
            "Train Loss: 1.138, Valid Acc:0.579\n"
          ]
        },
        {
          "output_type": "stream",
          "name": "stderr",
          "text": [
            "Epoch [20/230]: 100%|██████████| 352/352 [00:25<00:00, 13.89it/s, loss=0.797]\n"
          ]
        },
        {
          "output_type": "stream",
          "name": "stdout",
          "text": [
            "Train Loss: 1.103, Valid Acc:0.575\n"
          ]
        },
        {
          "output_type": "stream",
          "name": "stderr",
          "text": [
            "Epoch [21/230]: 100%|██████████| 352/352 [00:25<00:00, 13.86it/s, loss=1.23]\n"
          ]
        },
        {
          "output_type": "stream",
          "name": "stdout",
          "text": [
            "Train Loss: 1.075, Valid Acc:0.595\n"
          ]
        },
        {
          "output_type": "stream",
          "name": "stderr",
          "text": [
            "Epoch [22/230]: 100%|██████████| 352/352 [00:25<00:00, 13.97it/s, loss=1.03]\n"
          ]
        },
        {
          "output_type": "stream",
          "name": "stdout",
          "text": [
            "Train Loss: 1.056, Valid Acc:0.625\n"
          ]
        },
        {
          "output_type": "stream",
          "name": "stderr",
          "text": [
            "Epoch [23/230]: 100%|██████████| 352/352 [00:25<00:00, 13.97it/s, loss=0.984]\n"
          ]
        },
        {
          "output_type": "stream",
          "name": "stdout",
          "text": [
            "Train Loss: 1.021, Valid Acc:0.618\n"
          ]
        },
        {
          "output_type": "stream",
          "name": "stderr",
          "text": [
            "Epoch [24/230]: 100%|██████████| 352/352 [00:25<00:00, 13.91it/s, loss=1.08]\n"
          ]
        },
        {
          "output_type": "stream",
          "name": "stdout",
          "text": [
            "Train Loss: 1.006, Valid Acc:0.625\n"
          ]
        },
        {
          "output_type": "stream",
          "name": "stderr",
          "text": [
            "Epoch [25/230]: 100%|██████████| 352/352 [00:25<00:00, 13.90it/s, loss=1.01]\n"
          ]
        },
        {
          "output_type": "stream",
          "name": "stdout",
          "text": [
            "Train Loss: 0.979, Valid Acc:0.644\n"
          ]
        },
        {
          "output_type": "stream",
          "name": "stderr",
          "text": [
            "Epoch [26/230]: 100%|██████████| 352/352 [00:25<00:00, 13.89it/s, loss=0.904]\n"
          ]
        },
        {
          "output_type": "stream",
          "name": "stdout",
          "text": [
            "Train Loss: 0.959, Valid Acc:0.659\n"
          ]
        },
        {
          "output_type": "stream",
          "name": "stderr",
          "text": [
            "Epoch [27/230]: 100%|██████████| 352/352 [00:25<00:00, 13.68it/s, loss=1.11]\n"
          ]
        },
        {
          "output_type": "stream",
          "name": "stdout",
          "text": [
            "Train Loss: 0.940, Valid Acc:0.659\n"
          ]
        },
        {
          "output_type": "stream",
          "name": "stderr",
          "text": [
            "Epoch [28/230]: 100%|██████████| 352/352 [00:25<00:00, 13.89it/s, loss=0.779]\n"
          ]
        },
        {
          "output_type": "stream",
          "name": "stdout",
          "text": [
            "Train Loss: 0.920, Valid Acc:0.633\n"
          ]
        },
        {
          "output_type": "stream",
          "name": "stderr",
          "text": [
            "Epoch [29/230]: 100%|██████████| 352/352 [00:25<00:00, 13.93it/s, loss=0.904]\n"
          ]
        },
        {
          "output_type": "stream",
          "name": "stdout",
          "text": [
            "Train Loss: 0.899, Valid Acc:0.661\n"
          ]
        },
        {
          "output_type": "stream",
          "name": "stderr",
          "text": [
            "Epoch [30/230]: 100%|██████████| 352/352 [00:25<00:00, 13.95it/s, loss=0.788]\n"
          ]
        },
        {
          "output_type": "stream",
          "name": "stdout",
          "text": [
            "Train Loss: 0.877, Valid Acc:0.691\n"
          ]
        },
        {
          "output_type": "stream",
          "name": "stderr",
          "text": [
            "Epoch [31/230]: 100%|██████████| 352/352 [00:25<00:00, 13.92it/s, loss=0.856]\n"
          ]
        },
        {
          "output_type": "stream",
          "name": "stdout",
          "text": [
            "Train Loss: 0.858, Valid Acc:0.703\n"
          ]
        },
        {
          "output_type": "stream",
          "name": "stderr",
          "text": [
            "Epoch [32/230]: 100%|██████████| 352/352 [00:25<00:00, 13.90it/s, loss=0.884]\n"
          ]
        },
        {
          "output_type": "stream",
          "name": "stdout",
          "text": [
            "Train Loss: 0.834, Valid Acc:0.658\n"
          ]
        },
        {
          "output_type": "stream",
          "name": "stderr",
          "text": [
            "Epoch [33/230]: 100%|██████████| 352/352 [00:25<00:00, 13.88it/s, loss=0.702]\n"
          ]
        },
        {
          "output_type": "stream",
          "name": "stdout",
          "text": [
            "Train Loss: 0.823, Valid Acc:0.696\n"
          ]
        },
        {
          "output_type": "stream",
          "name": "stderr",
          "text": [
            "Epoch [34/230]: 100%|██████████| 352/352 [00:25<00:00, 13.89it/s, loss=0.762]\n"
          ]
        },
        {
          "output_type": "stream",
          "name": "stdout",
          "text": [
            "Train Loss: 0.794, Valid Acc:0.706\n"
          ]
        },
        {
          "output_type": "stream",
          "name": "stderr",
          "text": [
            "Epoch [35/230]: 100%|██████████| 352/352 [00:25<00:00, 13.94it/s, loss=0.712]\n"
          ]
        },
        {
          "output_type": "stream",
          "name": "stdout",
          "text": [
            "Train Loss: 0.788, Valid Acc:0.726\n"
          ]
        },
        {
          "output_type": "stream",
          "name": "stderr",
          "text": [
            "Epoch [36/230]: 100%|██████████| 352/352 [00:25<00:00, 13.90it/s, loss=0.767]\n"
          ]
        },
        {
          "output_type": "stream",
          "name": "stdout",
          "text": [
            "Train Loss: 0.767, Valid Acc:0.683\n"
          ]
        },
        {
          "output_type": "stream",
          "name": "stderr",
          "text": [
            "Epoch [37/230]: 100%|██████████| 352/352 [00:25<00:00, 13.58it/s, loss=0.655]\n"
          ]
        },
        {
          "output_type": "stream",
          "name": "stdout",
          "text": [
            "Train Loss: 0.759, Valid Acc:0.727\n"
          ]
        },
        {
          "output_type": "stream",
          "name": "stderr",
          "text": [
            "Epoch [38/230]: 100%|██████████| 352/352 [00:25<00:00, 13.67it/s, loss=0.644]\n"
          ]
        },
        {
          "output_type": "stream",
          "name": "stdout",
          "text": [
            "Train Loss: 0.740, Valid Acc:0.718\n"
          ]
        },
        {
          "output_type": "stream",
          "name": "stderr",
          "text": [
            "Epoch [39/230]: 100%|██████████| 352/352 [00:25<00:00, 13.86it/s, loss=0.825]\n"
          ]
        },
        {
          "output_type": "stream",
          "name": "stdout",
          "text": [
            "Train Loss: 0.715, Valid Acc:0.725\n"
          ]
        },
        {
          "output_type": "stream",
          "name": "stderr",
          "text": [
            "Epoch [40/230]: 100%|██████████| 352/352 [00:25<00:00, 13.86it/s, loss=0.639]\n"
          ]
        },
        {
          "output_type": "stream",
          "name": "stdout",
          "text": [
            "Train Loss: 0.706, Valid Acc:0.755\n"
          ]
        },
        {
          "output_type": "stream",
          "name": "stderr",
          "text": [
            "Epoch [41/230]: 100%|██████████| 352/352 [00:25<00:00, 13.88it/s, loss=0.496]\n"
          ]
        },
        {
          "output_type": "stream",
          "name": "stdout",
          "text": [
            "Train Loss: 0.694, Valid Acc:0.717\n"
          ]
        },
        {
          "output_type": "stream",
          "name": "stderr",
          "text": [
            "Epoch [42/230]: 100%|██████████| 352/352 [00:25<00:00, 13.70it/s, loss=0.801]\n"
          ]
        },
        {
          "output_type": "stream",
          "name": "stdout",
          "text": [
            "Train Loss: 0.689, Valid Acc:0.705\n"
          ]
        },
        {
          "output_type": "stream",
          "name": "stderr",
          "text": [
            "Epoch [43/230]: 100%|██████████| 352/352 [00:25<00:00, 13.83it/s, loss=0.659]\n"
          ]
        },
        {
          "output_type": "stream",
          "name": "stdout",
          "text": [
            "Train Loss: 0.668, Valid Acc:0.762\n"
          ]
        },
        {
          "output_type": "stream",
          "name": "stderr",
          "text": [
            "Epoch [44/230]: 100%|██████████| 352/352 [00:25<00:00, 13.79it/s, loss=0.613]\n"
          ]
        },
        {
          "output_type": "stream",
          "name": "stdout",
          "text": [
            "Train Loss: 0.659, Valid Acc:0.746\n"
          ]
        },
        {
          "output_type": "stream",
          "name": "stderr",
          "text": [
            "Epoch [45/230]: 100%|██████████| 352/352 [00:25<00:00, 13.71it/s, loss=0.513]\n"
          ]
        },
        {
          "output_type": "stream",
          "name": "stdout",
          "text": [
            "Train Loss: 0.651, Valid Acc:0.752\n"
          ]
        },
        {
          "output_type": "stream",
          "name": "stderr",
          "text": [
            "Epoch [46/230]: 100%|██████████| 352/352 [00:25<00:00, 13.83it/s, loss=0.955]\n"
          ]
        },
        {
          "output_type": "stream",
          "name": "stdout",
          "text": [
            "Train Loss: 0.639, Valid Acc:0.746\n"
          ]
        },
        {
          "output_type": "stream",
          "name": "stderr",
          "text": [
            "Epoch [47/230]: 100%|██████████| 352/352 [00:25<00:00, 13.75it/s, loss=0.49]\n"
          ]
        },
        {
          "output_type": "stream",
          "name": "stdout",
          "text": [
            "Train Loss: 0.619, Valid Acc:0.748\n"
          ]
        },
        {
          "output_type": "stream",
          "name": "stderr",
          "text": [
            "Epoch [48/230]: 100%|██████████| 352/352 [00:25<00:00, 13.78it/s, loss=0.684]\n"
          ]
        },
        {
          "output_type": "stream",
          "name": "stdout",
          "text": [
            "Train Loss: 0.613, Valid Acc:0.762\n"
          ]
        },
        {
          "output_type": "stream",
          "name": "stderr",
          "text": [
            "Epoch [49/230]: 100%|██████████| 352/352 [00:25<00:00, 13.60it/s, loss=0.636]\n"
          ]
        },
        {
          "output_type": "stream",
          "name": "stdout",
          "text": [
            "Train Loss: 0.603, Valid Acc:0.768\n"
          ]
        },
        {
          "output_type": "stream",
          "name": "stderr",
          "text": [
            "Epoch [50/230]: 100%|██████████| 352/352 [00:25<00:00, 13.71it/s, loss=0.388]\n"
          ]
        },
        {
          "output_type": "stream",
          "name": "stdout",
          "text": [
            "Train Loss: 0.596, Valid Acc:0.771\n"
          ]
        },
        {
          "output_type": "stream",
          "name": "stderr",
          "text": [
            "Epoch [51/230]: 100%|██████████| 352/352 [00:25<00:00, 13.76it/s, loss=0.728]\n"
          ]
        },
        {
          "output_type": "stream",
          "name": "stdout",
          "text": [
            "Train Loss: 0.586, Valid Acc:0.787\n"
          ]
        },
        {
          "output_type": "stream",
          "name": "stderr",
          "text": [
            "Epoch [52/230]: 100%|██████████| 352/352 [00:25<00:00, 13.59it/s, loss=0.576]\n"
          ]
        },
        {
          "output_type": "stream",
          "name": "stdout",
          "text": [
            "Train Loss: 0.577, Valid Acc:0.771\n"
          ]
        },
        {
          "output_type": "stream",
          "name": "stderr",
          "text": [
            "Epoch [53/230]: 100%|██████████| 352/352 [00:25<00:00, 13.59it/s, loss=0.535]\n"
          ]
        },
        {
          "output_type": "stream",
          "name": "stdout",
          "text": [
            "Train Loss: 0.567, Valid Acc:0.780\n"
          ]
        },
        {
          "output_type": "stream",
          "name": "stderr",
          "text": [
            "Epoch [54/230]: 100%|██████████| 352/352 [00:25<00:00, 13.67it/s, loss=0.466]\n"
          ]
        },
        {
          "output_type": "stream",
          "name": "stdout",
          "text": [
            "Train Loss: 0.560, Valid Acc:0.759\n"
          ]
        },
        {
          "output_type": "stream",
          "name": "stderr",
          "text": [
            "Epoch [55/230]: 100%|██████████| 352/352 [00:25<00:00, 13.63it/s, loss=0.728]\n"
          ]
        },
        {
          "output_type": "stream",
          "name": "stdout",
          "text": [
            "Train Loss: 0.543, Valid Acc:0.769\n"
          ]
        },
        {
          "output_type": "stream",
          "name": "stderr",
          "text": [
            "Epoch [56/230]: 100%|██████████| 352/352 [00:25<00:00, 13.66it/s, loss=0.678]\n"
          ]
        },
        {
          "output_type": "stream",
          "name": "stdout",
          "text": [
            "Train Loss: 0.544, Valid Acc:0.770\n"
          ]
        },
        {
          "output_type": "stream",
          "name": "stderr",
          "text": [
            "Epoch [57/230]: 100%|██████████| 352/352 [00:25<00:00, 13.77it/s, loss=0.532]\n"
          ]
        },
        {
          "output_type": "stream",
          "name": "stdout",
          "text": [
            "Train Loss: 0.529, Valid Acc:0.796\n"
          ]
        },
        {
          "output_type": "stream",
          "name": "stderr",
          "text": [
            "Epoch [58/230]: 100%|██████████| 352/352 [00:25<00:00, 13.71it/s, loss=0.666]\n"
          ]
        },
        {
          "output_type": "stream",
          "name": "stdout",
          "text": [
            "Train Loss: 0.520, Valid Acc:0.790\n"
          ]
        },
        {
          "output_type": "stream",
          "name": "stderr",
          "text": [
            "Epoch [59/230]: 100%|██████████| 352/352 [00:25<00:00, 13.57it/s, loss=0.229]\n"
          ]
        },
        {
          "output_type": "stream",
          "name": "stdout",
          "text": [
            "Train Loss: 0.516, Valid Acc:0.794\n"
          ]
        },
        {
          "output_type": "stream",
          "name": "stderr",
          "text": [
            "Epoch [60/230]: 100%|██████████| 352/352 [00:25<00:00, 13.74it/s, loss=0.56]\n"
          ]
        },
        {
          "output_type": "stream",
          "name": "stdout",
          "text": [
            "Train Loss: 0.514, Valid Acc:0.790\n"
          ]
        },
        {
          "output_type": "stream",
          "name": "stderr",
          "text": [
            "Epoch [61/230]: 100%|██████████| 352/352 [00:25<00:00, 13.81it/s, loss=0.697]\n"
          ]
        },
        {
          "output_type": "stream",
          "name": "stdout",
          "text": [
            "Train Loss: 0.496, Valid Acc:0.806\n"
          ]
        },
        {
          "output_type": "stream",
          "name": "stderr",
          "text": [
            "Epoch [62/230]: 100%|██████████| 352/352 [00:25<00:00, 13.71it/s, loss=0.535]\n"
          ]
        },
        {
          "output_type": "stream",
          "name": "stdout",
          "text": [
            "Train Loss: 0.498, Valid Acc:0.801\n"
          ]
        },
        {
          "output_type": "stream",
          "name": "stderr",
          "text": [
            "Epoch [63/230]: 100%|██████████| 352/352 [00:25<00:00, 13.75it/s, loss=0.594]\n"
          ]
        },
        {
          "output_type": "stream",
          "name": "stdout",
          "text": [
            "Train Loss: 0.491, Valid Acc:0.771\n"
          ]
        },
        {
          "output_type": "stream",
          "name": "stderr",
          "text": [
            "Epoch [64/230]: 100%|██████████| 352/352 [00:25<00:00, 13.78it/s, loss=0.581]\n"
          ]
        },
        {
          "output_type": "stream",
          "name": "stdout",
          "text": [
            "Train Loss: 0.475, Valid Acc:0.798\n"
          ]
        },
        {
          "output_type": "stream",
          "name": "stderr",
          "text": [
            "Epoch [65/230]: 100%|██████████| 352/352 [00:25<00:00, 13.84it/s, loss=0.342]\n"
          ]
        },
        {
          "output_type": "stream",
          "name": "stdout",
          "text": [
            "Train Loss: 0.475, Valid Acc:0.790\n"
          ]
        },
        {
          "output_type": "stream",
          "name": "stderr",
          "text": [
            "Epoch [66/230]: 100%|██████████| 352/352 [00:25<00:00, 13.67it/s, loss=0.431]\n"
          ]
        },
        {
          "output_type": "stream",
          "name": "stdout",
          "text": [
            "Train Loss: 0.466, Valid Acc:0.798\n"
          ]
        },
        {
          "output_type": "stream",
          "name": "stderr",
          "text": [
            "Epoch [67/230]: 100%|██████████| 352/352 [00:25<00:00, 13.85it/s, loss=0.492]\n"
          ]
        },
        {
          "output_type": "stream",
          "name": "stdout",
          "text": [
            "Train Loss: 0.458, Valid Acc:0.801\n"
          ]
        },
        {
          "output_type": "stream",
          "name": "stderr",
          "text": [
            "Epoch [68/230]: 100%|██████████| 352/352 [00:25<00:00, 13.77it/s, loss=0.451]\n"
          ]
        },
        {
          "output_type": "stream",
          "name": "stdout",
          "text": [
            "Train Loss: 0.452, Valid Acc:0.820\n"
          ]
        },
        {
          "output_type": "stream",
          "name": "stderr",
          "text": [
            "Epoch [69/230]: 100%|██████████| 352/352 [00:25<00:00, 13.57it/s, loss=0.418]\n"
          ]
        },
        {
          "output_type": "stream",
          "name": "stdout",
          "text": [
            "Train Loss: 0.447, Valid Acc:0.809\n"
          ]
        },
        {
          "output_type": "stream",
          "name": "stderr",
          "text": [
            "Epoch [70/230]: 100%|██████████| 352/352 [00:25<00:00, 13.71it/s, loss=0.475]\n"
          ]
        },
        {
          "output_type": "stream",
          "name": "stdout",
          "text": [
            "Train Loss: 0.441, Valid Acc:0.804\n"
          ]
        },
        {
          "output_type": "stream",
          "name": "stderr",
          "text": [
            "Epoch [71/230]: 100%|██████████| 352/352 [00:25<00:00, 13.77it/s, loss=0.61]\n"
          ]
        },
        {
          "output_type": "stream",
          "name": "stdout",
          "text": [
            "Train Loss: 0.433, Valid Acc:0.807\n"
          ]
        },
        {
          "output_type": "stream",
          "name": "stderr",
          "text": [
            "Epoch [72/230]: 100%|██████████| 352/352 [00:25<00:00, 13.72it/s, loss=0.339]\n"
          ]
        },
        {
          "output_type": "stream",
          "name": "stdout",
          "text": [
            "Train Loss: 0.424, Valid Acc:0.826\n"
          ]
        },
        {
          "output_type": "stream",
          "name": "stderr",
          "text": [
            "Epoch [73/230]: 100%|██████████| 352/352 [00:25<00:00, 13.63it/s, loss=0.489]\n"
          ]
        },
        {
          "output_type": "stream",
          "name": "stdout",
          "text": [
            "Train Loss: 0.422, Valid Acc:0.824\n"
          ]
        },
        {
          "output_type": "stream",
          "name": "stderr",
          "text": [
            "Epoch [74/230]: 100%|██████████| 352/352 [00:25<00:00, 13.83it/s, loss=0.427]\n"
          ]
        },
        {
          "output_type": "stream",
          "name": "stdout",
          "text": [
            "Train Loss: 0.419, Valid Acc:0.824\n"
          ]
        },
        {
          "output_type": "stream",
          "name": "stderr",
          "text": [
            "Epoch [75/230]: 100%|██████████| 352/352 [00:25<00:00, 13.79it/s, loss=0.294]\n"
          ]
        },
        {
          "output_type": "stream",
          "name": "stdout",
          "text": [
            "Train Loss: 0.415, Valid Acc:0.822\n"
          ]
        },
        {
          "output_type": "stream",
          "name": "stderr",
          "text": [
            "Epoch [76/230]: 100%|██████████| 352/352 [00:25<00:00, 13.65it/s, loss=0.424]\n"
          ]
        },
        {
          "output_type": "stream",
          "name": "stdout",
          "text": [
            "Train Loss: 0.413, Valid Acc:0.814\n"
          ]
        },
        {
          "output_type": "stream",
          "name": "stderr",
          "text": [
            "Epoch [77/230]: 100%|██████████| 352/352 [00:25<00:00, 13.89it/s, loss=0.44]\n"
          ]
        },
        {
          "output_type": "stream",
          "name": "stdout",
          "text": [
            "Train Loss: 0.399, Valid Acc:0.811\n"
          ]
        },
        {
          "output_type": "stream",
          "name": "stderr",
          "text": [
            "Epoch [78/230]: 100%|██████████| 352/352 [00:25<00:00, 13.87it/s, loss=0.385]\n"
          ]
        },
        {
          "output_type": "stream",
          "name": "stdout",
          "text": [
            "Train Loss: 0.400, Valid Acc:0.816\n"
          ]
        },
        {
          "output_type": "stream",
          "name": "stderr",
          "text": [
            "Epoch [79/230]: 100%|██████████| 352/352 [00:25<00:00, 13.81it/s, loss=0.326]\n"
          ]
        },
        {
          "output_type": "stream",
          "name": "stdout",
          "text": [
            "Train Loss: 0.393, Valid Acc:0.825\n"
          ]
        },
        {
          "output_type": "stream",
          "name": "stderr",
          "text": [
            "Epoch [80/230]: 100%|██████████| 352/352 [00:25<00:00, 13.79it/s, loss=0.413]\n"
          ]
        },
        {
          "output_type": "stream",
          "name": "stdout",
          "text": [
            "Train Loss: 0.382, Valid Acc:0.813\n"
          ]
        },
        {
          "output_type": "stream",
          "name": "stderr",
          "text": [
            "Epoch [81/230]: 100%|██████████| 352/352 [00:25<00:00, 13.85it/s, loss=0.307]\n"
          ]
        },
        {
          "output_type": "stream",
          "name": "stdout",
          "text": [
            "Train Loss: 0.377, Valid Acc:0.823\n"
          ]
        },
        {
          "output_type": "stream",
          "name": "stderr",
          "text": [
            "Epoch [82/230]: 100%|██████████| 352/352 [00:25<00:00, 13.86it/s, loss=0.277]\n"
          ]
        },
        {
          "output_type": "stream",
          "name": "stdout",
          "text": [
            "Train Loss: 0.374, Valid Acc:0.834\n"
          ]
        },
        {
          "output_type": "stream",
          "name": "stderr",
          "text": [
            "Epoch [83/230]: 100%|██████████| 352/352 [00:25<00:00, 13.79it/s, loss=0.326]\n"
          ]
        },
        {
          "output_type": "stream",
          "name": "stdout",
          "text": [
            "Train Loss: 0.375, Valid Acc:0.827\n"
          ]
        },
        {
          "output_type": "stream",
          "name": "stderr",
          "text": [
            "Epoch [84/230]: 100%|██████████| 352/352 [00:25<00:00, 13.82it/s, loss=0.291]\n"
          ]
        },
        {
          "output_type": "stream",
          "name": "stdout",
          "text": [
            "Train Loss: 0.362, Valid Acc:0.826\n"
          ]
        },
        {
          "output_type": "stream",
          "name": "stderr",
          "text": [
            "Epoch [85/230]: 100%|██████████| 352/352 [00:25<00:00, 13.87it/s, loss=0.28]\n"
          ]
        },
        {
          "output_type": "stream",
          "name": "stdout",
          "text": [
            "Train Loss: 0.357, Valid Acc:0.827\n"
          ]
        },
        {
          "output_type": "stream",
          "name": "stderr",
          "text": [
            "Epoch [86/230]: 100%|██████████| 352/352 [00:25<00:00, 13.81it/s, loss=0.337]\n"
          ]
        },
        {
          "output_type": "stream",
          "name": "stdout",
          "text": [
            "Train Loss: 0.361, Valid Acc:0.825\n"
          ]
        },
        {
          "output_type": "stream",
          "name": "stderr",
          "text": [
            "Epoch [87/230]: 100%|██████████| 352/352 [00:25<00:00, 13.79it/s, loss=0.253]\n"
          ]
        },
        {
          "output_type": "stream",
          "name": "stdout",
          "text": [
            "Train Loss: 0.343, Valid Acc:0.838\n"
          ]
        },
        {
          "output_type": "stream",
          "name": "stderr",
          "text": [
            "Epoch [88/230]: 100%|██████████| 352/352 [00:25<00:00, 13.80it/s, loss=0.333]\n"
          ]
        },
        {
          "output_type": "stream",
          "name": "stdout",
          "text": [
            "Train Loss: 0.344, Valid Acc:0.820\n"
          ]
        },
        {
          "output_type": "stream",
          "name": "stderr",
          "text": [
            "Epoch [89/230]: 100%|██████████| 352/352 [00:25<00:00, 13.87it/s, loss=0.394]\n"
          ]
        },
        {
          "output_type": "stream",
          "name": "stdout",
          "text": [
            "Train Loss: 0.335, Valid Acc:0.815\n"
          ]
        },
        {
          "output_type": "stream",
          "name": "stderr",
          "text": [
            "Epoch [90/230]: 100%|██████████| 352/352 [00:25<00:00, 13.73it/s, loss=0.498]\n"
          ]
        },
        {
          "output_type": "stream",
          "name": "stdout",
          "text": [
            "Train Loss: 0.332, Valid Acc:0.831\n"
          ]
        },
        {
          "output_type": "stream",
          "name": "stderr",
          "text": [
            "Epoch [91/230]: 100%|██████████| 352/352 [00:25<00:00, 13.77it/s, loss=0.424]\n"
          ]
        },
        {
          "output_type": "stream",
          "name": "stdout",
          "text": [
            "Train Loss: 0.326, Valid Acc:0.828\n"
          ]
        },
        {
          "output_type": "stream",
          "name": "stderr",
          "text": [
            "Epoch [92/230]: 100%|██████████| 352/352 [00:25<00:00, 13.81it/s, loss=0.357]\n"
          ]
        },
        {
          "output_type": "stream",
          "name": "stdout",
          "text": [
            "Train Loss: 0.332, Valid Acc:0.834\n"
          ]
        },
        {
          "output_type": "stream",
          "name": "stderr",
          "text": [
            "Epoch [93/230]: 100%|██████████| 352/352 [00:25<00:00, 13.71it/s, loss=0.481]\n"
          ]
        },
        {
          "output_type": "stream",
          "name": "stdout",
          "text": [
            "Train Loss: 0.327, Valid Acc:0.823\n"
          ]
        },
        {
          "output_type": "stream",
          "name": "stderr",
          "text": [
            "Epoch [94/230]: 100%|██████████| 352/352 [00:25<00:00, 13.77it/s, loss=0.188]\n"
          ]
        },
        {
          "output_type": "stream",
          "name": "stdout",
          "text": [
            "Train Loss: 0.315, Valid Acc:0.831\n"
          ]
        },
        {
          "output_type": "stream",
          "name": "stderr",
          "text": [
            "Epoch [95/230]: 100%|██████████| 352/352 [00:25<00:00, 13.86it/s, loss=0.244]\n"
          ]
        },
        {
          "output_type": "stream",
          "name": "stdout",
          "text": [
            "Train Loss: 0.311, Valid Acc:0.847\n"
          ]
        },
        {
          "output_type": "stream",
          "name": "stderr",
          "text": [
            "Epoch [96/230]: 100%|██████████| 352/352 [00:25<00:00, 13.87it/s, loss=0.209]\n"
          ]
        },
        {
          "output_type": "stream",
          "name": "stdout",
          "text": [
            "Train Loss: 0.313, Valid Acc:0.832\n"
          ]
        },
        {
          "output_type": "stream",
          "name": "stderr",
          "text": [
            "Epoch [97/230]: 100%|██████████| 352/352 [00:25<00:00, 13.71it/s, loss=0.327]\n"
          ]
        },
        {
          "output_type": "stream",
          "name": "stdout",
          "text": [
            "Train Loss: 0.302, Valid Acc:0.818\n"
          ]
        },
        {
          "output_type": "stream",
          "name": "stderr",
          "text": [
            "Epoch [98/230]: 100%|██████████| 352/352 [00:25<00:00, 13.80it/s, loss=0.196]\n"
          ]
        },
        {
          "output_type": "stream",
          "name": "stdout",
          "text": [
            "Train Loss: 0.306, Valid Acc:0.824\n"
          ]
        },
        {
          "output_type": "stream",
          "name": "stderr",
          "text": [
            "Epoch [99/230]: 100%|██████████| 352/352 [00:25<00:00, 13.78it/s, loss=0.23]\n"
          ]
        },
        {
          "output_type": "stream",
          "name": "stdout",
          "text": [
            "Train Loss: 0.297, Valid Acc:0.832\n"
          ]
        },
        {
          "output_type": "stream",
          "name": "stderr",
          "text": [
            "Epoch [100/230]: 100%|██████████| 352/352 [00:25<00:00, 13.73it/s, loss=0.324]\n"
          ]
        },
        {
          "output_type": "stream",
          "name": "stdout",
          "text": [
            "Train Loss: 0.290, Valid Acc:0.842\n"
          ]
        },
        {
          "output_type": "stream",
          "name": "stderr",
          "text": [
            "Epoch [101/230]: 100%|██████████| 352/352 [00:25<00:00, 13.74it/s, loss=0.257]\n"
          ]
        },
        {
          "output_type": "stream",
          "name": "stdout",
          "text": [
            "Train Loss: 0.283, Valid Acc:0.836\n"
          ]
        },
        {
          "output_type": "stream",
          "name": "stderr",
          "text": [
            "Epoch [102/230]: 100%|██████████| 352/352 [00:25<00:00, 13.75it/s, loss=0.295]\n"
          ]
        },
        {
          "output_type": "stream",
          "name": "stdout",
          "text": [
            "Train Loss: 0.283, Valid Acc:0.831\n"
          ]
        },
        {
          "output_type": "stream",
          "name": "stderr",
          "text": [
            "Epoch [103/230]: 100%|██████████| 352/352 [00:25<00:00, 13.77it/s, loss=0.248]\n"
          ]
        },
        {
          "output_type": "stream",
          "name": "stdout",
          "text": [
            "Train Loss: 0.278, Valid Acc:0.821\n"
          ]
        },
        {
          "output_type": "stream",
          "name": "stderr",
          "text": [
            "Epoch [104/230]: 100%|██████████| 352/352 [00:25<00:00, 13.66it/s, loss=0.316]\n"
          ]
        },
        {
          "output_type": "stream",
          "name": "stdout",
          "text": [
            "Train Loss: 0.281, Valid Acc:0.836\n"
          ]
        },
        {
          "output_type": "stream",
          "name": "stderr",
          "text": [
            "Epoch [105/230]: 100%|██████████| 352/352 [00:25<00:00, 13.73it/s, loss=0.235]\n"
          ]
        },
        {
          "output_type": "stream",
          "name": "stdout",
          "text": [
            "Train Loss: 0.273, Valid Acc:0.835\n"
          ]
        },
        {
          "output_type": "stream",
          "name": "stderr",
          "text": [
            "Epoch [106/230]: 100%|██████████| 352/352 [00:25<00:00, 13.80it/s, loss=0.4]\n"
          ]
        },
        {
          "output_type": "stream",
          "name": "stdout",
          "text": [
            "Train Loss: 0.266, Valid Acc:0.820\n"
          ]
        },
        {
          "output_type": "stream",
          "name": "stderr",
          "text": [
            "Epoch [107/230]: 100%|██████████| 352/352 [00:25<00:00, 13.71it/s, loss=0.21]\n"
          ]
        },
        {
          "output_type": "stream",
          "name": "stdout",
          "text": [
            "Train Loss: 0.271, Valid Acc:0.815\n"
          ]
        },
        {
          "output_type": "stream",
          "name": "stderr",
          "text": [
            "Epoch [108/230]: 100%|██████████| 352/352 [00:25<00:00, 13.79it/s, loss=0.317]\n"
          ]
        },
        {
          "output_type": "stream",
          "name": "stdout",
          "text": [
            "Train Loss: 0.272, Valid Acc:0.837\n"
          ]
        },
        {
          "output_type": "stream",
          "name": "stderr",
          "text": [
            "Epoch [109/230]: 100%|██████████| 352/352 [00:25<00:00, 13.81it/s, loss=0.285]\n"
          ]
        },
        {
          "output_type": "stream",
          "name": "stdout",
          "text": [
            "Train Loss: 0.262, Valid Acc:0.828\n"
          ]
        },
        {
          "output_type": "stream",
          "name": "stderr",
          "text": [
            "Epoch [110/230]: 100%|██████████| 352/352 [00:25<00:00, 13.78it/s, loss=0.318]\n"
          ]
        },
        {
          "output_type": "stream",
          "name": "stdout",
          "text": [
            "Train Loss: 0.255, Valid Acc:0.837\n"
          ]
        },
        {
          "output_type": "stream",
          "name": "stderr",
          "text": [
            "Epoch [111/230]: 100%|██████████| 352/352 [00:25<00:00, 13.61it/s, loss=0.335]\n"
          ]
        },
        {
          "output_type": "stream",
          "name": "stdout",
          "text": [
            "Train Loss: 0.254, Valid Acc:0.837\n"
          ]
        },
        {
          "output_type": "stream",
          "name": "stderr",
          "text": [
            "Epoch [112/230]: 100%|██████████| 352/352 [00:25<00:00, 13.78it/s, loss=0.206]\n"
          ]
        },
        {
          "output_type": "stream",
          "name": "stdout",
          "text": [
            "Train Loss: 0.248, Valid Acc:0.840\n"
          ]
        },
        {
          "output_type": "stream",
          "name": "stderr",
          "text": [
            "Epoch [113/230]: 100%|██████████| 352/352 [00:25<00:00, 13.77it/s, loss=0.232]\n"
          ]
        },
        {
          "output_type": "stream",
          "name": "stdout",
          "text": [
            "Train Loss: 0.249, Valid Acc:0.832\n"
          ]
        },
        {
          "output_type": "stream",
          "name": "stderr",
          "text": [
            "Epoch [114/230]: 100%|██████████| 352/352 [00:25<00:00, 13.58it/s, loss=0.269]\n"
          ]
        },
        {
          "output_type": "stream",
          "name": "stdout",
          "text": [
            "Train Loss: 0.243, Valid Acc:0.840\n"
          ]
        },
        {
          "output_type": "stream",
          "name": "stderr",
          "text": [
            "Epoch [115/230]: 100%|██████████| 352/352 [00:27<00:00, 12.64it/s, loss=0.423]\n"
          ]
        },
        {
          "output_type": "stream",
          "name": "stdout",
          "text": [
            "Train Loss: 0.238, Valid Acc:0.835\n"
          ]
        },
        {
          "output_type": "stream",
          "name": "stderr",
          "text": [
            "Epoch [116/230]: 100%|██████████| 352/352 [00:30<00:00, 11.65it/s, loss=0.358]\n"
          ]
        },
        {
          "output_type": "stream",
          "name": "stdout",
          "text": [
            "Train Loss: 0.235, Valid Acc:0.835\n"
          ]
        },
        {
          "output_type": "stream",
          "name": "stderr",
          "text": [
            "Epoch [117/230]: 100%|██████████| 352/352 [00:29<00:00, 11.81it/s, loss=0.284]\n"
          ]
        },
        {
          "output_type": "stream",
          "name": "stdout",
          "text": [
            "Train Loss: 0.230, Valid Acc:0.820\n"
          ]
        },
        {
          "output_type": "stream",
          "name": "stderr",
          "text": [
            "Epoch [118/230]: 100%|██████████| 352/352 [00:26<00:00, 13.35it/s, loss=0.165]\n"
          ]
        },
        {
          "output_type": "stream",
          "name": "stdout",
          "text": [
            "Train Loss: 0.234, Valid Acc:0.834\n"
          ]
        },
        {
          "output_type": "stream",
          "name": "stderr",
          "text": [
            "Epoch [119/230]: 100%|██████████| 352/352 [00:25<00:00, 13.77it/s, loss=0.209]\n"
          ]
        },
        {
          "output_type": "stream",
          "name": "stdout",
          "text": [
            "Train Loss: 0.225, Valid Acc:0.838\n"
          ]
        },
        {
          "output_type": "stream",
          "name": "stderr",
          "text": [
            "Epoch [120/230]: 100%|██████████| 352/352 [00:26<00:00, 13.44it/s, loss=0.106]\n"
          ]
        },
        {
          "output_type": "stream",
          "name": "stdout",
          "text": [
            "Train Loss: 0.223, Valid Acc:0.846\n"
          ]
        },
        {
          "output_type": "stream",
          "name": "stderr",
          "text": [
            "Epoch [121/230]: 100%|██████████| 352/352 [00:25<00:00, 13.78it/s, loss=0.0983]\n"
          ]
        },
        {
          "output_type": "stream",
          "name": "stdout",
          "text": [
            "Train Loss: 0.220, Valid Acc:0.822\n"
          ]
        },
        {
          "output_type": "stream",
          "name": "stderr",
          "text": [
            "Epoch [122/230]: 100%|██████████| 352/352 [00:25<00:00, 13.80it/s, loss=0.295]\n"
          ]
        },
        {
          "output_type": "stream",
          "name": "stdout",
          "text": [
            "Train Loss: 0.218, Valid Acc:0.849\n"
          ]
        },
        {
          "output_type": "stream",
          "name": "stderr",
          "text": [
            "Epoch [123/230]: 100%|██████████| 352/352 [00:26<00:00, 13.39it/s, loss=0.246]\n"
          ]
        },
        {
          "output_type": "stream",
          "name": "stdout",
          "text": [
            "Train Loss: 0.217, Valid Acc:0.831\n"
          ]
        },
        {
          "output_type": "stream",
          "name": "stderr",
          "text": [
            "Epoch [124/230]: 100%|██████████| 352/352 [00:26<00:00, 13.34it/s, loss=0.173]\n"
          ]
        },
        {
          "output_type": "stream",
          "name": "stdout",
          "text": [
            "Train Loss: 0.212, Valid Acc:0.831\n"
          ]
        },
        {
          "output_type": "stream",
          "name": "stderr",
          "text": [
            "Epoch [125/230]: 100%|██████████| 352/352 [00:25<00:00, 13.70it/s, loss=0.141]\n"
          ]
        },
        {
          "output_type": "stream",
          "name": "stdout",
          "text": [
            "Train Loss: 0.214, Valid Acc:0.840\n"
          ]
        },
        {
          "output_type": "stream",
          "name": "stderr",
          "text": [
            "Epoch [126/230]: 100%|██████████| 352/352 [00:25<00:00, 13.73it/s, loss=0.102]\n"
          ]
        },
        {
          "output_type": "stream",
          "name": "stdout",
          "text": [
            "Train Loss: 0.211, Valid Acc:0.839\n"
          ]
        },
        {
          "output_type": "stream",
          "name": "stderr",
          "text": [
            "Epoch [127/230]: 100%|██████████| 352/352 [00:25<00:00, 13.64it/s, loss=0.248]\n"
          ]
        },
        {
          "output_type": "stream",
          "name": "stdout",
          "text": [
            "Train Loss: 0.199, Valid Acc:0.835\n"
          ]
        },
        {
          "output_type": "stream",
          "name": "stderr",
          "text": [
            "Epoch [128/230]: 100%|██████████| 352/352 [00:25<00:00, 13.74it/s, loss=0.117]\n"
          ]
        },
        {
          "output_type": "stream",
          "name": "stdout",
          "text": [
            "Train Loss: 0.196, Valid Acc:0.836\n"
          ]
        },
        {
          "output_type": "stream",
          "name": "stderr",
          "text": [
            "Epoch [129/230]: 100%|██████████| 352/352 [00:25<00:00, 13.69it/s, loss=0.177]\n"
          ]
        },
        {
          "output_type": "stream",
          "name": "stdout",
          "text": [
            "Train Loss: 0.200, Valid Acc:0.840\n"
          ]
        },
        {
          "output_type": "stream",
          "name": "stderr",
          "text": [
            "Epoch [130/230]: 100%|██████████| 352/352 [00:25<00:00, 13.62it/s, loss=0.0745]\n"
          ]
        },
        {
          "output_type": "stream",
          "name": "stdout",
          "text": [
            "Train Loss: 0.196, Valid Acc:0.846\n"
          ]
        },
        {
          "output_type": "stream",
          "name": "stderr",
          "text": [
            "Epoch [131/230]: 100%|██████████| 352/352 [00:25<00:00, 13.75it/s, loss=0.253]\n"
          ]
        },
        {
          "output_type": "stream",
          "name": "stdout",
          "text": [
            "Train Loss: 0.200, Valid Acc:0.838\n"
          ]
        },
        {
          "output_type": "stream",
          "name": "stderr",
          "text": [
            "Epoch [132/230]: 100%|██████████| 352/352 [00:25<00:00, 13.73it/s, loss=0.243]\n"
          ]
        },
        {
          "output_type": "stream",
          "name": "stdout",
          "text": [
            "Train Loss: 0.196, Valid Acc:0.834\n"
          ]
        },
        {
          "output_type": "stream",
          "name": "stderr",
          "text": [
            "Epoch [133/230]: 100%|██████████| 352/352 [00:25<00:00, 13.76it/s, loss=0.148]\n"
          ]
        },
        {
          "output_type": "stream",
          "name": "stdout",
          "text": [
            "Train Loss: 0.193, Valid Acc:0.819\n"
          ]
        },
        {
          "output_type": "stream",
          "name": "stderr",
          "text": [
            "Epoch [134/230]: 100%|██████████| 352/352 [00:25<00:00, 13.62it/s, loss=0.216]\n"
          ]
        },
        {
          "output_type": "stream",
          "name": "stdout",
          "text": [
            "Train Loss: 0.189, Valid Acc:0.847\n"
          ]
        },
        {
          "output_type": "stream",
          "name": "stderr",
          "text": [
            "Epoch [135/230]: 100%|██████████| 352/352 [00:27<00:00, 13.02it/s, loss=0.149]\n"
          ]
        },
        {
          "output_type": "stream",
          "name": "stdout",
          "text": [
            "Train Loss: 0.179, Valid Acc:0.839\n"
          ]
        },
        {
          "output_type": "stream",
          "name": "stderr",
          "text": [
            "Epoch [136/230]: 100%|██████████| 352/352 [00:25<00:00, 13.61it/s, loss=0.091]\n"
          ]
        },
        {
          "output_type": "stream",
          "name": "stdout",
          "text": [
            "Train Loss: 0.187, Valid Acc:0.844\n"
          ]
        },
        {
          "output_type": "stream",
          "name": "stderr",
          "text": [
            "Epoch [137/230]: 100%|██████████| 352/352 [00:27<00:00, 12.90it/s, loss=0.169]\n"
          ]
        },
        {
          "output_type": "stream",
          "name": "stdout",
          "text": [
            "Train Loss: 0.182, Valid Acc:0.835\n"
          ]
        },
        {
          "output_type": "stream",
          "name": "stderr",
          "text": [
            "Epoch [138/230]: 100%|██████████| 352/352 [00:25<00:00, 13.67it/s, loss=0.0875]\n"
          ]
        },
        {
          "output_type": "stream",
          "name": "stdout",
          "text": [
            "Train Loss: 0.179, Valid Acc:0.835\n"
          ]
        },
        {
          "output_type": "stream",
          "name": "stderr",
          "text": [
            "Epoch [139/230]: 100%|██████████| 352/352 [00:25<00:00, 13.74it/s, loss=0.173]\n"
          ]
        },
        {
          "output_type": "stream",
          "name": "stdout",
          "text": [
            "Train Loss: 0.184, Valid Acc:0.831\n"
          ]
        },
        {
          "output_type": "stream",
          "name": "stderr",
          "text": [
            "Epoch [140/230]: 100%|██████████| 352/352 [00:25<00:00, 13.65it/s, loss=0.178]\n"
          ]
        },
        {
          "output_type": "stream",
          "name": "stdout",
          "text": [
            "Train Loss: 0.172, Valid Acc:0.841\n"
          ]
        },
        {
          "output_type": "stream",
          "name": "stderr",
          "text": [
            "Epoch [141/230]: 100%|██████████| 352/352 [00:25<00:00, 13.66it/s, loss=0.207]\n"
          ]
        },
        {
          "output_type": "stream",
          "name": "stdout",
          "text": [
            "Train Loss: 0.177, Valid Acc:0.843\n"
          ]
        },
        {
          "output_type": "stream",
          "name": "stderr",
          "text": [
            "Epoch [142/230]: 100%|██████████| 352/352 [00:25<00:00, 13.73it/s, loss=0.107]\n"
          ]
        },
        {
          "output_type": "stream",
          "name": "stdout",
          "text": [
            "Train Loss: 0.171, Valid Acc:0.839\n"
          ]
        },
        {
          "output_type": "stream",
          "name": "stderr",
          "text": [
            "Epoch [143/230]: 100%|██████████| 352/352 [00:25<00:00, 13.61it/s, loss=0.192]\n"
          ]
        },
        {
          "output_type": "stream",
          "name": "stdout",
          "text": [
            "Train Loss: 0.172, Valid Acc:0.835\n"
          ]
        },
        {
          "output_type": "stream",
          "name": "stderr",
          "text": [
            "Epoch [144/230]: 100%|██████████| 352/352 [00:26<00:00, 13.09it/s, loss=0.132]\n"
          ]
        },
        {
          "output_type": "stream",
          "name": "stdout",
          "text": [
            "Train Loss: 0.172, Valid Acc:0.833\n"
          ]
        },
        {
          "output_type": "stream",
          "name": "stderr",
          "text": [
            "Epoch [145/230]: 100%|██████████| 352/352 [00:25<00:00, 13.73it/s, loss=0.214]\n"
          ]
        },
        {
          "output_type": "stream",
          "name": "stdout",
          "text": [
            "Train Loss: 0.166, Valid Acc:0.825\n"
          ]
        },
        {
          "output_type": "stream",
          "name": "stderr",
          "text": [
            "Epoch [146/230]: 100%|██████████| 352/352 [00:25<00:00, 13.69it/s, loss=0.3]\n"
          ]
        },
        {
          "output_type": "stream",
          "name": "stdout",
          "text": [
            "Train Loss: 0.174, Valid Acc:0.831\n"
          ]
        },
        {
          "output_type": "stream",
          "name": "stderr",
          "text": [
            "Epoch [147/230]: 100%|██████████| 352/352 [00:26<00:00, 13.04it/s, loss=0.126]\n"
          ]
        },
        {
          "output_type": "stream",
          "name": "stdout",
          "text": [
            "Train Loss: 0.159, Valid Acc:0.826\n"
          ]
        },
        {
          "output_type": "stream",
          "name": "stderr",
          "text": [
            "Epoch [148/230]: 100%|██████████| 352/352 [00:25<00:00, 13.69it/s, loss=0.237]\n"
          ]
        },
        {
          "output_type": "stream",
          "name": "stdout",
          "text": [
            "Train Loss: 0.162, Valid Acc:0.845\n"
          ]
        },
        {
          "output_type": "stream",
          "name": "stderr",
          "text": [
            "Epoch [149/230]: 100%|██████████| 352/352 [00:25<00:00, 13.77it/s, loss=0.138]\n"
          ]
        },
        {
          "output_type": "stream",
          "name": "stdout",
          "text": [
            "Train Loss: 0.157, Valid Acc:0.847\n"
          ]
        },
        {
          "output_type": "stream",
          "name": "stderr",
          "text": [
            "Epoch [150/230]: 100%|██████████| 352/352 [00:25<00:00, 13.59it/s, loss=0.132]\n"
          ]
        },
        {
          "output_type": "stream",
          "name": "stdout",
          "text": [
            "Train Loss: 0.157, Valid Acc:0.837\n"
          ]
        },
        {
          "output_type": "stream",
          "name": "stderr",
          "text": [
            "Epoch [151/230]: 100%|██████████| 352/352 [00:25<00:00, 13.72it/s, loss=0.195]\n"
          ]
        },
        {
          "output_type": "stream",
          "name": "stdout",
          "text": [
            "Train Loss: 0.161, Valid Acc:0.849\n"
          ]
        },
        {
          "output_type": "stream",
          "name": "stderr",
          "text": [
            "Epoch [152/230]: 100%|██████████| 352/352 [00:25<00:00, 13.70it/s, loss=0.231]\n"
          ]
        },
        {
          "output_type": "stream",
          "name": "stdout",
          "text": [
            "Train Loss: 0.155, Valid Acc:0.846\n"
          ]
        },
        {
          "output_type": "stream",
          "name": "stderr",
          "text": [
            "Epoch [153/230]: 100%|██████████| 352/352 [00:25<00:00, 13.59it/s, loss=0.164]\n"
          ]
        },
        {
          "output_type": "stream",
          "name": "stdout",
          "text": [
            "Train Loss: 0.158, Valid Acc:0.849\n"
          ]
        },
        {
          "output_type": "stream",
          "name": "stderr",
          "text": [
            "Epoch [154/230]: 100%|██████████| 352/352 [00:25<00:00, 13.73it/s, loss=0.0738]\n"
          ]
        },
        {
          "output_type": "stream",
          "name": "stdout",
          "text": [
            "Train Loss: 0.151, Valid Acc:0.846\n"
          ]
        },
        {
          "output_type": "stream",
          "name": "stderr",
          "text": [
            "Epoch [155/230]: 100%|██████████| 352/352 [00:25<00:00, 13.72it/s, loss=0.0804]\n"
          ]
        },
        {
          "output_type": "stream",
          "name": "stdout",
          "text": [
            "Train Loss: 0.148, Valid Acc:0.849\n"
          ]
        },
        {
          "output_type": "stream",
          "name": "stderr",
          "text": [
            "Epoch [156/230]: 100%|██████████| 352/352 [00:25<00:00, 13.65it/s, loss=0.102]\n"
          ]
        },
        {
          "output_type": "stream",
          "name": "stdout",
          "text": [
            "Train Loss: 0.150, Valid Acc:0.844\n"
          ]
        },
        {
          "output_type": "stream",
          "name": "stderr",
          "text": [
            "Epoch [157/230]: 100%|██████████| 352/352 [00:25<00:00, 13.58it/s, loss=0.236]\n"
          ]
        },
        {
          "output_type": "stream",
          "name": "stdout",
          "text": [
            "Train Loss: 0.143, Valid Acc:0.845\n"
          ]
        },
        {
          "output_type": "stream",
          "name": "stderr",
          "text": [
            "Epoch [158/230]: 100%|██████████| 352/352 [00:25<00:00, 13.78it/s, loss=0.17]\n"
          ]
        },
        {
          "output_type": "stream",
          "name": "stdout",
          "text": [
            "Train Loss: 0.140, Valid Acc:0.838\n"
          ]
        },
        {
          "output_type": "stream",
          "name": "stderr",
          "text": [
            "Epoch [159/230]: 100%|██████████| 352/352 [00:25<00:00, 13.67it/s, loss=0.134]\n"
          ]
        },
        {
          "output_type": "stream",
          "name": "stdout",
          "text": [
            "Train Loss: 0.144, Valid Acc:0.844\n"
          ]
        },
        {
          "output_type": "stream",
          "name": "stderr",
          "text": [
            "Epoch [160/230]: 100%|██████████| 352/352 [00:25<00:00, 13.57it/s, loss=0.109]\n"
          ]
        },
        {
          "output_type": "stream",
          "name": "stdout",
          "text": [
            "Train Loss: 0.145, Valid Acc:0.842\n"
          ]
        },
        {
          "output_type": "stream",
          "name": "stderr",
          "text": [
            "Epoch [161/230]: 100%|██████████| 352/352 [00:25<00:00, 13.71it/s, loss=0.0504]\n"
          ]
        },
        {
          "output_type": "stream",
          "name": "stdout",
          "text": [
            "Train Loss: 0.138, Valid Acc:0.851\n"
          ]
        },
        {
          "output_type": "stream",
          "name": "stderr",
          "text": [
            "Epoch [162/230]: 100%|██████████| 352/352 [00:25<00:00, 13.71it/s, loss=0.0953]\n"
          ]
        },
        {
          "output_type": "stream",
          "name": "stdout",
          "text": [
            "Train Loss: 0.138, Valid Acc:0.843\n"
          ]
        },
        {
          "output_type": "stream",
          "name": "stderr",
          "text": [
            "Epoch [163/230]: 100%|██████████| 352/352 [00:25<00:00, 13.62it/s, loss=0.0733]\n"
          ]
        },
        {
          "output_type": "stream",
          "name": "stdout",
          "text": [
            "Train Loss: 0.138, Valid Acc:0.838\n"
          ]
        },
        {
          "output_type": "stream",
          "name": "stderr",
          "text": [
            "Epoch [164/230]: 100%|██████████| 352/352 [00:25<00:00, 13.71it/s, loss=0.131]\n"
          ]
        },
        {
          "output_type": "stream",
          "name": "stdout",
          "text": [
            "Train Loss: 0.134, Valid Acc:0.844\n"
          ]
        },
        {
          "output_type": "stream",
          "name": "stderr",
          "text": [
            "Epoch [165/230]: 100%|██████████| 352/352 [00:25<00:00, 13.68it/s, loss=0.112]\n"
          ]
        },
        {
          "output_type": "stream",
          "name": "stdout",
          "text": [
            "Train Loss: 0.138, Valid Acc:0.836\n"
          ]
        },
        {
          "output_type": "stream",
          "name": "stderr",
          "text": [
            "Epoch [166/230]: 100%|██████████| 352/352 [00:25<00:00, 13.65it/s, loss=0.117]\n"
          ]
        },
        {
          "output_type": "stream",
          "name": "stdout",
          "text": [
            "Train Loss: 0.139, Valid Acc:0.836\n"
          ]
        },
        {
          "output_type": "stream",
          "name": "stderr",
          "text": [
            "Epoch [167/230]: 100%|██████████| 352/352 [00:25<00:00, 13.69it/s, loss=0.118]\n"
          ]
        },
        {
          "output_type": "stream",
          "name": "stdout",
          "text": [
            "Train Loss: 0.139, Valid Acc:0.842\n"
          ]
        },
        {
          "output_type": "stream",
          "name": "stderr",
          "text": [
            "Epoch [168/230]: 100%|██████████| 352/352 [00:25<00:00, 13.64it/s, loss=0.138]\n"
          ]
        },
        {
          "output_type": "stream",
          "name": "stdout",
          "text": [
            "Train Loss: 0.129, Valid Acc:0.851\n"
          ]
        },
        {
          "output_type": "stream",
          "name": "stderr",
          "text": [
            "Epoch [169/230]: 100%|██████████| 352/352 [00:25<00:00, 13.66it/s, loss=0.0482]\n"
          ]
        },
        {
          "output_type": "stream",
          "name": "stdout",
          "text": [
            "Train Loss: 0.135, Valid Acc:0.842\n"
          ]
        },
        {
          "output_type": "stream",
          "name": "stderr",
          "text": [
            "Epoch [170/230]: 100%|██████████| 352/352 [00:25<00:00, 13.57it/s, loss=0.157]\n"
          ]
        },
        {
          "output_type": "stream",
          "name": "stdout",
          "text": [
            "Train Loss: 0.132, Valid Acc:0.833\n"
          ]
        },
        {
          "output_type": "stream",
          "name": "stderr",
          "text": [
            "Epoch [171/230]: 100%|██████████| 352/352 [00:25<00:00, 13.70it/s, loss=0.111]\n"
          ]
        },
        {
          "output_type": "stream",
          "name": "stdout",
          "text": [
            "Train Loss: 0.127, Valid Acc:0.842\n"
          ]
        },
        {
          "output_type": "stream",
          "name": "stderr",
          "text": [
            "Epoch [172/230]: 100%|██████████| 352/352 [00:25<00:00, 13.73it/s, loss=0.197]\n"
          ]
        },
        {
          "output_type": "stream",
          "name": "stdout",
          "text": [
            "Train Loss: 0.128, Valid Acc:0.844\n"
          ]
        },
        {
          "output_type": "stream",
          "name": "stderr",
          "text": [
            "Epoch [173/230]: 100%|██████████| 352/352 [00:25<00:00, 13.54it/s, loss=0.143]\n"
          ]
        },
        {
          "output_type": "stream",
          "name": "stdout",
          "text": [
            "Train Loss: 0.135, Valid Acc:0.849\n"
          ]
        },
        {
          "output_type": "stream",
          "name": "stderr",
          "text": [
            "Epoch [174/230]: 100%|██████████| 352/352 [00:25<00:00, 13.61it/s, loss=0.123]\n"
          ]
        },
        {
          "output_type": "stream",
          "name": "stdout",
          "text": [
            "Train Loss: 0.133, Valid Acc:0.849\n"
          ]
        },
        {
          "output_type": "stream",
          "name": "stderr",
          "text": [
            "Epoch [175/230]: 100%|██████████| 352/352 [00:25<00:00, 13.66it/s, loss=0.11]\n"
          ]
        },
        {
          "output_type": "stream",
          "name": "stdout",
          "text": [
            "Train Loss: 0.133, Valid Acc:0.855\n"
          ]
        },
        {
          "output_type": "stream",
          "name": "stderr",
          "text": [
            "Epoch [176/230]: 100%|██████████| 352/352 [00:25<00:00, 13.54it/s, loss=0.17]\n"
          ]
        },
        {
          "output_type": "stream",
          "name": "stdout",
          "text": [
            "Train Loss: 0.126, Valid Acc:0.851\n"
          ]
        },
        {
          "output_type": "stream",
          "name": "stderr",
          "text": [
            "Epoch [177/230]: 100%|██████████| 352/352 [00:25<00:00, 13.57it/s, loss=0.201]\n"
          ]
        },
        {
          "output_type": "stream",
          "name": "stdout",
          "text": [
            "Train Loss: 0.116, Valid Acc:0.840\n"
          ]
        },
        {
          "output_type": "stream",
          "name": "stderr",
          "text": [
            "Epoch [178/230]: 100%|██████████| 352/352 [00:25<00:00, 13.65it/s, loss=0.0939]\n"
          ]
        },
        {
          "output_type": "stream",
          "name": "stdout",
          "text": [
            "Train Loss: 0.117, Valid Acc:0.855\n"
          ]
        },
        {
          "output_type": "stream",
          "name": "stderr",
          "text": [
            "Epoch [179/230]: 100%|██████████| 352/352 [00:25<00:00, 13.63it/s, loss=0.0611]\n"
          ]
        },
        {
          "output_type": "stream",
          "name": "stdout",
          "text": [
            "Train Loss: 0.120, Valid Acc:0.847\n"
          ]
        },
        {
          "output_type": "stream",
          "name": "stderr",
          "text": [
            "Epoch [180/230]: 100%|██████████| 352/352 [00:25<00:00, 13.64it/s, loss=0.139]\n"
          ]
        },
        {
          "output_type": "stream",
          "name": "stdout",
          "text": [
            "Train Loss: 0.116, Valid Acc:0.844\n"
          ]
        },
        {
          "output_type": "stream",
          "name": "stderr",
          "text": [
            "Epoch [181/230]: 100%|██████████| 352/352 [00:25<00:00, 13.63it/s, loss=0.169]\n"
          ]
        },
        {
          "output_type": "stream",
          "name": "stdout",
          "text": [
            "Train Loss: 0.122, Valid Acc:0.835\n"
          ]
        },
        {
          "output_type": "stream",
          "name": "stderr",
          "text": [
            "Epoch [182/230]: 100%|██████████| 352/352 [00:26<00:00, 13.50it/s, loss=0.0708]\n"
          ]
        },
        {
          "output_type": "stream",
          "name": "stdout",
          "text": [
            "Train Loss: 0.120, Valid Acc:0.845\n"
          ]
        },
        {
          "output_type": "stream",
          "name": "stderr",
          "text": [
            "Epoch [183/230]: 100%|██████████| 352/352 [00:25<00:00, 13.61it/s, loss=0.0937]\n"
          ]
        },
        {
          "output_type": "stream",
          "name": "stdout",
          "text": [
            "Train Loss: 0.120, Valid Acc:0.839\n"
          ]
        },
        {
          "output_type": "stream",
          "name": "stderr",
          "text": [
            "Epoch [184/230]: 100%|██████████| 352/352 [00:25<00:00, 13.64it/s, loss=0.103]\n"
          ]
        },
        {
          "output_type": "stream",
          "name": "stdout",
          "text": [
            "Train Loss: 0.114, Valid Acc:0.843\n"
          ]
        },
        {
          "output_type": "stream",
          "name": "stderr",
          "text": [
            "Epoch [185/230]: 100%|██████████| 352/352 [00:25<00:00, 13.64it/s, loss=0.0775]\n"
          ]
        },
        {
          "output_type": "stream",
          "name": "stdout",
          "text": [
            "Train Loss: 0.117, Valid Acc:0.834\n"
          ]
        },
        {
          "output_type": "stream",
          "name": "stderr",
          "text": [
            "Epoch [186/230]: 100%|██████████| 352/352 [00:26<00:00, 13.50it/s, loss=0.161]\n"
          ]
        },
        {
          "output_type": "stream",
          "name": "stdout",
          "text": [
            "Train Loss: 0.112, Valid Acc:0.848\n"
          ]
        },
        {
          "output_type": "stream",
          "name": "stderr",
          "text": [
            "Epoch [187/230]: 100%|██████████| 352/352 [00:25<00:00, 13.62it/s, loss=0.156]\n"
          ]
        },
        {
          "output_type": "stream",
          "name": "stdout",
          "text": [
            "Train Loss: 0.114, Valid Acc:0.850\n"
          ]
        },
        {
          "output_type": "stream",
          "name": "stderr",
          "text": [
            "Epoch [188/230]: 100%|██████████| 352/352 [00:25<00:00, 13.60it/s, loss=0.172]\n"
          ]
        },
        {
          "output_type": "stream",
          "name": "stdout",
          "text": [
            "Train Loss: 0.115, Valid Acc:0.856\n"
          ]
        },
        {
          "output_type": "stream",
          "name": "stderr",
          "text": [
            "Epoch [189/230]: 100%|██████████| 352/352 [00:25<00:00, 13.55it/s, loss=0.294]\n"
          ]
        },
        {
          "output_type": "stream",
          "name": "stdout",
          "text": [
            "Train Loss: 0.107, Valid Acc:0.843\n"
          ]
        },
        {
          "output_type": "stream",
          "name": "stderr",
          "text": [
            "Epoch [190/230]: 100%|██████████| 352/352 [00:25<00:00, 13.60it/s, loss=0.0643]\n"
          ]
        },
        {
          "output_type": "stream",
          "name": "stdout",
          "text": [
            "Train Loss: 0.109, Valid Acc:0.856\n"
          ]
        },
        {
          "output_type": "stream",
          "name": "stderr",
          "text": [
            "Epoch [191/230]: 100%|██████████| 352/352 [00:25<00:00, 13.63it/s, loss=0.1]\n"
          ]
        },
        {
          "output_type": "stream",
          "name": "stdout",
          "text": [
            "Train Loss: 0.108, Valid Acc:0.839\n"
          ]
        },
        {
          "output_type": "stream",
          "name": "stderr",
          "text": [
            "Epoch [192/230]: 100%|██████████| 352/352 [00:25<00:00, 13.62it/s, loss=0.0936]\n"
          ]
        },
        {
          "output_type": "stream",
          "name": "stdout",
          "text": [
            "Train Loss: 0.112, Valid Acc:0.857\n"
          ]
        },
        {
          "output_type": "stream",
          "name": "stderr",
          "text": [
            "Epoch [193/230]: 100%|██████████| 352/352 [00:25<00:00, 13.61it/s, loss=0.0819]\n"
          ]
        },
        {
          "output_type": "stream",
          "name": "stdout",
          "text": [
            "Train Loss: 0.114, Valid Acc:0.852\n"
          ]
        },
        {
          "output_type": "stream",
          "name": "stderr",
          "text": [
            "Epoch [194/230]: 100%|██████████| 352/352 [00:25<00:00, 13.64it/s, loss=0.0503]\n"
          ]
        },
        {
          "output_type": "stream",
          "name": "stdout",
          "text": [
            "Train Loss: 0.105, Valid Acc:0.856\n"
          ]
        },
        {
          "output_type": "stream",
          "name": "stderr",
          "text": [
            "Epoch [195/230]: 100%|██████████| 352/352 [00:26<00:00, 13.49it/s, loss=0.0842]\n"
          ]
        },
        {
          "output_type": "stream",
          "name": "stdout",
          "text": [
            "Train Loss: 0.106, Valid Acc:0.839\n"
          ]
        },
        {
          "output_type": "stream",
          "name": "stderr",
          "text": [
            "Epoch [196/230]: 100%|██████████| 352/352 [00:25<00:00, 13.60it/s, loss=0.0369]\n"
          ]
        },
        {
          "output_type": "stream",
          "name": "stdout",
          "text": [
            "Train Loss: 0.105, Valid Acc:0.844\n"
          ]
        },
        {
          "output_type": "stream",
          "name": "stderr",
          "text": [
            "Epoch [197/230]: 100%|██████████| 352/352 [00:25<00:00, 13.65it/s, loss=0.0921]\n"
          ]
        },
        {
          "output_type": "stream",
          "name": "stdout",
          "text": [
            "Train Loss: 0.106, Valid Acc:0.856\n"
          ]
        },
        {
          "output_type": "stream",
          "name": "stderr",
          "text": [
            "Epoch [198/230]: 100%|██████████| 352/352 [00:25<00:00, 13.66it/s, loss=0.0374]\n"
          ]
        },
        {
          "output_type": "stream",
          "name": "stdout",
          "text": [
            "Train Loss: 0.105, Valid Acc:0.842\n"
          ]
        },
        {
          "output_type": "stream",
          "name": "stderr",
          "text": [
            "Epoch [199/230]: 100%|██████████| 352/352 [00:30<00:00, 11.58it/s, loss=0.21]\n"
          ]
        },
        {
          "output_type": "stream",
          "name": "stdout",
          "text": [
            "Train Loss: 0.103, Valid Acc:0.849\n"
          ]
        },
        {
          "output_type": "stream",
          "name": "stderr",
          "text": [
            "Epoch [200/230]: 100%|██████████| 352/352 [00:27<00:00, 12.67it/s, loss=0.0701]\n"
          ]
        },
        {
          "output_type": "stream",
          "name": "stdout",
          "text": [
            "Train Loss: 0.111, Valid Acc:0.854\n"
          ]
        },
        {
          "output_type": "stream",
          "name": "stderr",
          "text": [
            "Epoch [201/230]: 100%|██████████| 352/352 [00:26<00:00, 13.51it/s, loss=0.19]\n"
          ]
        },
        {
          "output_type": "stream",
          "name": "stdout",
          "text": [
            "Train Loss: 0.106, Valid Acc:0.851\n"
          ]
        },
        {
          "output_type": "stream",
          "name": "stderr",
          "text": [
            "Epoch [202/230]: 100%|██████████| 352/352 [00:25<00:00, 13.63it/s, loss=0.0963]\n"
          ]
        },
        {
          "output_type": "stream",
          "name": "stdout",
          "text": [
            "Train Loss: 0.102, Valid Acc:0.847\n"
          ]
        },
        {
          "output_type": "stream",
          "name": "stderr",
          "text": [
            "Epoch [203/230]: 100%|██████████| 352/352 [00:25<00:00, 13.63it/s, loss=0.0697]\n"
          ]
        },
        {
          "output_type": "stream",
          "name": "stdout",
          "text": [
            "Train Loss: 0.108, Valid Acc:0.834\n"
          ]
        },
        {
          "output_type": "stream",
          "name": "stderr",
          "text": [
            "Epoch [204/230]: 100%|██████████| 352/352 [00:26<00:00, 13.24it/s, loss=0.0267]\n"
          ]
        },
        {
          "output_type": "stream",
          "name": "stdout",
          "text": [
            "Train Loss: 0.101, Valid Acc:0.847\n"
          ]
        },
        {
          "output_type": "stream",
          "name": "stderr",
          "text": [
            "Epoch [205/230]: 100%|██████████| 352/352 [00:25<00:00, 13.63it/s, loss=0.0803]\n"
          ]
        },
        {
          "output_type": "stream",
          "name": "stdout",
          "text": [
            "Train Loss: 0.095, Valid Acc:0.851\n"
          ]
        },
        {
          "output_type": "stream",
          "name": "stderr",
          "text": [
            "Epoch [206/230]: 100%|██████████| 352/352 [00:26<00:00, 13.50it/s, loss=0.0948]\n"
          ]
        },
        {
          "output_type": "stream",
          "name": "stdout",
          "text": [
            "Train Loss: 0.096, Valid Acc:0.839\n"
          ]
        },
        {
          "output_type": "stream",
          "name": "stderr",
          "text": [
            "Epoch [207/230]: 100%|██████████| 352/352 [00:25<00:00, 13.59it/s, loss=0.0573]\n"
          ]
        },
        {
          "output_type": "stream",
          "name": "stdout",
          "text": [
            "Train Loss: 0.101, Valid Acc:0.854\n"
          ]
        },
        {
          "output_type": "stream",
          "name": "stderr",
          "text": [
            "Epoch [208/230]: 100%|██████████| 352/352 [00:26<00:00, 13.51it/s, loss=0.213]\n"
          ]
        },
        {
          "output_type": "stream",
          "name": "stdout",
          "text": [
            "Train Loss: 0.103, Valid Acc:0.827\n"
          ]
        },
        {
          "output_type": "stream",
          "name": "stderr",
          "text": [
            "Epoch [209/230]: 100%|██████████| 352/352 [00:25<00:00, 13.62it/s, loss=0.0953]\n"
          ]
        },
        {
          "output_type": "stream",
          "name": "stdout",
          "text": [
            "Train Loss: 0.101, Valid Acc:0.855\n"
          ]
        },
        {
          "output_type": "stream",
          "name": "stderr",
          "text": [
            "Epoch [210/230]: 100%|██████████| 352/352 [00:25<00:00, 13.62it/s, loss=0.0636]\n"
          ]
        },
        {
          "output_type": "stream",
          "name": "stdout",
          "text": [
            "Train Loss: 0.099, Valid Acc:0.856\n"
          ]
        },
        {
          "output_type": "stream",
          "name": "stderr",
          "text": [
            "Epoch [211/230]: 100%|██████████| 352/352 [00:25<00:00, 13.64it/s, loss=0.0714]\n"
          ]
        },
        {
          "output_type": "stream",
          "name": "stdout",
          "text": [
            "Train Loss: 0.098, Valid Acc:0.846\n"
          ]
        },
        {
          "output_type": "stream",
          "name": "stderr",
          "text": [
            "Epoch [212/230]: 100%|██████████| 352/352 [00:26<00:00, 13.46it/s, loss=0.0596]\n"
          ]
        },
        {
          "output_type": "stream",
          "name": "stdout",
          "text": [
            "Train Loss: 0.096, Valid Acc:0.850\n"
          ]
        },
        {
          "output_type": "stream",
          "name": "stderr",
          "text": [
            "Epoch [213/230]: 100%|██████████| 352/352 [00:25<00:00, 13.59it/s, loss=0.148]\n"
          ]
        },
        {
          "output_type": "stream",
          "name": "stdout",
          "text": [
            "Train Loss: 0.089, Valid Acc:0.831\n"
          ]
        },
        {
          "output_type": "stream",
          "name": "stderr",
          "text": [
            "Epoch [214/230]: 100%|██████████| 352/352 [00:26<00:00, 13.49it/s, loss=0.0449]\n"
          ]
        },
        {
          "output_type": "stream",
          "name": "stdout",
          "text": [
            "Train Loss: 0.088, Valid Acc:0.843\n"
          ]
        },
        {
          "output_type": "stream",
          "name": "stderr",
          "text": [
            "Epoch [215/230]: 100%|██████████| 352/352 [00:25<00:00, 13.55it/s, loss=0.101]\n"
          ]
        },
        {
          "output_type": "stream",
          "name": "stdout",
          "text": [
            "Train Loss: 0.097, Valid Acc:0.847\n"
          ]
        },
        {
          "output_type": "stream",
          "name": "stderr",
          "text": [
            "Epoch [216/230]: 100%|██████████| 352/352 [00:25<00:00, 13.56it/s, loss=0.104]\n"
          ]
        },
        {
          "output_type": "stream",
          "name": "stdout",
          "text": [
            "Train Loss: 0.094, Valid Acc:0.844\n"
          ]
        },
        {
          "output_type": "stream",
          "name": "stderr",
          "text": [
            "Epoch [217/230]: 100%|██████████| 352/352 [00:25<00:00, 13.55it/s, loss=0.0637]\n"
          ]
        },
        {
          "output_type": "stream",
          "name": "stdout",
          "text": [
            "Train Loss: 0.088, Valid Acc:0.833\n"
          ]
        },
        {
          "output_type": "stream",
          "name": "stderr",
          "text": [
            "Epoch [218/230]: 100%|██████████| 352/352 [00:26<00:00, 13.52it/s, loss=0.0649]\n"
          ]
        },
        {
          "output_type": "stream",
          "name": "stdout",
          "text": [
            "Train Loss: 0.097, Valid Acc:0.844\n"
          ]
        },
        {
          "output_type": "stream",
          "name": "stderr",
          "text": [
            "Epoch [219/230]: 100%|██████████| 352/352 [00:25<00:00, 13.55it/s, loss=0.0696]\n"
          ]
        },
        {
          "output_type": "stream",
          "name": "stdout",
          "text": [
            "Train Loss: 0.085, Valid Acc:0.839\n"
          ]
        },
        {
          "output_type": "stream",
          "name": "stderr",
          "text": [
            "Epoch [220/230]: 100%|██████████| 352/352 [00:26<00:00, 13.45it/s, loss=0.058]\n"
          ]
        },
        {
          "output_type": "stream",
          "name": "stdout",
          "text": [
            "Train Loss: 0.090, Valid Acc:0.854\n"
          ]
        },
        {
          "output_type": "stream",
          "name": "stderr",
          "text": [
            "Epoch [221/230]: 100%|██████████| 352/352 [00:26<00:00, 13.54it/s, loss=0.153]\n"
          ]
        },
        {
          "output_type": "stream",
          "name": "stdout",
          "text": [
            "Train Loss: 0.088, Valid Acc:0.839\n"
          ]
        },
        {
          "output_type": "stream",
          "name": "stderr",
          "text": [
            "Epoch [222/230]: 100%|██████████| 352/352 [00:25<00:00, 13.56it/s, loss=0.0814]\n"
          ]
        },
        {
          "output_type": "stream",
          "name": "stdout",
          "text": [
            "Train Loss: 0.090, Valid Acc:0.854\n"
          ]
        },
        {
          "output_type": "stream",
          "name": "stderr",
          "text": [
            "Epoch [223/230]: 100%|██████████| 352/352 [00:25<00:00, 13.54it/s, loss=0.0914]\n"
          ]
        },
        {
          "output_type": "stream",
          "name": "stdout",
          "text": [
            "Train Loss: 0.093, Valid Acc:0.831\n"
          ]
        },
        {
          "output_type": "stream",
          "name": "stderr",
          "text": [
            "Epoch [224/230]: 100%|██████████| 352/352 [00:26<00:00, 13.53it/s, loss=0.154]\n"
          ]
        },
        {
          "output_type": "stream",
          "name": "stdout",
          "text": [
            "Train Loss: 0.088, Valid Acc:0.856\n"
          ]
        },
        {
          "output_type": "stream",
          "name": "stderr",
          "text": [
            "Epoch [225/230]: 100%|██████████| 352/352 [00:26<00:00, 13.44it/s, loss=0.0683]\n"
          ]
        },
        {
          "output_type": "stream",
          "name": "stdout",
          "text": [
            "Train Loss: 0.088, Valid Acc:0.862\n"
          ]
        },
        {
          "output_type": "stream",
          "name": "stderr",
          "text": [
            "Epoch [226/230]: 100%|██████████| 352/352 [00:29<00:00, 11.87it/s, loss=0.199]\n"
          ]
        },
        {
          "output_type": "stream",
          "name": "stdout",
          "text": [
            "Train Loss: 0.089, Valid Acc:0.847\n"
          ]
        },
        {
          "output_type": "stream",
          "name": "stderr",
          "text": [
            "Epoch [227/230]: 100%|██████████| 352/352 [00:26<00:00, 13.51it/s, loss=0.0319]\n"
          ]
        },
        {
          "output_type": "stream",
          "name": "stdout",
          "text": [
            "Train Loss: 0.098, Valid Acc:0.861\n"
          ]
        },
        {
          "output_type": "stream",
          "name": "stderr",
          "text": [
            "Epoch [228/230]: 100%|██████████| 352/352 [00:26<00:00, 13.53it/s, loss=0.104]\n"
          ]
        },
        {
          "output_type": "stream",
          "name": "stdout",
          "text": [
            "Train Loss: 0.087, Valid Acc:0.844\n"
          ]
        },
        {
          "output_type": "stream",
          "name": "stderr",
          "text": [
            "Epoch [229/230]: 100%|██████████| 352/352 [00:26<00:00, 13.09it/s, loss=0.124]\n"
          ]
        },
        {
          "output_type": "stream",
          "name": "stdout",
          "text": [
            "Train Loss: 0.094, Valid Acc:0.840\n"
          ]
        },
        {
          "output_type": "stream",
          "name": "stderr",
          "text": [
            "Epoch [230/230]: 100%|██████████| 352/352 [00:26<00:00, 13.46it/s, loss=0.121]\n"
          ]
        },
        {
          "output_type": "stream",
          "name": "stdout",
          "text": [
            "Train Loss: 0.089, Valid Acc:0.838\n"
          ]
        }
      ],
      "source": [
        "nin = NiN(num_classes=10)\n",
        "nin.to(device)\n",
        "\n",
        "criterion = nn.CrossEntropyLoss()\n",
        "optimizer = torch.optim.SGD(nin.parameters(), BASE_LR, MOMENTUM, 0, WEIGHT_DECAY)\n",
        "scheduler = torch.optim.lr_scheduler.StepLR(optimizer, STEP_SIZE, GAMMA)\n",
        "\n",
        "train(nin, criterion, optimizer, train_dataloader, valid_dataloader, scheduler, NUM_EPOCHS)"
      ]
    },
    {
      "cell_type": "markdown",
      "metadata": {
        "id": "jWUDmxswg4JD"
      },
      "source": [
        "### *First Testing Stage*"
      ]
    },
    {
      "cell_type": "code",
      "execution_count": null,
      "metadata": {
        "id": "P3BeQ2jOg3kc",
        "colab": {
          "base_uri": "https://localhost:8080/",
          "height": 716
        },
        "outputId": "9d4042b7-9ad6-4b93-f638-d377e4f20de2"
      },
      "outputs": [
        {
          "output_type": "display_data",
          "data": {
            "text/plain": [
              "<Figure size 864x576 with 2 Axes>"
            ],
            "image/png": "[encoded data removed]"
          },
          "metadata": {
            "needs_background": "light"
          }
        },
        {
          "output_type": "stream",
          "name": "stdout",
          "text": [
            "Acc of plane: 0.8520\n",
            "Acc of car: 0.9070\n",
            "Acc of bird: 0.7180\n",
            "Acc of cat: 0.7010\n",
            "Acc of deer: 0.8790\n",
            "Acc of dog: 0.8000\n",
            "Acc of frog: 0.9090\n",
            "Acc of horse: 0.8510\n",
            "Acc of ship: 0.9050\n",
            "Acc of truck: 0.9180\n",
            "\n",
            "Total Acc: 0.844\n"
          ]
        }
      ],
      "source": [
        "test_model = NiN(num_classes=10)\n",
        "test_model.to(device)\n",
        "best_state_dict = torch.load(\"model_state_dict.ckpt\")\n",
        "test_model.load_state_dict(best_state_dict)\n",
        "\n",
        "class_names = ['plane', 'car', 'bird', 'cat', 'deer', 'dog', 'frog', 'horse', 'ship', 'truck']\n",
        "test(test_model, test_dataloader, class_names)"
      ]
    },
    {
      "cell_type": "markdown",
      "source": [
        "Reference:\n",
        "* [Network In Network](https://arxiv.org/pdf/1312.4400.pdf)\n",
        "* [Dive into Deep Learning - Section 8.3](http://d2l.ai/chapter_convolutional-modern/nin.html)\n",
        "* [Blog Post from 星期五。見面](https://meetonfriday.com/posts/a151bfa2/)\n",
        "* [Blog Post from Math.py](https://allen108108.github.io/blog/2019/10/07/%5B%E8%AB%96%E6%96%87%5D%20Network%20In%20Network/)"
      ],
      "metadata": {
        "id": "chp2qwTyPweb"
      }
    }
  ]
}